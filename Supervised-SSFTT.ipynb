{
 "cells": [
  {
   "cell_type": "code",
   "execution_count": 1,
   "id": "cd8112da",
   "metadata": {},
   "outputs": [],
   "source": [
    "import os\n",
    "import time\n",
    "import argparse\n",
    "import numpy as np\n",
    "import scipy.io as sio\n",
    "import matplotlib as mpl\n",
    "import matplotlib.pyplot as plt\n",
    "from sklearn.decomposition import PCA\n",
    "from sklearn.preprocessing import StandardScaler\n",
    "\n",
    "\n",
    "import torch\n",
    "import torch.nn as nn\n",
    "import torch.optim as optim\n",
    "import torch.utils.data as Data\n",
    "import torch.backends.cudnn as cudnn\n",
    "\n",
    "from data_prepare import mirror_hsi\n",
    "from data_prepare import choose_train_and_test\n",
    "from data_prepare import choose_all_pixels, all_data\n",
    "from data_prepare import train_and_test_data, train_and_test_label\n",
    "\n",
    "\n",
    "import SSFTTnet\n",
    "from CNNUtils import train, test, valid\n",
    "from Utils import output_metric, plot_confusion_matrix\n",
    "from Utils import list_to_colormap, classification_map, print_args\n",
    "\n",
    "\n",
    "%matplotlib inline"
   ]
  },
  {
   "cell_type": "code",
   "execution_count": 2,
   "id": "51b90240",
   "metadata": {},
   "outputs": [],
   "source": [
    "parser = argparse.ArgumentParser(\"SSFTTnet\")\n",
    "parser.add_argument('--dataset', choices=['HU2013', 'HanChuan', 'Salinas', 'KSC'], default='Salinas', help='dataset to use')\n",
    "parser.add_argument('--seed', type=int, default=42, help='number of seed')\n",
    "parser.add_argument('--batch_size', type=int, default=32, help='number of batch size')\n",
    "parser.add_argument('--patch_size', type=int, default=15, help='size of patches')\n",
    "parser.add_argument('--epoches', type=int, default=100, help='epoch number')\n",
    "parser.add_argument('--learning_rate', type=float, default=1e-3, help='learning rate')\n",
    "parser.add_argument('--gamma', type=float, default=0.99, help='gamma')\n",
    "parser.add_argument('--weight_decay', type=float, default=0.001, help='weight_decay')\n",
    "parser.add_argument('--train_number', type=int, default=10, help='num_train_per_class')\n",
    "args = parser.parse_args(args=[])"
   ]
  },
  {
   "cell_type": "code",
   "execution_count": 3,
   "id": "f7b81a23",
   "metadata": {},
   "outputs": [
    {
     "name": "stdout",
     "output_type": "stream",
     "text": [
      "The class numbers of the HSI data is: 16\n"
     ]
    }
   ],
   "source": [
    "# prepare data\n",
    "data_path = os.path.join(os.getcwd(), 'dataset')\n",
    "\n",
    "if args.dataset == 'HU2013':\n",
    "    data = sio.loadmat(os.path.join(data_path, 'Houston.mat'))['Houston']\n",
    "    label = sio.loadmat(os.path.join(data_path, 'Houston_gt.mat'))['Houston_gt']\n",
    "elif args.dataset == 'HanChuan':\n",
    "    data = sio.loadmat(os.path.join(data_path, 'WHU_Hi_HanChuan.mat'))['WHU_Hi_HanChuan']\n",
    "    label = sio.loadmat(os.path.join(data_path, 'WHU_Hi_HanChuan_gt.mat'))['WHU_Hi_HanChuan_gt']\n",
    "elif args.dataset == 'KSC':\n",
    "    data = sio.loadmat(os.path.join(data_path, 'KSC.mat'))['KSC']\n",
    "    label = sio.loadmat(os.path.join(data_path, 'KSC_gt.mat'))['KSC_gt']\n",
    "elif args.dataset == 'Salinas':\n",
    "    data = sio.loadmat(os.path.join(data_path, 'Salinas_corrected.mat'))['salinas_corrected']\n",
    "    label = sio.loadmat(os.path.join(data_path, 'Salinas_gt.mat'))['salinas_gt']\n",
    "else:\n",
    "    raise ValueError(\"Unknown dataset\")\n",
    "\n",
    "num_classes = np.max(label)\n",
    "print('The class numbers of the HSI data is:', num_classes)"
   ]
  },
  {
   "cell_type": "code",
   "execution_count": 4,
   "id": "54a50960-4062-4207-a45d-05029082f924",
   "metadata": {},
   "outputs": [],
   "source": [
    "shapeor = data.shape\n",
    "data = data.reshape(np.prod(data.shape[:2]), np.prod(data.shape[2:]))\n",
    "\n",
    "std_scaler = StandardScaler()\n",
    "std_data = std_scaler.fit_transform(data)\n",
    "data = std_data.reshape(shapeor)"
   ]
  },
  {
   "cell_type": "code",
   "execution_count": 5,
   "id": "6d8bf170-8619-416b-b93d-e8867546c156",
   "metadata": {},
   "outputs": [],
   "source": [
    "def applyPCA(data, numComponents=30):\n",
    "    new_data = np.reshape(data, (-1, data.shape[2]))\n",
    "    pca = PCA(n_components=numComponents, whiten=True)\n",
    "    new_data = pca.fit_transform(new_data)\n",
    "    new_data = np.reshape(new_data, (data.shape[0], data.shape[1], numComponents))\n",
    "    return new_data, pca"
   ]
  },
  {
   "cell_type": "code",
   "execution_count": 6,
   "id": "9543060d",
   "metadata": {},
   "outputs": [
    {
     "name": "stdout",
     "output_type": "stream",
     "text": [
      "height=512, width=217, band=30\n"
     ]
    }
   ],
   "source": [
    "K = 30\n",
    "data, pca = applyPCA(data, numComponents=K)\n",
    "\n",
    "# data size\n",
    "height, width, band = data.shape\n",
    "print(\"height={0}, width={1}, band={2}\".format(height, width, band))"
   ]
  },
  {
   "cell_type": "code",
   "execution_count": 7,
   "id": "db5bfa11-c09d-4fba-ae2e-6625a7ba19e5",
   "metadata": {},
   "outputs": [
    {
     "name": "stdout",
     "output_type": "stream",
     "text": [
      "*******************************************************\n",
      "patch_size : 15\n",
      "mirror_data shape : [526, 231, 30]\n",
      "*******************************************************\n"
     ]
    }
   ],
   "source": [
    "mirror_data = mirror_hsi(height, width, band, data, patch_size=args.patch_size)"
   ]
  },
  {
   "cell_type": "code",
   "execution_count": 8,
   "id": "c819554f",
   "metadata": {},
   "outputs": [
    {
     "name": "stdout",
     "output_type": "stream",
     "text": [
      "*******************************************************\n",
      "x_train shape = (160, 15, 15, 30), type = float64\n",
      "x_test  shape = (53969, 15, 15, 30), type = float64\n",
      "x_valid  shape = (1600, 15, 15, 30), type = float64\n",
      "*******************************************************\n",
      "y_train: shape = (160,), type = int64\n",
      "y_test: shape = (53969,), type = int64\n",
      "y_valid: shape = (1600,), type = int64\n",
      "*******************************************************\n"
     ]
    }
   ],
   "source": [
    "total_pos_train, total_pos_test, total_pos_valid, number_train, number_test, number_valid = choose_train_and_test(label, args.train_number, args.seed) \n",
    "\n",
    "x_train, x_test, x_valid = train_and_test_data(mirror_data, band, total_pos_train, total_pos_test, total_pos_valid, args.patch_size)\n",
    "y_train, y_test, y_valid = train_and_test_label(number_train, number_test, number_valid, num_classes)"
   ]
  },
  {
   "cell_type": "code",
   "execution_count": 9,
   "id": "b13f2831-1fac-4b84-8028-8c93c3ff3116",
   "metadata": {},
   "outputs": [
    {
     "data": {
      "text/plain": [
       "array([[268,  24],\n",
       "       [245,  47],\n",
       "       [242,  56],\n",
       "       [263,  38],\n",
       "       [243,  49],\n",
       "       [246,  49],\n",
       "       [257,  21],\n",
       "       [243,  45],\n",
       "       [247,  36],\n",
       "       [245,  51]])"
      ]
     },
     "execution_count": 9,
     "metadata": {},
     "output_type": "execute_result"
    }
   ],
   "source": [
    "total_pos_train[:10]"
   ]
  },
  {
   "cell_type": "code",
   "execution_count": 10,
   "id": "7d1c8b52",
   "metadata": {},
   "outputs": [
    {
     "name": "stdout",
     "output_type": "stream",
     "text": [
      "torch.Size([160, 1, 15, 15, 30])\n",
      "torch.Size([53969, 1, 15, 15, 30])\n",
      "torch.Size([1600, 1, 15, 15, 30])\n"
     ]
    }
   ],
   "source": [
    "# load data\n",
    "x_train = torch.from_numpy(x_train).unsqueeze(1).type(torch.FloatTensor)  # (90, 1, 7, 7, 176)\n",
    "print(x_train.shape)\n",
    "y_train = torch.from_numpy(y_train).type(torch.LongTensor)  # (13,)\n",
    "train_label = Data.TensorDataset(x_train, y_train)\n",
    "\n",
    "x_test = torch.from_numpy(x_test).unsqueeze(1).type(torch.FloatTensor)  # (5198, 1, 7, 7, 176)\n",
    "print(x_test.shape)\n",
    "y_test = torch.from_numpy(y_test).type(torch.LongTensor)  # (5198,)\n",
    "test_label = Data.TensorDataset(x_test, y_test)\n",
    "\n",
    "x_valid = torch.from_numpy(x_valid).unsqueeze(1).type(torch.FloatTensor)  # (5211, 1, 7, 7, 176)\n",
    "print(x_valid.shape)\n",
    "y_valid = torch.from_numpy(y_valid).type(torch.LongTensor)\n",
    "valid_label = Data.TensorDataset(x_valid, y_valid)\n",
    "\n",
    "train_loader = Data.DataLoader(train_label, batch_size=32, shuffle=True)\n",
    "test_loader = Data.DataLoader(test_label, batch_size=128, shuffle=True)\n",
    "valid_loader = Data.DataLoader(valid_label, batch_size=64, shuffle=True)"
   ]
  },
  {
   "cell_type": "markdown",
   "id": "0e5c6fa5",
   "metadata": {},
   "source": [
    "# Model"
   ]
  },
  {
   "cell_type": "code",
   "execution_count": 11,
   "id": "6873b108",
   "metadata": {},
   "outputs": [],
   "source": [
    "model = SSFTTnet.SSFTTnet(num_classes=num_classes).cuda()\n",
    "\n",
    "criterion = nn.CrossEntropyLoss()\n",
    "optimizer = optim.Adam(model.parameters(), lr=1e-3, betas=(0.9, 0.999), eps=1e-8, weight_decay=1e-06)\n",
    "scheduler = optim.lr_scheduler.ExponentialLR(optimizer, gamma=args.gamma)"
   ]
  },
  {
   "cell_type": "code",
   "execution_count": 12,
   "id": "e0812c0c-3231-430d-92e3-469958e34df9",
   "metadata": {},
   "outputs": [],
   "source": [
    "def model_summary(model):\n",
    "    total_param = 0\n",
    "    for name, param in model.named_parameters():\n",
    "        if param.requires_grad:\n",
    "            num_param = np.prod(param.size())\n",
    "            if param.dim() > 1:\n",
    "                print(name+':', 'x'.join(str(x) for x in list(param.size())), '=', num_param)\n",
    "            else:\n",
    "                print(name+':', num_param)\n",
    "            total_param += num_param\n",
    "    print(\"\\nTotal Trainable Parameters:\", total_param)"
   ]
  },
  {
   "cell_type": "code",
   "execution_count": 13,
   "id": "9492079f-c9b1-4378-87b1-fc065d2cc6b3",
   "metadata": {
    "scrolled": true
   },
   "outputs": [
    {
     "name": "stdout",
     "output_type": "stream",
     "text": [
      "token_wA: 1x4x64 = 256\n",
      "token_wV: 1x64x64 = 4096\n",
      "pos_embedding: 1x5x64 = 320\n",
      "cls_token: 1x1x64 = 64\n",
      "conv3d_features.0.weight: 8x1x3x3x3 = 216\n",
      "conv3d_features.0.bias: 8\n",
      "conv3d_features.1.weight: 8\n",
      "conv3d_features.1.bias: 8\n",
      "conv2d_features.0.weight: 64x224x3x3 = 129024\n",
      "conv2d_features.0.bias: 64\n",
      "conv2d_features.1.weight: 64\n",
      "conv2d_features.1.bias: 64\n",
      "transformer.layers.0.0.fn.norm.weight: 64\n",
      "transformer.layers.0.0.fn.norm.bias: 64\n",
      "transformer.layers.0.0.fn.fn.to_qkv.weight: 192x64 = 12288\n",
      "transformer.layers.0.0.fn.fn.to_qkv.bias: 192\n",
      "transformer.layers.0.0.fn.fn.nn1.weight: 64x64 = 4096\n",
      "transformer.layers.0.0.fn.fn.nn1.bias: 64\n",
      "transformer.layers.0.1.fn.norm.weight: 64\n",
      "transformer.layers.0.1.fn.norm.bias: 64\n",
      "transformer.layers.0.1.fn.fn.net.0.weight: 8x64 = 512\n",
      "transformer.layers.0.1.fn.fn.net.0.bias: 8\n",
      "transformer.layers.0.1.fn.fn.net.3.weight: 64x8 = 512\n",
      "transformer.layers.0.1.fn.fn.net.3.bias: 64\n",
      "nn1.weight: 16x64 = 1024\n",
      "nn1.bias: 16\n",
      "\n",
      "Total Trainable Parameters: 153224\n"
     ]
    }
   ],
   "source": [
    "model_summary(model)"
   ]
  },
  {
   "cell_type": "code",
   "execution_count": 14,
   "id": "4d864960",
   "metadata": {
    "scrolled": true
   },
   "outputs": [
    {
     "name": "stdout",
     "output_type": "stream",
     "text": [
      "start training\n",
      "Epoch: 001 - train_loss: 2.3872 - train_acc: 34.3750 - valid_loss: 1.7863 - valid_acc: 69.5000\n",
      "val_acc improved from 0.0000 to 69.5000, saving model to SSFTTnet.pt\n",
      "Epoch: 002 - train_loss: 1.5049 - train_acc: 75.6250 - valid_loss: 1.1667 - valid_acc: 81.0625\n",
      "val_acc improved from 69.5000 to 81.0625, saving model to SSFTTnet.pt\n",
      "Epoch: 003 - train_loss: 1.0354 - train_acc: 80.6250 - valid_loss: 0.7766 - valid_acc: 82.7500\n",
      "val_acc improved from 81.0625 to 82.7500, saving model to SSFTTnet.pt\n",
      "Epoch: 004 - train_loss: 0.7033 - train_acc: 85.6250 - valid_loss: 0.4893 - valid_acc: 91.5625\n",
      "val_acc improved from 82.7500 to 91.5625, saving model to SSFTTnet.pt\n",
      "Epoch: 005 - train_loss: 0.4853 - train_acc: 92.5000 - valid_loss: 0.3188 - valid_acc: 95.3125\n",
      "val_acc improved from 91.5625 to 95.3125, saving model to SSFTTnet.pt\n",
      "Epoch: 006 - train_loss: 0.3351 - train_acc: 95.0000 - valid_loss: 0.2246 - valid_acc: 96.7500\n",
      "val_acc improved from 95.3125 to 96.7500, saving model to SSFTTnet.pt\n",
      "Epoch: 007 - train_loss: 0.2517 - train_acc: 96.8750 - valid_loss: 0.1676 - valid_acc: 96.4375\n",
      "val_acc did not improve from 96.7500\n",
      "Epoch: 008 - train_loss: 0.1744 - train_acc: 95.6250 - valid_loss: 0.1306 - valid_acc: 97.1875\n",
      "val_acc improved from 96.7500 to 97.1875, saving model to SSFTTnet.pt\n",
      "Epoch: 009 - train_loss: 0.1485 - train_acc: 96.2500 - valid_loss: 0.1077 - valid_acc: 97.8750\n",
      "val_acc improved from 97.1875 to 97.8750, saving model to SSFTTnet.pt\n",
      "Epoch: 010 - train_loss: 0.1147 - train_acc: 98.1250 - valid_loss: 0.0918 - valid_acc: 97.6875\n",
      "val_acc did not improve from 97.8750\n",
      "Epoch: 011 - train_loss: 0.0922 - train_acc: 98.7500 - valid_loss: 0.0833 - valid_acc: 97.6250\n",
      "val_acc did not improve from 97.8750\n",
      "Epoch: 012 - train_loss: 0.0766 - train_acc: 98.1250 - valid_loss: 0.0830 - valid_acc: 97.3125\n",
      "val_acc did not improve from 97.8750\n",
      "Epoch: 013 - train_loss: 0.0860 - train_acc: 97.5000 - valid_loss: 0.0744 - valid_acc: 97.3750\n",
      "val_acc did not improve from 97.8750\n",
      "Epoch: 014 - train_loss: 0.0640 - train_acc: 98.7500 - valid_loss: 0.0749 - valid_acc: 97.2500\n",
      "val_acc did not improve from 97.8750\n",
      "Epoch: 015 - train_loss: 0.0365 - train_acc: 100.0000 - valid_loss: 0.0688 - valid_acc: 97.5000\n",
      "val_acc did not improve from 97.8750\n",
      "Epoch: 016 - train_loss: 0.0376 - train_acc: 99.3750 - valid_loss: 0.0687 - valid_acc: 97.4375\n",
      "val_acc did not improve from 97.8750\n",
      "Epoch: 017 - train_loss: 0.0415 - train_acc: 98.7500 - valid_loss: 0.0787 - valid_acc: 97.2500\n",
      "val_acc did not improve from 97.8750\n",
      "Epoch: 018 - train_loss: 0.0377 - train_acc: 100.0000 - valid_loss: 0.0790 - valid_acc: 97.1250\n",
      "val_acc did not improve from 97.8750\n",
      "Epoch: 019 - train_loss: 0.0224 - train_acc: 100.0000 - valid_loss: 0.0758 - valid_acc: 97.2500\n",
      "val_acc did not improve from 97.8750\n",
      "Epoch: 020 - train_loss: 0.0363 - train_acc: 98.7500 - valid_loss: 0.0621 - valid_acc: 97.6250\n",
      "val_acc did not improve from 97.8750\n",
      "Epoch: 021 - train_loss: 0.0214 - train_acc: 100.0000 - valid_loss: 0.0780 - valid_acc: 97.1875\n",
      "val_acc did not improve from 97.8750\n",
      "Epoch: 022 - train_loss: 0.0371 - train_acc: 98.1250 - valid_loss: 0.0798 - valid_acc: 97.6875\n",
      "val_acc did not improve from 97.8750\n",
      "Epoch: 023 - train_loss: 0.0333 - train_acc: 98.7500 - valid_loss: 0.0775 - valid_acc: 97.3750\n",
      "val_acc did not improve from 97.8750\n",
      "Epoch: 024 - train_loss: 0.0921 - train_acc: 97.5000 - valid_loss: 0.1325 - valid_acc: 96.5625\n",
      "val_acc did not improve from 97.8750\n",
      "Epoch: 025 - train_loss: 0.0434 - train_acc: 97.5000 - valid_loss: 0.0726 - valid_acc: 97.5000\n",
      "val_acc did not improve from 97.8750\n",
      "Epoch: 026 - train_loss: 0.0393 - train_acc: 98.7500 - valid_loss: 0.0700 - valid_acc: 97.6875\n",
      "val_acc did not improve from 97.8750\n",
      "Epoch: 027 - train_loss: 0.0133 - train_acc: 100.0000 - valid_loss: 0.0824 - valid_acc: 97.4375\n",
      "val_acc did not improve from 97.8750\n",
      "Epoch: 028 - train_loss: 0.0207 - train_acc: 99.3750 - valid_loss: 0.0834 - valid_acc: 97.5000\n",
      "val_acc did not improve from 97.8750\n",
      "Epoch: 029 - train_loss: 0.0119 - train_acc: 100.0000 - valid_loss: 0.0700 - valid_acc: 97.6250\n",
      "val_acc did not improve from 97.8750\n",
      "Epoch: 030 - train_loss: 0.0115 - train_acc: 100.0000 - valid_loss: 0.0684 - valid_acc: 97.9375\n",
      "val_acc improved from 97.8750 to 97.9375, saving model to SSFTTnet.pt\n",
      "Epoch: 031 - train_loss: 0.0111 - train_acc: 100.0000 - valid_loss: 0.0705 - valid_acc: 97.8125\n",
      "val_acc did not improve from 97.9375\n",
      "Epoch: 032 - train_loss: 0.0074 - train_acc: 100.0000 - valid_loss: 0.0762 - valid_acc: 97.6250\n",
      "val_acc did not improve from 97.9375\n",
      "Epoch: 033 - train_loss: 0.0074 - train_acc: 100.0000 - valid_loss: 0.0814 - valid_acc: 97.6250\n",
      "val_acc did not improve from 97.9375\n",
      "Epoch: 034 - train_loss: 0.0068 - train_acc: 100.0000 - valid_loss: 0.0805 - valid_acc: 97.6250\n",
      "val_acc did not improve from 97.9375\n",
      "Epoch: 035 - train_loss: 0.0061 - train_acc: 100.0000 - valid_loss: 0.0776 - valid_acc: 97.6875\n",
      "val_acc did not improve from 97.9375\n",
      "Epoch: 036 - train_loss: 0.0063 - train_acc: 100.0000 - valid_loss: 0.0740 - valid_acc: 97.8125\n",
      "val_acc did not improve from 97.9375\n",
      "Epoch: 037 - train_loss: 0.0050 - train_acc: 100.0000 - valid_loss: 0.0692 - valid_acc: 97.7500\n",
      "val_acc did not improve from 97.9375\n",
      "Epoch: 038 - train_loss: 0.0044 - train_acc: 100.0000 - valid_loss: 0.0654 - valid_acc: 97.8750\n",
      "val_acc did not improve from 97.9375\n",
      "Epoch: 039 - train_loss: 0.0069 - train_acc: 100.0000 - valid_loss: 0.0627 - valid_acc: 98.1875\n",
      "val_acc improved from 97.9375 to 98.1875, saving model to SSFTTnet.pt\n",
      "Epoch: 040 - train_loss: 0.0045 - train_acc: 100.0000 - valid_loss: 0.0625 - valid_acc: 98.2500\n",
      "val_acc improved from 98.1875 to 98.2500, saving model to SSFTTnet.pt\n",
      "Epoch: 041 - train_loss: 0.0049 - train_acc: 100.0000 - valid_loss: 0.0630 - valid_acc: 98.2500\n",
      "val_acc did not improve from 98.2500\n",
      "Epoch: 042 - train_loss: 0.0037 - train_acc: 100.0000 - valid_loss: 0.0631 - valid_acc: 98.2500\n",
      "val_acc did not improve from 98.2500\n",
      "Epoch: 043 - train_loss: 0.0050 - train_acc: 100.0000 - valid_loss: 0.0633 - valid_acc: 98.2500\n",
      "val_acc did not improve from 98.2500\n",
      "Epoch: 044 - train_loss: 0.0041 - train_acc: 100.0000 - valid_loss: 0.0633 - valid_acc: 98.2500\n",
      "val_acc did not improve from 98.2500\n",
      "Epoch: 045 - train_loss: 0.0054 - train_acc: 100.0000 - valid_loss: 0.0631 - valid_acc: 98.3125\n",
      "val_acc improved from 98.2500 to 98.3125, saving model to SSFTTnet.pt\n",
      "Epoch: 046 - train_loss: 0.0042 - train_acc: 100.0000 - valid_loss: 0.0631 - valid_acc: 98.2500\n",
      "val_acc did not improve from 98.3125\n",
      "Epoch: 047 - train_loss: 0.0041 - train_acc: 100.0000 - valid_loss: 0.0634 - valid_acc: 98.2500\n",
      "val_acc did not improve from 98.3125\n",
      "Epoch: 048 - train_loss: 0.0075 - train_acc: 100.0000 - valid_loss: 0.0649 - valid_acc: 98.0000\n",
      "val_acc did not improve from 98.3125\n",
      "Epoch: 049 - train_loss: 0.0038 - train_acc: 100.0000 - valid_loss: 0.0637 - valid_acc: 98.2500\n",
      "val_acc did not improve from 98.3125\n",
      "Epoch: 050 - train_loss: 0.0039 - train_acc: 100.0000 - valid_loss: 0.0637 - valid_acc: 98.2500\n",
      "val_acc did not improve from 98.3125\n",
      "Epoch: 051 - train_loss: 0.0033 - train_acc: 100.0000 - valid_loss: 0.0643 - valid_acc: 98.2500\n",
      "val_acc did not improve from 98.3125\n",
      "Epoch: 052 - train_loss: 0.0028 - train_acc: 100.0000 - valid_loss: 0.0654 - valid_acc: 98.2500\n",
      "val_acc did not improve from 98.3125\n",
      "Epoch: 053 - train_loss: 0.0036 - train_acc: 100.0000 - valid_loss: 0.0666 - valid_acc: 98.3125\n",
      "val_acc did not improve from 98.3125\n",
      "Epoch: 054 - train_loss: 0.0045 - train_acc: 100.0000 - valid_loss: 0.0679 - valid_acc: 98.3125\n",
      "val_acc did not improve from 98.3125\n",
      "Epoch: 055 - train_loss: 0.0036 - train_acc: 100.0000 - valid_loss: 0.0678 - valid_acc: 98.3125\n",
      "val_acc did not improve from 98.3125\n",
      "Epoch: 056 - train_loss: 0.0031 - train_acc: 100.0000 - valid_loss: 0.0673 - valid_acc: 98.3125\n",
      "val_acc did not improve from 98.3125\n",
      "Epoch: 057 - train_loss: 0.0030 - train_acc: 100.0000 - valid_loss: 0.0670 - valid_acc: 98.1875\n",
      "val_acc did not improve from 98.3125\n",
      "Epoch: 058 - train_loss: 0.0037 - train_acc: 100.0000 - valid_loss: 0.0664 - valid_acc: 98.1875\n",
      "val_acc did not improve from 98.3125\n",
      "Epoch: 059 - train_loss: 0.0029 - train_acc: 100.0000 - valid_loss: 0.0656 - valid_acc: 98.2500\n",
      "val_acc did not improve from 98.3125\n",
      "Epoch: 060 - train_loss: 0.0025 - train_acc: 100.0000 - valid_loss: 0.0645 - valid_acc: 98.1875\n",
      "val_acc did not improve from 98.3125\n",
      "Epoch: 061 - train_loss: 0.0026 - train_acc: 100.0000 - valid_loss: 0.0645 - valid_acc: 98.2500\n",
      "val_acc did not improve from 98.3125\n",
      "Epoch: 062 - train_loss: 0.0024 - train_acc: 100.0000 - valid_loss: 0.0645 - valid_acc: 98.2500\n",
      "val_acc did not improve from 98.3125\n",
      "Epoch: 063 - train_loss: 0.0022 - train_acc: 100.0000 - valid_loss: 0.0648 - valid_acc: 98.2500\n",
      "val_acc did not improve from 98.3125\n",
      "Epoch: 064 - train_loss: 0.0021 - train_acc: 100.0000 - valid_loss: 0.0649 - valid_acc: 98.2500\n",
      "val_acc did not improve from 98.3125\n",
      "Epoch: 065 - train_loss: 0.0024 - train_acc: 100.0000 - valid_loss: 0.0653 - valid_acc: 98.2500\n",
      "val_acc did not improve from 98.3125\n",
      "Epoch: 066 - train_loss: 0.0024 - train_acc: 100.0000 - valid_loss: 0.0662 - valid_acc: 98.1250\n",
      "val_acc did not improve from 98.3125\n",
      "Epoch: 067 - train_loss: 0.0023 - train_acc: 100.0000 - valid_loss: 0.0667 - valid_acc: 98.0625\n",
      "val_acc did not improve from 98.3125\n",
      "Epoch: 068 - train_loss: 0.0025 - train_acc: 100.0000 - valid_loss: 0.0674 - valid_acc: 98.0000\n",
      "val_acc did not improve from 98.3125\n",
      "Epoch: 069 - train_loss: 0.0021 - train_acc: 100.0000 - valid_loss: 0.0667 - valid_acc: 98.0000\n",
      "val_acc did not improve from 98.3125\n",
      "Epoch: 070 - train_loss: 0.0018 - train_acc: 100.0000 - valid_loss: 0.0662 - valid_acc: 98.0000\n",
      "val_acc did not improve from 98.3125\n",
      "Epoch: 071 - train_loss: 0.0020 - train_acc: 100.0000 - valid_loss: 0.0661 - valid_acc: 98.0625\n",
      "val_acc did not improve from 98.3125\n",
      "Epoch: 072 - train_loss: 0.0019 - train_acc: 100.0000 - valid_loss: 0.0653 - valid_acc: 98.1875\n",
      "val_acc did not improve from 98.3125\n",
      "Epoch: 073 - train_loss: 0.0015 - train_acc: 100.0000 - valid_loss: 0.0650 - valid_acc: 98.1875\n",
      "val_acc did not improve from 98.3125\n",
      "Epoch: 074 - train_loss: 0.0023 - train_acc: 100.0000 - valid_loss: 0.0650 - valid_acc: 98.1875\n",
      "val_acc did not improve from 98.3125\n",
      "Epoch: 075 - train_loss: 0.0016 - train_acc: 100.0000 - valid_loss: 0.0649 - valid_acc: 98.3125\n",
      "val_acc did not improve from 98.3125\n",
      "Epoch: 076 - train_loss: 0.0019 - train_acc: 100.0000 - valid_loss: 0.0641 - valid_acc: 98.2500\n",
      "val_acc did not improve from 98.3125\n",
      "Epoch: 077 - train_loss: 0.0019 - train_acc: 100.0000 - valid_loss: 0.0637 - valid_acc: 98.2500\n",
      "val_acc did not improve from 98.3125\n",
      "Epoch: 078 - train_loss: 0.0020 - train_acc: 100.0000 - valid_loss: 0.0640 - valid_acc: 98.3125\n",
      "val_acc did not improve from 98.3125\n",
      "Epoch: 079 - train_loss: 0.0015 - train_acc: 100.0000 - valid_loss: 0.0640 - valid_acc: 98.2500\n",
      "val_acc did not improve from 98.3125\n",
      "Epoch: 080 - train_loss: 0.0020 - train_acc: 100.0000 - valid_loss: 0.0643 - valid_acc: 98.3125\n",
      "val_acc did not improve from 98.3125\n",
      "Epoch: 081 - train_loss: 0.0014 - train_acc: 100.0000 - valid_loss: 0.0643 - valid_acc: 98.3125\n",
      "val_acc did not improve from 98.3125\n",
      "Epoch: 082 - train_loss: 0.0020 - train_acc: 100.0000 - valid_loss: 0.0639 - valid_acc: 98.3125\n",
      "val_acc did not improve from 98.3125\n",
      "Epoch: 083 - train_loss: 0.0028 - train_acc: 100.0000 - valid_loss: 0.0641 - valid_acc: 98.3125\n",
      "val_acc did not improve from 98.3125\n",
      "Epoch: 084 - train_loss: 0.0022 - train_acc: 100.0000 - valid_loss: 0.0638 - valid_acc: 98.3125\n",
      "val_acc did not improve from 98.3125\n",
      "Epoch: 085 - train_loss: 0.0015 - train_acc: 100.0000 - valid_loss: 0.0645 - valid_acc: 98.3125\n",
      "val_acc did not improve from 98.3125\n",
      "Epoch: 086 - train_loss: 0.0015 - train_acc: 100.0000 - valid_loss: 0.0644 - valid_acc: 98.3125\n",
      "val_acc did not improve from 98.3125\n",
      "Epoch: 087 - train_loss: 0.0016 - train_acc: 100.0000 - valid_loss: 0.0647 - valid_acc: 98.3125\n",
      "val_acc did not improve from 98.3125\n",
      "Epoch: 088 - train_loss: 0.0013 - train_acc: 100.0000 - valid_loss: 0.0648 - valid_acc: 98.2500\n",
      "val_acc did not improve from 98.3125\n",
      "Epoch: 089 - train_loss: 0.0014 - train_acc: 100.0000 - valid_loss: 0.0644 - valid_acc: 98.2500\n",
      "val_acc did not improve from 98.3125\n",
      "Epoch: 090 - train_loss: 0.0014 - train_acc: 100.0000 - valid_loss: 0.0641 - valid_acc: 98.3125\n",
      "val_acc did not improve from 98.3125\n",
      "Epoch: 091 - train_loss: 0.0017 - train_acc: 100.0000 - valid_loss: 0.0643 - valid_acc: 98.2500\n",
      "val_acc did not improve from 98.3125\n",
      "Epoch: 092 - train_loss: 0.0016 - train_acc: 100.0000 - valid_loss: 0.0643 - valid_acc: 98.3125\n",
      "val_acc did not improve from 98.3125\n",
      "Epoch: 093 - train_loss: 0.0013 - train_acc: 100.0000 - valid_loss: 0.0637 - valid_acc: 98.3125\n",
      "val_acc did not improve from 98.3125\n",
      "Epoch: 094 - train_loss: 0.0012 - train_acc: 100.0000 - valid_loss: 0.0636 - valid_acc: 98.3125\n",
      "val_acc did not improve from 98.3125\n",
      "Epoch: 095 - train_loss: 0.0012 - train_acc: 100.0000 - valid_loss: 0.0634 - valid_acc: 98.3125\n",
      "val_acc did not improve from 98.3125\n",
      "Epoch: 096 - train_loss: 0.0014 - train_acc: 100.0000 - valid_loss: 0.0629 - valid_acc: 98.3125\n",
      "val_acc did not improve from 98.3125\n",
      "Epoch: 097 - train_loss: 0.0014 - train_acc: 100.0000 - valid_loss: 0.0628 - valid_acc: 98.3125\n",
      "val_acc did not improve from 98.3125\n",
      "Epoch: 098 - train_loss: 0.0017 - train_acc: 100.0000 - valid_loss: 0.0637 - valid_acc: 98.2500\n",
      "val_acc did not improve from 98.3125\n",
      "Epoch: 099 - train_loss: 0.0011 - train_acc: 100.0000 - valid_loss: 0.0639 - valid_acc: 98.2500\n",
      "val_acc did not improve from 98.3125\n",
      "Epoch: 100 - train_loss: 0.0013 - train_acc: 100.0000 - valid_loss: 0.0644 - valid_acc: 98.2500\n",
      "val_acc did not improve from 98.3125\n",
      "Running Time: 9.01\n",
      "**************************************************\n"
     ]
    }
   ],
   "source": [
    "print('start training')\n",
    "acc_list = [0.00]\n",
    "path = './model/SSFTTnet.pt'\n",
    "tic = time.time()\n",
    "for epoch in range(args.epoches):\n",
    "    # 计算的是移动平均准确率\n",
    "    train_acc, train_loss = train(model, train_loader, criterion, optimizer)\n",
    "    valid_acc, valid_loss = valid(model, valid_loader, criterion)\n",
    "    print(\"Epoch: {:03d} - train_loss: {:.4f} - train_acc: {:.4f} - valid_loss: {:.4f} - valid_acc: {:.4f}\".\\\n",
    "          format(epoch+1, train_loss, train_acc, valid_loss, valid_acc))\n",
    "    scheduler.step()\n",
    "\n",
    "    acc_list.append(valid_acc)\n",
    "    if acc_list[-1] > acc_list[-2]:\n",
    "        print(\"val_acc improved from {:.4f} to {:.4f}, saving model to SSFTTnet.pt\".format(acc_list[-2], acc_list[-1]))\n",
    "        torch.save(model.state_dict(), path)\n",
    "    else:\n",
    "        print(\"val_acc did not improve from {:.4f}\".format(acc_list[-2]))\n",
    "        acc_list[-1] = acc_list[-2]\n",
    "\n",
    "toc = time.time()\n",
    "print(\"Running Time: {:.2f}\".format(toc-tic))\n",
    "print(\"**************************************************\")"
   ]
  },
  {
   "cell_type": "code",
   "execution_count": 15,
   "id": "1c3626e5",
   "metadata": {},
   "outputs": [],
   "source": [
    "model.load_state_dict(torch.load(path))\n",
    "model.eval()\n",
    "\n",
    "tar_test, pre_test = test(model, test_loader)\n",
    "OA_test, AA_mean_test, Kappa_test, AA_test = output_metric(tar_test, pre_test)\n",
    "AA_test = np.around(AA_test*100, 2)"
   ]
  },
  {
   "cell_type": "code",
   "execution_count": 16,
   "id": "826851e2-83a5-44b1-8538-f660a9c5fd16",
   "metadata": {},
   "outputs": [
    {
     "name": "stdout",
     "output_type": "stream",
     "text": [
      "*******************************************************************\n",
      "Final result:\n",
      "OA: 95.52, AA: 98.27, Kappa: 0.9502\n",
      "*******************************************************************\n",
      "Recal: [ 98.8  100.   100.   100.    99.18  99.97  99.92  84.5   99.73  98.78\n",
      "  99.91  99.84  99.56 100.    92.35  99.83]\n",
      "*******************************************************************\n",
      "Parameter:\n",
      "dataset: Salinas\n",
      "seed: 42\n",
      "batch_size: 32\n",
      "patch_size: 15\n",
      "epoches: 100\n",
      "learning_rate: 0.001\n",
      "gamma: 0.99\n",
      "weight_decay: 0.001\n",
      "train_number: 10\n",
      "*******************************************************************\n"
     ]
    }
   ],
   "source": [
    "print(\"*******************************************************************\")\n",
    "print(\"Final result:\")\n",
    "print(\"OA: {:.2f}, AA: {:.2f}, Kappa: {:.4f}\".format(OA_test * 100., AA_mean_test*100., Kappa_test))\n",
    "print(\"*******************************************************************\")\n",
    "print(\"Recal: {}\".format(AA_test))\n",
    "print(\"*******************************************************************\")\n",
    "print(\"Parameter:\")\n",
    "print_args(vars(args))\n",
    "print(\"*******************************************************************\")"
   ]
  },
  {
   "cell_type": "code",
   "execution_count": 17,
   "id": "773fb81a-7fef-4b4e-8ca7-31defc8b9e29",
   "metadata": {},
   "outputs": [],
   "source": [
    "average_accuracy = str(list(AA_test))\n",
    "file_name = \"./CR/ssftt_1.txt\"\n",
    "\n",
    "with open(file_name, 'w') as x_file:\n",
    "    x_file.write(\"[{:.2f}, {:.2f}, {:.4f}]\".format(OA_test * 100., AA_mean_test*100., Kappa_test))\n",
    "    x_file.write('\\n')\n",
    "    x_file.write('{}'.format(average_accuracy))"
   ]
  },
  {
   "cell_type": "markdown",
   "id": "ab9cd7f9-ab7c-4256-a8d4-f255eb183e3a",
   "metadata": {},
   "source": [
    "## Panoramic Classification"
   ]
  },
  {
   "cell_type": "code",
   "execution_count": 18,
   "id": "b11bdfae-e531-4cbc-b74a-f7cad5ea7720",
   "metadata": {},
   "outputs": [],
   "source": [
    "def output_label(model, loader):\n",
    "    model.eval()\n",
    "    pre = np.array([]).astype('int')\n",
    "    with torch.no_grad():\n",
    "        for batch_idx, (batch_data, batch_target) in enumerate(loader):\n",
    "            batch_data = batch_data.cuda()\n",
    "            batch_pred = model(batch_data)  # (B, 9)\n",
    "            _, pred = batch_pred.topk(1, axis=1)  # (B, 1)\n",
    "            pp = pred.squeeze()\n",
    "            pre = np.append(pre, pp.data.cpu().numpy())\n",
    "    return pre"
   ]
  },
  {
   "cell_type": "code",
   "execution_count": 19,
   "id": "4218e473-a9f2-40b3-8b74-560b730001f8",
   "metadata": {},
   "outputs": [
    {
     "name": "stdout",
     "output_type": "stream",
     "text": [
      "*******************************************************\n",
      "x_forward shape = (54129, 15, 15, 30), type = float64\n",
      "x_backward  shape = (56975, 15, 15, 30), type = float64\n",
      "*******************************************************\n"
     ]
    }
   ],
   "source": [
    "pos_forward, pos_backward = choose_all_pixels(label)\n",
    "\n",
    "x_forward, x_backward, y_forward, y_backward = all_data(mirror_data, band, pos_forward, pos_backward, patch_size=args.patch_size)"
   ]
  },
  {
   "cell_type": "code",
   "execution_count": 20,
   "id": "fe89be27-9cdf-40e9-99ac-4b36dc1dfe55",
   "metadata": {},
   "outputs": [
    {
     "name": "stdout",
     "output_type": "stream",
     "text": [
      "torch.Size([54129, 1, 15, 15, 30])\n",
      "torch.Size([56975, 1, 15, 15, 30])\n"
     ]
    }
   ],
   "source": [
    "# load data\n",
    "x_forward = torch.from_numpy(x_forward).unsqueeze(1).type(torch.FloatTensor)\n",
    "print(x_forward.shape)\n",
    "y_forward = torch.from_numpy(y_forward).type(torch.LongTensor)  # (13,)\n",
    "forward_label = Data.TensorDataset(x_forward, y_forward)\n",
    "\n",
    "x_backward = torch.from_numpy(x_backward).unsqueeze(1).type(torch.FloatTensor)\n",
    "print(x_backward.shape)\n",
    "y_backward = torch.from_numpy(y_backward).type(torch.LongTensor)  # (13,)\n",
    "backward_label = Data.TensorDataset(x_backward, y_backward)\n",
    "\n",
    "forward_loader = Data.DataLoader(forward_label, batch_size=128, shuffle=False)\n",
    "backward_loader = Data.DataLoader(backward_label, batch_size=128, shuffle=False)"
   ]
  },
  {
   "cell_type": "code",
   "execution_count": 21,
   "id": "49673062-4b76-4076-8c7f-d5adf53424fd",
   "metadata": {},
   "outputs": [],
   "source": [
    "# output classification maps\n",
    "pre_forward = output_label(model, forward_loader)\n",
    "pre_backward = output_label(model, backward_loader)\n",
    "\n",
    "prediction_matrix = np.zeros((height, width), dtype=float)  # (512, 614)\n",
    "for i in range(pos_forward.shape[0]):\n",
    "    prediction_matrix[pos_forward[i, 0], pos_forward[i, 1]] = pre_forward[i] + 1\n",
    "\n",
    "for j in range(pos_backward.shape[0]):\n",
    "    prediction_matrix[pos_backward[j, 0], pos_backward[j, 1]] = pre_backward[j] + 1"
   ]
  },
  {
   "cell_type": "code",
   "execution_count": 22,
   "id": "0a73d619-354f-4ff7-ad17-595a82acac06",
   "metadata": {},
   "outputs": [
    {
     "data": {
      "image/png": "[encoded data removed]",
      "text/plain": [
       "<Figure size 144.667x341.333 with 1 Axes>"
      ]
     },
     "metadata": {},
     "output_type": "display_data"
    }
   ],
   "source": [
    "predict_map = list_to_colormap(prediction_matrix.ravel())\n",
    "predict_map = np.reshape(predict_map, (height, width, 3))\n",
    "\n",
    "classification_map(predict_map, './salinas_ssftt.pdf')"
   ]
  }
 ],
 "metadata": {
  "kernelspec": {
   "display_name": "Python 3 (ipykernel)",
   "language": "python",
   "name": "python3"
  },
  "language_info": {
   "codemirror_mode": {
    "name": "ipython",
    "version": 3
   },
   "file_extension": ".py",
   "mimetype": "text/x-python",
   "name": "python",
   "nbconvert_exporter": "python",
   "pygments_lexer": "ipython3",
   "version": "3.10.12"
  }
 },
 "nbformat": 4,
 "nbformat_minor": 5
}
