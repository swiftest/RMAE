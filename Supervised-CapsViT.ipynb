{
 "cells": [
  {
   "cell_type": "code",
   "execution_count": 1,
   "metadata": {},
   "outputs": [],
   "source": [
    "import os\n",
    "import time\n",
    "import argparse\n",
    "import numpy as np\n",
    "import scipy.io as sio\n",
    "import matplotlib as mpl\n",
    "import torch.utils.data as Data\n",
    "import matplotlib.pyplot as plt\n",
    "from sklearn.decomposition import PCA\n",
    "from sklearn.preprocessing import StandardScaler\n",
    "\n",
    "\n",
    "import torch\n",
    "import torch.nn as nn\n",
    "from torch import optim\n",
    "import torch.utils.data as Data\n",
    "import torch.nn.functional as F\n",
    "from sklearn.metrics import confusion_matrix\n",
    "\n",
    "\n",
    "from data_prepare import mirror_hsi\n",
    "from data_prepare import choose_train_and_test\n",
    "from data_prepare import choose_all_pixels, all_data\n",
    "from data_prepare import train_and_test_data, train_and_test_label\n",
    "\n",
    "\n",
    "from Utils import train, test, valid\n",
    "from Utils import output_metric, plot_confusion_matrix\n",
    "from Utils import list_to_colormap, classification_map, print_args\n",
    "from capsvit import CapsViT, Margin_Recon_Loss\n",
    "\n",
    "\n",
    "%matplotlib inline"
   ]
  },
  {
   "cell_type": "code",
   "execution_count": 2,
   "metadata": {},
   "outputs": [],
   "source": [
    "parser = argparse.ArgumentParser(\"CapsViT\")\n",
    "parser.add_argument('--dataset', choices=['HU2013', 'Salinas', 'HongHu', 'KSC'], default='Salinas', help='dataset to use')\n",
    "parser.add_argument('--seed', type=int, default=42, help='number of seed')\n",
    "parser.add_argument('--batch_size', type=int, default=32, help='number of batch size')\n",
    "parser.add_argument('--patch_size', type=int, default=15, help='size of patches')\n",
    "parser.add_argument('--epoches', type=int, default=100, help='epoch number')\n",
    "parser.add_argument('--learning_rate', type=float, default=1e-3, help='learning rate')\n",
    "parser.add_argument('--gamma', type=float, default=0.99, help='gamma')\n",
    "parser.add_argument('--weight_decay', type=float, default=0.001, help='weight_decay')\n",
    "parser.add_argument('--train_number', type=int, default=10, help='num_train_per_class')\n",
    "args = parser.parse_args(args=[])"
   ]
  },
  {
   "cell_type": "code",
   "execution_count": 3,
   "metadata": {},
   "outputs": [
    {
     "name": "stdout",
     "output_type": "stream",
     "text": [
      "The class numbers of the HSI data is: 16\n"
     ]
    }
   ],
   "source": [
    "# prepare data\n",
    "data_path = os.path.join(os.getcwd(), 'dataset')\n",
    "\n",
    "if args.dataset == 'HU2013':\n",
    "    data = sio.loadmat(os.path.join(data_path, 'Houston.mat'))['Houston']\n",
    "    label = sio.loadmat(os.path.join(data_path, 'Houston_gt.mat'))['Houston_gt']\n",
    "elif args.dataset == 'HanChuan':\n",
    "    data = sio.loadmat(os.path.join(data_path, 'WHU_Hi_HanChuan.mat'))['WHU_Hi_HanChuan']\n",
    "    label = sio.loadmat(os.path.join(data_path, 'WHU_Hi_HanChuan_gt.mat'))['WHU_Hi_HanChuan_gt']\n",
    "elif args.dataset == 'KSC':\n",
    "    data = sio.loadmat(os.path.join(data_path, 'KSC.mat'))['KSC']\n",
    "    label = sio.loadmat(os.path.join(data_path, 'KSC_gt.mat'))['KSC_gt']\n",
    "elif args.dataset == 'Salinas':\n",
    "    data = sio.loadmat(os.path.join(data_path, 'Salinas_corrected.mat'))['salinas_corrected']\n",
    "    label = sio.loadmat(os.path.join(data_path, 'Salinas_gt.mat'))['salinas_gt']\n",
    "else:\n",
    "    raise ValueError(\"Unknown dataset\")\n",
    "\n",
    "num_classes = np.max(label)\n",
    "print('The class numbers of the HSI data is:', num_classes)"
   ]
  },
  {
   "cell_type": "code",
   "execution_count": 4,
   "metadata": {},
   "outputs": [],
   "source": [
    "shapeor = data.shape\n",
    "data = data.reshape(np.prod(data.shape[:2]), np.prod(data.shape[2:]))\n",
    "\n",
    "std_scaler = StandardScaler()\n",
    "std_data = std_scaler.fit_transform(data)\n",
    "data = std_data.reshape(shapeor)"
   ]
  },
  {
   "cell_type": "code",
   "execution_count": 5,
   "metadata": {},
   "outputs": [],
   "source": [
    "def applyPCA(data, numComponents=30):\n",
    "    new_data = np.reshape(data, (-1, data.shape[2]))\n",
    "    pca = PCA(n_components=numComponents, whiten=True)\n",
    "    new_data = pca.fit_transform(new_data)\n",
    "    new_data = np.reshape(new_data, (data.shape[0], data.shape[1], numComponents))\n",
    "    return new_data, pca"
   ]
  },
  {
   "cell_type": "code",
   "execution_count": 6,
   "metadata": {},
   "outputs": [
    {
     "name": "stdout",
     "output_type": "stream",
     "text": [
      "height=512, width=217, band=15\n"
     ]
    }
   ],
   "source": [
    "K = 15\n",
    "data, pca = applyPCA(data, numComponents=K)\n",
    "\n",
    "# data size\n",
    "height, width, band = data.shape\n",
    "print(\"height={0}, width={1}, band={2}\".format(height, width, band))"
   ]
  },
  {
   "cell_type": "markdown",
   "metadata": {},
   "source": [
    "## Dataloader Construction"
   ]
  },
  {
   "cell_type": "code",
   "execution_count": 7,
   "metadata": {},
   "outputs": [
    {
     "name": "stdout",
     "output_type": "stream",
     "text": [
      "*******************************************************\n",
      "patch_size : 15\n",
      "mirror_data shape : [526, 231, 15]\n",
      "*******************************************************\n"
     ]
    }
   ],
   "source": [
    "mirror_data = mirror_hsi(height, width, band, data, patch_size=args.patch_size)"
   ]
  },
  {
   "cell_type": "code",
   "execution_count": 8,
   "metadata": {},
   "outputs": [
    {
     "name": "stdout",
     "output_type": "stream",
     "text": [
      "*******************************************************\n",
      "x_train shape = (160, 15, 15, 15), type = float64\n",
      "x_test  shape = (53969, 15, 15, 15), type = float64\n",
      "x_valid  shape = (1600, 15, 15, 15), type = float64\n",
      "*******************************************************\n",
      "y_train: shape = (160,), type = int64\n",
      "y_test: shape = (53969,), type = int64\n",
      "y_valid: shape = (1600,), type = int64\n",
      "*******************************************************\n"
     ]
    }
   ],
   "source": [
    "total_pos_train, total_pos_test, total_pos_valid, number_train, number_test, number_valid = choose_train_and_test(label, args.train_number, args.seed) \n",
    "\n",
    "x_train, x_test, x_valid = train_and_test_data(mirror_data, band, total_pos_train, total_pos_test, total_pos_valid, args.patch_size)\n",
    "y_train, y_test, y_valid = train_and_test_label(number_train, number_test, number_valid, num_classes)"
   ]
  },
  {
   "cell_type": "code",
   "execution_count": 9,
   "metadata": {},
   "outputs": [
    {
     "data": {
      "text/plain": [
       "array([[268,  24],\n",
       "       [245,  47],\n",
       "       [242,  56],\n",
       "       [263,  38],\n",
       "       [243,  49],\n",
       "       [246,  49],\n",
       "       [257,  21],\n",
       "       [243,  45],\n",
       "       [247,  36],\n",
       "       [245,  51]])"
      ]
     },
     "execution_count": 9,
     "metadata": {},
     "output_type": "execute_result"
    }
   ],
   "source": [
    "total_pos_train[:10]"
   ]
  },
  {
   "cell_type": "code",
   "execution_count": 10,
   "metadata": {},
   "outputs": [
    {
     "name": "stdout",
     "output_type": "stream",
     "text": [
      "torch.Size([160, 15, 15, 15])\n",
      "torch.Size([53969, 15, 15, 15])\n",
      "torch.Size([1600, 15, 15, 15])\n"
     ]
    }
   ],
   "source": [
    "# load data\n",
    "x_train = torch.from_numpy(x_train.transpose(0, 3, 1, 2)).type(torch.FloatTensor)  # (90, 1, 7, 7, 176)\n",
    "print(x_train.shape)\n",
    "y_train = torch.from_numpy(y_train).type(torch.LongTensor)  # (13,)\n",
    "train_label = Data.TensorDataset(x_train, y_train)\n",
    "\n",
    "x_test = torch.from_numpy(x_test.transpose(0, 3, 1, 2)).type(torch.FloatTensor)  # (5198, 1, 7, 7, 176)\n",
    "print(x_test.shape)\n",
    "y_test = torch.from_numpy(y_test).type(torch.LongTensor)  # (5198,)\n",
    "test_label = Data.TensorDataset(x_test, y_test)\n",
    "\n",
    "x_valid = torch.from_numpy(x_valid.transpose(0, 3, 1, 2)).type(torch.FloatTensor)  # (5211, 1, 7, 7, 176)\n",
    "print(x_valid.shape)\n",
    "y_valid = torch.from_numpy(y_valid).type(torch.LongTensor)\n",
    "valid_label = Data.TensorDataset(x_valid, y_valid)\n",
    "\n",
    "train_loader = Data.DataLoader(train_label, batch_size=32, shuffle=True)\n",
    "test_loader = Data.DataLoader(test_label, batch_size=128, shuffle=True)\n",
    "valid_loader = Data.DataLoader(valid_label, batch_size=64, shuffle=True)"
   ]
  },
  {
   "cell_type": "markdown",
   "metadata": {},
   "source": [
    "## Model"
   ]
  },
  {
   "cell_type": "code",
   "execution_count": 11,
   "metadata": {},
   "outputs": [],
   "source": [
    "model = CapsViT(band, caps2_caps=num_classes)\n",
    "\n",
    "model = model.cuda()\n",
    "# criterion\n",
    "criterion = Margin_Recon_Loss()\n",
    "# optimizer\n",
    "optimizer = optim.Adam(model.parameters(), lr=args.learning_rate, weight_decay=args.weight_decay)\n",
    "scheduler = optim.lr_scheduler.ExponentialLR(optimizer, gamma=args.gamma)"
   ]
  },
  {
   "cell_type": "code",
   "execution_count": 12,
   "metadata": {},
   "outputs": [],
   "source": [
    "def model_summary(model):\n",
    "    total_param = 0\n",
    "    for name, param in model.named_parameters():\n",
    "        if param.requires_grad:\n",
    "            num_param = np.prod(param.size())\n",
    "            if param.dim() > 1:\n",
    "                print(name+':', 'x'.join(str(x) for x in list(param.size())), '=', num_param)\n",
    "            else:\n",
    "                print(name+':', num_param)\n",
    "            total_param += num_param\n",
    "    print(\"\\nTotal Trainable Parameters:\", total_param)"
   ]
  },
  {
   "cell_type": "code",
   "execution_count": 13,
   "metadata": {
    "scrolled": true
   },
   "outputs": [
    {
     "name": "stdout",
     "output_type": "stream",
     "text": [
      "preliminary_layer.0.weight: 128x15x5x5 = 48000\n",
      "preliminary_layer.0.bias: 128\n",
      "preliminary_layer.1.weight: 128\n",
      "preliminary_layer.1.bias: 128\n",
      "preliminary_layer.3.weight: 96x128x3x3 = 110592\n",
      "preliminary_layer.3.bias: 96\n",
      "preliminary_layer.4.weight: 96\n",
      "preliminary_layer.4.bias: 96\n",
      "convgru.cell0.Wxz.weight: 12x12x3x3 = 1296\n",
      "convgru.cell0.Wxz.bias: 12\n",
      "convgru.cell0.Whz.weight: 12x12x3x3 = 1296\n",
      "convgru.cell0.Wxr.weight: 12x12x3x3 = 1296\n",
      "convgru.cell0.Wxr.bias: 12\n",
      "convgru.cell0.Whr.weight: 12x12x3x3 = 1296\n",
      "convgru.cell0.Wxg.weight: 12x12x3x3 = 1296\n",
      "convgru.cell0.Wxg.bias: 12\n",
      "convgru.cell0.Whg.weight: 12x12x3x3 = 1296\n",
      "convgru.cell1.Wxz.weight: 6x12x3x3 = 648\n",
      "convgru.cell1.Wxz.bias: 6\n",
      "convgru.cell1.Whz.weight: 6x6x3x3 = 324\n",
      "convgru.cell1.Wxr.weight: 6x12x3x3 = 648\n",
      "convgru.cell1.Wxr.bias: 6\n",
      "convgru.cell1.Whr.weight: 6x6x3x3 = 324\n",
      "convgru.cell1.Wxg.weight: 6x12x3x3 = 648\n",
      "convgru.cell1.Wxg.bias: 6\n",
      "convgru.cell1.Whg.weight: 6x6x3x3 = 324\n",
      "group_normalization.weight: 48\n",
      "group_normalization.bias: 48\n",
      "primary_caps.conv2d.weight: 128x48x3x3 = 55296\n",
      "primary_caps.conv2d.bias: 128\n",
      "vit.pos_embedding: 1x784x8 = 6272\n",
      "vit.transformer.layers.0.0.fn.norm.weight: 8\n",
      "vit.transformer.layers.0.0.fn.norm.bias: 8\n",
      "vit.transformer.layers.0.0.fn.fn.to_qkv.weight: 192x8 = 1536\n",
      "vit.transformer.layers.0.0.fn.fn.to_out.0.weight: 8x64 = 512\n",
      "vit.transformer.layers.0.0.fn.fn.to_out.0.bias: 8\n",
      "vit.transformer.layers.0.1.fn.norm.weight: 8\n",
      "vit.transformer.layers.0.1.fn.norm.bias: 8\n",
      "vit.transformer.layers.0.1.fn.fn.net.0.weight: 8x8 = 64\n",
      "vit.transformer.layers.0.1.fn.fn.net.0.bias: 8\n",
      "vit.transformer.layers.0.1.fn.fn.net.3.weight: 8x8 = 64\n",
      "vit.transformer.layers.0.1.fn.fn.net.3.bias: 8\n",
      "vit.transformer.layers.1.0.fn.norm.weight: 8\n",
      "vit.transformer.layers.1.0.fn.norm.bias: 8\n",
      "vit.transformer.layers.1.0.fn.fn.to_qkv.weight: 192x8 = 1536\n",
      "vit.transformer.layers.1.0.fn.fn.to_out.0.weight: 8x64 = 512\n",
      "vit.transformer.layers.1.0.fn.fn.to_out.0.bias: 8\n",
      "vit.transformer.layers.1.1.fn.norm.weight: 8\n",
      "vit.transformer.layers.1.1.fn.norm.bias: 8\n",
      "vit.transformer.layers.1.1.fn.fn.net.0.weight: 8x8 = 64\n",
      "vit.transformer.layers.1.1.fn.fn.net.0.bias: 8\n",
      "vit.transformer.layers.1.1.fn.fn.net.3.weight: 8x8 = 64\n",
      "vit.transformer.layers.1.1.fn.fn.net.3.bias: 8\n",
      "digital_cap.weight: 1x784x16x16x8 = 1605632\n",
      "decoder.bn.weight: 16\n",
      "decoder.bn.bias: 16\n",
      "decoder.fc.0.weight: 288x16 = 4608\n",
      "decoder.fc.0.bias: 288\n",
      "decoder.fc.1.weight: 288\n",
      "decoder.fc.1.bias: 288\n",
      "decoder.trans_conv.0.weight: 32x128x3x3 = 36864\n",
      "decoder.trans_conv.0.bias: 128\n",
      "decoder.trans_conv.1.weight: 128\n",
      "decoder.trans_conv.1.bias: 128\n",
      "decoder.trans_conv.3.weight: 128x64x3x3 = 73728\n",
      "decoder.trans_conv.3.bias: 64\n",
      "decoder.trans_conv.4.weight: 64\n",
      "decoder.trans_conv.4.bias: 64\n",
      "decoder.trans_conv.6.weight: 64x15x3x3 = 8640\n",
      "decoder.trans_conv.6.bias: 15\n",
      "\n",
      "Total Trainable Parameters: 1967225\n"
     ]
    }
   ],
   "source": [
    "model_summary(model)"
   ]
  },
  {
   "cell_type": "code",
   "execution_count": 14,
   "metadata": {
    "scrolled": true,
    "tags": []
   },
   "outputs": [
    {
     "name": "stdout",
     "output_type": "stream",
     "text": [
      "start training\n",
      "Epoch: 001 - train_loss: 0.7000 - train_acc: 4.3750 - valid_loss: 0.6250 - valid_acc: 6.2500\n",
      "val_acc improved from 0.0000 to 6.2500, saving model to capsvit.pt\n",
      "Epoch: 002 - train_loss: 0.6063 - train_acc: 9.3750 - valid_loss: 0.5424 - valid_acc: 15.4375\n",
      "val_acc improved from 6.2500 to 15.4375, saving model to capsvit.pt\n",
      "Epoch: 003 - train_loss: 0.5418 - train_acc: 20.0000 - valid_loss: 0.4801 - valid_acc: 31.7500\n",
      "val_acc improved from 15.4375 to 31.7500, saving model to capsvit.pt\n",
      "Epoch: 004 - train_loss: 0.4783 - train_acc: 32.5000 - valid_loss: 0.4237 - valid_acc: 32.9375\n",
      "val_acc improved from 31.7500 to 32.9375, saving model to capsvit.pt\n",
      "Epoch: 005 - train_loss: 0.4078 - train_acc: 41.2500 - valid_loss: 0.3801 - valid_acc: 46.7500\n",
      "val_acc improved from 32.9375 to 46.7500, saving model to capsvit.pt\n",
      "Epoch: 006 - train_loss: 0.3665 - train_acc: 50.0000 - valid_loss: 0.3412 - valid_acc: 49.3125\n",
      "val_acc improved from 46.7500 to 49.3125, saving model to capsvit.pt\n",
      "Epoch: 007 - train_loss: 0.3341 - train_acc: 50.6250 - valid_loss: 0.3088 - valid_acc: 56.0625\n",
      "val_acc improved from 49.3125 to 56.0625, saving model to capsvit.pt\n",
      "Epoch: 008 - train_loss: 0.3057 - train_acc: 58.1250 - valid_loss: 0.2830 - valid_acc: 70.0000\n",
      "val_acc improved from 56.0625 to 70.0000, saving model to capsvit.pt\n",
      "Epoch: 009 - train_loss: 0.2753 - train_acc: 68.1250 - valid_loss: 0.2601 - valid_acc: 67.2500\n",
      "val_acc did not improve from 70.0000\n",
      "Epoch: 010 - train_loss: 0.2540 - train_acc: 66.8750 - valid_loss: 0.2369 - valid_acc: 74.7500\n",
      "val_acc improved from 70.0000 to 74.7500, saving model to capsvit.pt\n",
      "Epoch: 011 - train_loss: 0.2338 - train_acc: 71.2500 - valid_loss: 0.2213 - valid_acc: 71.0625\n",
      "val_acc did not improve from 74.7500\n",
      "Epoch: 012 - train_loss: 0.2243 - train_acc: 67.5000 - valid_loss: 0.2073 - valid_acc: 74.9375\n",
      "val_acc improved from 74.7500 to 74.9375, saving model to capsvit.pt\n",
      "Epoch: 013 - train_loss: 0.2119 - train_acc: 69.3750 - valid_loss: 0.1981 - valid_acc: 73.6250\n",
      "val_acc did not improve from 74.9375\n",
      "Epoch: 014 - train_loss: 0.1910 - train_acc: 74.3750 - valid_loss: 0.1844 - valid_acc: 80.0625\n",
      "val_acc improved from 74.9375 to 80.0625, saving model to capsvit.pt\n",
      "Epoch: 015 - train_loss: 0.1841 - train_acc: 73.1250 - valid_loss: 0.1815 - valid_acc: 77.5625\n",
      "val_acc did not improve from 80.0625\n",
      "Epoch: 016 - train_loss: 0.1719 - train_acc: 81.2500 - valid_loss: 0.1670 - valid_acc: 86.9375\n",
      "val_acc improved from 80.0625 to 86.9375, saving model to capsvit.pt\n",
      "Epoch: 017 - train_loss: 0.1600 - train_acc: 88.7500 - valid_loss: 0.1629 - valid_acc: 87.6875\n",
      "val_acc improved from 86.9375 to 87.6875, saving model to capsvit.pt\n",
      "Epoch: 018 - train_loss: 0.1518 - train_acc: 90.6250 - valid_loss: 0.1485 - valid_acc: 91.0000\n",
      "val_acc improved from 87.6875 to 91.0000, saving model to capsvit.pt\n",
      "Epoch: 019 - train_loss: 0.1394 - train_acc: 89.3750 - valid_loss: 0.1331 - valid_acc: 92.5625\n",
      "val_acc improved from 91.0000 to 92.5625, saving model to capsvit.pt\n",
      "Epoch: 020 - train_loss: 0.1261 - train_acc: 92.5000 - valid_loss: 0.1216 - valid_acc: 91.9375\n",
      "val_acc did not improve from 92.5625\n",
      "Epoch: 021 - train_loss: 0.1180 - train_acc: 92.5000 - valid_loss: 0.1138 - valid_acc: 93.0625\n",
      "val_acc improved from 92.5625 to 93.0625, saving model to capsvit.pt\n",
      "Epoch: 022 - train_loss: 0.1171 - train_acc: 88.7500 - valid_loss: 0.1113 - valid_acc: 92.1875\n",
      "val_acc did not improve from 93.0625\n",
      "Epoch: 023 - train_loss: 0.1098 - train_acc: 89.3750 - valid_loss: 0.1099 - valid_acc: 91.2500\n",
      "val_acc did not improve from 93.0625\n",
      "Epoch: 024 - train_loss: 0.1034 - train_acc: 90.0000 - valid_loss: 0.1033 - valid_acc: 91.2500\n",
      "val_acc did not improve from 93.0625\n",
      "Epoch: 025 - train_loss: 0.0933 - train_acc: 91.8750 - valid_loss: 0.0912 - valid_acc: 92.6875\n",
      "val_acc did not improve from 93.0625\n",
      "Epoch: 026 - train_loss: 0.0854 - train_acc: 92.5000 - valid_loss: 0.0865 - valid_acc: 94.6250\n",
      "val_acc improved from 93.0625 to 94.6250, saving model to capsvit.pt\n",
      "Epoch: 027 - train_loss: 0.0802 - train_acc: 93.7500 - valid_loss: 0.0844 - valid_acc: 92.4375\n",
      "val_acc did not improve from 94.6250\n",
      "Epoch: 028 - train_loss: 0.0733 - train_acc: 93.7500 - valid_loss: 0.0788 - valid_acc: 93.1875\n",
      "val_acc did not improve from 94.6250\n",
      "Epoch: 029 - train_loss: 0.0730 - train_acc: 93.1250 - valid_loss: 0.0764 - valid_acc: 93.0000\n",
      "val_acc did not improve from 94.6250\n",
      "Epoch: 030 - train_loss: 0.0682 - train_acc: 94.3750 - valid_loss: 0.0747 - valid_acc: 93.3750\n",
      "val_acc did not improve from 94.6250\n",
      "Epoch: 031 - train_loss: 0.0662 - train_acc: 93.7500 - valid_loss: 0.0718 - valid_acc: 95.0625\n",
      "val_acc improved from 94.6250 to 95.0625, saving model to capsvit.pt\n",
      "Epoch: 032 - train_loss: 0.0649 - train_acc: 96.8750 - valid_loss: 0.0697 - valid_acc: 95.0625\n",
      "val_acc did not improve from 95.0625\n",
      "Epoch: 033 - train_loss: 0.0625 - train_acc: 94.3750 - valid_loss: 0.0694 - valid_acc: 95.3750\n",
      "val_acc improved from 95.0625 to 95.3750, saving model to capsvit.pt\n",
      "Epoch: 034 - train_loss: 0.0608 - train_acc: 95.0000 - valid_loss: 0.0684 - valid_acc: 95.5625\n",
      "val_acc improved from 95.3750 to 95.5625, saving model to capsvit.pt\n",
      "Epoch: 035 - train_loss: 0.0600 - train_acc: 95.6250 - valid_loss: 0.0680 - valid_acc: 93.1250\n",
      "val_acc did not improve from 95.5625\n",
      "Epoch: 036 - train_loss: 0.0576 - train_acc: 93.7500 - valid_loss: 0.0662 - valid_acc: 95.1875\n",
      "val_acc did not improve from 95.5625\n",
      "Epoch: 037 - train_loss: 0.0594 - train_acc: 94.3750 - valid_loss: 0.0668 - valid_acc: 95.0625\n",
      "val_acc did not improve from 95.5625\n",
      "Epoch: 038 - train_loss: 0.0632 - train_acc: 91.2500 - valid_loss: 0.0655 - valid_acc: 94.5625\n",
      "val_acc did not improve from 95.5625\n",
      "Epoch: 039 - train_loss: 0.0577 - train_acc: 95.6250 - valid_loss: 0.0649 - valid_acc: 92.9375\n",
      "val_acc did not improve from 95.5625\n",
      "Epoch: 040 - train_loss: 0.0595 - train_acc: 94.3750 - valid_loss: 0.0638 - valid_acc: 94.3750\n",
      "val_acc did not improve from 95.5625\n",
      "Epoch: 041 - train_loss: 0.0573 - train_acc: 96.2500 - valid_loss: 0.0651 - valid_acc: 95.6875\n",
      "val_acc improved from 95.5625 to 95.6875, saving model to capsvit.pt\n",
      "Epoch: 042 - train_loss: 0.0558 - train_acc: 95.0000 - valid_loss: 0.0633 - valid_acc: 94.0000\n",
      "val_acc did not improve from 95.6875\n",
      "Epoch: 043 - train_loss: 0.0526 - train_acc: 96.8750 - valid_loss: 0.0615 - valid_acc: 96.6250\n",
      "val_acc improved from 95.6875 to 96.6250, saving model to capsvit.pt\n",
      "Epoch: 044 - train_loss: 0.0537 - train_acc: 98.1250 - valid_loss: 0.0608 - valid_acc: 96.6875\n",
      "val_acc improved from 96.6250 to 96.6875, saving model to capsvit.pt\n",
      "Epoch: 045 - train_loss: 0.0493 - train_acc: 99.3750 - valid_loss: 0.0627 - valid_acc: 94.5625\n",
      "val_acc did not improve from 96.6875\n",
      "Epoch: 046 - train_loss: 0.0614 - train_acc: 96.2500 - valid_loss: 0.0651 - valid_acc: 93.2500\n",
      "val_acc did not improve from 96.6875\n",
      "Epoch: 047 - train_loss: 0.0581 - train_acc: 93.7500 - valid_loss: 0.0643 - valid_acc: 93.2500\n",
      "val_acc did not improve from 96.6875\n",
      "Epoch: 048 - train_loss: 0.0551 - train_acc: 96.8750 - valid_loss: 0.0646 - valid_acc: 94.1250\n",
      "val_acc did not improve from 96.6875\n",
      "Epoch: 049 - train_loss: 0.0548 - train_acc: 96.2500 - valid_loss: 0.0621 - valid_acc: 95.8750\n",
      "val_acc did not improve from 96.6875\n",
      "Epoch: 050 - train_loss: 0.0548 - train_acc: 98.7500 - valid_loss: 0.0594 - valid_acc: 96.6875\n",
      "val_acc did not improve from 96.6875\n",
      "Epoch: 051 - train_loss: 0.0509 - train_acc: 97.5000 - valid_loss: 0.0579 - valid_acc: 96.3750\n",
      "val_acc did not improve from 96.6875\n",
      "Epoch: 052 - train_loss: 0.0450 - train_acc: 98.7500 - valid_loss: 0.0596 - valid_acc: 96.1250\n",
      "val_acc did not improve from 96.6875\n",
      "Epoch: 053 - train_loss: 0.0436 - train_acc: 100.0000 - valid_loss: 0.0586 - valid_acc: 96.4375\n",
      "val_acc did not improve from 96.6875\n",
      "Epoch: 054 - train_loss: 0.0533 - train_acc: 96.2500 - valid_loss: 0.0590 - valid_acc: 96.5625\n",
      "val_acc did not improve from 96.6875\n",
      "Epoch: 055 - train_loss: 0.0450 - train_acc: 98.7500 - valid_loss: 0.0584 - valid_acc: 96.5000\n",
      "val_acc did not improve from 96.6875\n",
      "Epoch: 056 - train_loss: 0.0493 - train_acc: 97.5000 - valid_loss: 0.0552 - valid_acc: 96.8125\n",
      "val_acc improved from 96.6875 to 96.8125, saving model to capsvit.pt\n",
      "Epoch: 057 - train_loss: 0.0486 - train_acc: 95.6250 - valid_loss: 0.0577 - valid_acc: 95.5000\n",
      "val_acc did not improve from 96.8125\n",
      "Epoch: 058 - train_loss: 0.0459 - train_acc: 96.2500 - valid_loss: 0.0570 - valid_acc: 95.1875\n",
      "val_acc did not improve from 96.8125\n",
      "Epoch: 059 - train_loss: 0.0383 - train_acc: 99.3750 - valid_loss: 0.0541 - valid_acc: 96.8750\n",
      "val_acc improved from 96.8125 to 96.8750, saving model to capsvit.pt\n",
      "Epoch: 060 - train_loss: 0.0390 - train_acc: 99.3750 - valid_loss: 0.0515 - valid_acc: 97.1875\n",
      "val_acc improved from 96.8750 to 97.1875, saving model to capsvit.pt\n",
      "Epoch: 061 - train_loss: 0.0365 - train_acc: 100.0000 - valid_loss: 0.0580 - valid_acc: 95.6875\n",
      "val_acc did not improve from 97.1875\n",
      "Epoch: 062 - train_loss: 0.0408 - train_acc: 98.1250 - valid_loss: 0.0531 - valid_acc: 96.8750\n",
      "val_acc did not improve from 97.1875\n",
      "Epoch: 063 - train_loss: 0.0328 - train_acc: 100.0000 - valid_loss: 0.0574 - valid_acc: 96.1875\n",
      "val_acc did not improve from 97.1875\n",
      "Epoch: 064 - train_loss: 0.0357 - train_acc: 99.3750 - valid_loss: 0.0522 - valid_acc: 97.0625\n",
      "val_acc did not improve from 97.1875\n",
      "Epoch: 065 - train_loss: 0.0319 - train_acc: 100.0000 - valid_loss: 0.0547 - valid_acc: 96.5625\n",
      "val_acc did not improve from 97.1875\n",
      "Epoch: 066 - train_loss: 0.0315 - train_acc: 100.0000 - valid_loss: 0.0483 - valid_acc: 97.5000\n",
      "val_acc improved from 97.1875 to 97.5000, saving model to capsvit.pt\n",
      "Epoch: 067 - train_loss: 0.0321 - train_acc: 99.3750 - valid_loss: 0.0497 - valid_acc: 97.0000\n",
      "val_acc did not improve from 97.5000\n",
      "Epoch: 068 - train_loss: 0.0305 - train_acc: 100.0000 - valid_loss: 0.0486 - valid_acc: 97.1875\n",
      "val_acc did not improve from 97.5000\n",
      "Epoch: 069 - train_loss: 0.0289 - train_acc: 100.0000 - valid_loss: 0.0476 - valid_acc: 97.3750\n",
      "val_acc did not improve from 97.5000\n",
      "Epoch: 070 - train_loss: 0.0293 - train_acc: 99.3750 - valid_loss: 0.0478 - valid_acc: 97.1875\n",
      "val_acc did not improve from 97.5000\n",
      "Epoch: 071 - train_loss: 0.0287 - train_acc: 100.0000 - valid_loss: 0.0510 - valid_acc: 96.7500\n",
      "val_acc did not improve from 97.5000\n",
      "Epoch: 072 - train_loss: 0.0282 - train_acc: 100.0000 - valid_loss: 0.0473 - valid_acc: 97.1875\n",
      "val_acc did not improve from 97.5000\n",
      "Epoch: 073 - train_loss: 0.0280 - train_acc: 100.0000 - valid_loss: 0.0486 - valid_acc: 97.0000\n",
      "val_acc did not improve from 97.5000\n",
      "Epoch: 074 - train_loss: 0.0276 - train_acc: 100.0000 - valid_loss: 0.0464 - valid_acc: 97.5625\n",
      "val_acc improved from 97.5000 to 97.5625, saving model to capsvit.pt\n",
      "Epoch: 075 - train_loss: 0.0296 - train_acc: 100.0000 - valid_loss: 0.0463 - valid_acc: 97.2500\n",
      "val_acc did not improve from 97.5625\n",
      "Epoch: 076 - train_loss: 0.0290 - train_acc: 99.3750 - valid_loss: 0.0468 - valid_acc: 96.9375\n",
      "val_acc did not improve from 97.5625\n",
      "Epoch: 077 - train_loss: 0.0263 - train_acc: 100.0000 - valid_loss: 0.0463 - valid_acc: 97.3125\n",
      "val_acc did not improve from 97.5625\n",
      "Epoch: 078 - train_loss: 0.0262 - train_acc: 100.0000 - valid_loss: 0.0462 - valid_acc: 97.2500\n",
      "val_acc did not improve from 97.5625\n",
      "Epoch: 079 - train_loss: 0.0266 - train_acc: 100.0000 - valid_loss: 0.0503 - valid_acc: 96.5625\n",
      "val_acc did not improve from 97.5625\n",
      "Epoch: 080 - train_loss: 0.0248 - train_acc: 100.0000 - valid_loss: 0.0446 - valid_acc: 97.3125\n",
      "val_acc did not improve from 97.5625\n",
      "Epoch: 081 - train_loss: 0.0257 - train_acc: 100.0000 - valid_loss: 0.0444 - valid_acc: 97.5000\n",
      "val_acc did not improve from 97.5625\n",
      "Epoch: 082 - train_loss: 0.0250 - train_acc: 100.0000 - valid_loss: 0.0507 - valid_acc: 96.5625\n",
      "val_acc did not improve from 97.5625\n",
      "Epoch: 083 - train_loss: 0.0281 - train_acc: 99.3750 - valid_loss: 0.0471 - valid_acc: 97.0625\n",
      "val_acc did not improve from 97.5625\n",
      "Epoch: 084 - train_loss: 0.0358 - train_acc: 98.7500 - valid_loss: 0.0594 - valid_acc: 95.0625\n",
      "val_acc did not improve from 97.5625\n",
      "Epoch: 085 - train_loss: 0.0279 - train_acc: 100.0000 - valid_loss: 0.0733 - valid_acc: 94.0000\n",
      "val_acc did not improve from 97.5625\n",
      "Epoch: 086 - train_loss: 0.0424 - train_acc: 96.2500 - valid_loss: 0.0648 - valid_acc: 94.4375\n",
      "val_acc did not improve from 97.5625\n",
      "Epoch: 087 - train_loss: 0.0432 - train_acc: 97.5000 - valid_loss: 0.0507 - valid_acc: 97.0625\n",
      "val_acc did not improve from 97.5625\n",
      "Epoch: 088 - train_loss: 0.0356 - train_acc: 98.1250 - valid_loss: 0.0559 - valid_acc: 95.3750\n",
      "val_acc did not improve from 97.5625\n",
      "Epoch: 089 - train_loss: 0.0293 - train_acc: 100.0000 - valid_loss: 0.0462 - valid_acc: 97.2500\n",
      "val_acc did not improve from 97.5625\n",
      "Epoch: 090 - train_loss: 0.0286 - train_acc: 100.0000 - valid_loss: 0.0452 - valid_acc: 97.5625\n",
      "val_acc did not improve from 97.5625\n",
      "Epoch: 091 - train_loss: 0.0360 - train_acc: 98.7500 - valid_loss: 0.0547 - valid_acc: 96.0625\n",
      "val_acc did not improve from 97.5625\n",
      "Epoch: 092 - train_loss: 0.0322 - train_acc: 98.7500 - valid_loss: 0.0449 - valid_acc: 97.1875\n",
      "val_acc did not improve from 97.5625\n",
      "Epoch: 093 - train_loss: 0.0261 - train_acc: 100.0000 - valid_loss: 0.0452 - valid_acc: 97.0625\n",
      "val_acc did not improve from 97.5625\n",
      "Epoch: 094 - train_loss: 0.0274 - train_acc: 99.3750 - valid_loss: 0.0467 - valid_acc: 96.9375\n",
      "val_acc did not improve from 97.5625\n",
      "Epoch: 095 - train_loss: 0.0305 - train_acc: 99.3750 - valid_loss: 0.0487 - valid_acc: 96.8125\n",
      "val_acc did not improve from 97.5625\n",
      "Epoch: 096 - train_loss: 0.0276 - train_acc: 100.0000 - valid_loss: 0.0533 - valid_acc: 96.0625\n",
      "val_acc did not improve from 97.5625\n",
      "Epoch: 097 - train_loss: 0.0281 - train_acc: 100.0000 - valid_loss: 0.0471 - valid_acc: 96.8750\n",
      "val_acc did not improve from 97.5625\n",
      "Epoch: 098 - train_loss: 0.0249 - train_acc: 100.0000 - valid_loss: 0.0450 - valid_acc: 97.3750\n",
      "val_acc did not improve from 97.5625\n",
      "Epoch: 099 - train_loss: 0.0238 - train_acc: 100.0000 - valid_loss: 0.0447 - valid_acc: 97.5000\n",
      "val_acc did not improve from 97.5625\n",
      "Epoch: 100 - train_loss: 0.0235 - train_acc: 100.0000 - valid_loss: 0.0473 - valid_acc: 96.6250\n",
      "val_acc did not improve from 97.5625\n",
      "Running Time: 158.75\n",
      "**************************************************\n"
     ]
    }
   ],
   "source": [
    "print('start training')\n",
    "acc_list = [0.00]\n",
    "path = './model/capsvit.pt'\n",
    "tic = time.time()\n",
    "for epoch in range(args.epoches):\n",
    "    # 计算的是移动平均准确率\n",
    "    train_acc, train_loss = train(model, train_loader, criterion, optimizer)\n",
    "    valid_acc, valid_loss = valid(model, valid_loader, criterion)\n",
    "    print(\"Epoch: {:03d} - train_loss: {:.4f} - train_acc: {:.4f} - valid_loss: {:.4f} - valid_acc: {:.4f}\".\\\n",
    "          format(epoch+1, train_loss, train_acc, valid_loss, valid_acc))\n",
    "    scheduler.step()\n",
    "\n",
    "    acc_list.append(valid_acc)\n",
    "    if acc_list[-1] > acc_list[-2]:\n",
    "        print(\"val_acc improved from {:.4f} to {:.4f}, saving model to capsvit.pt\".format(acc_list[-2], acc_list[-1]))\n",
    "        torch.save(model.state_dict(), path)\n",
    "    else:\n",
    "        print(\"val_acc did not improve from {:.4f}\".format(acc_list[-2]))\n",
    "        acc_list[-1] = acc_list[-2]\n",
    "\n",
    "toc = time.time()\n",
    "print(\"Running Time: {:.2f}\".format(toc-tic))\n",
    "print(\"**************************************************\")"
   ]
  },
  {
   "cell_type": "code",
   "execution_count": 15,
   "metadata": {},
   "outputs": [],
   "source": [
    "model.load_state_dict(torch.load(path))\n",
    "model.eval()\n",
    "\n",
    "tar_test, pre_test = test(model, test_loader)\n",
    "OA_test, AA_mean_test, Kappa_test, AA_test = output_metric(tar_test, pre_test)\n",
    "AA_test = np.around(AA_test*100, 2)"
   ]
  },
  {
   "cell_type": "code",
   "execution_count": 16,
   "metadata": {},
   "outputs": [
    {
     "name": "stdout",
     "output_type": "stream",
     "text": [
      "*******************************************************************\n",
      "Final result:\n",
      "OA: 93.46, AA: 97.44, Kappa: 0.9274\n",
      "*******************************************************************\n",
      "Recal: [100.   100.   100.    99.93  98.01 100.    99.02  78.2  100.    96.48\n",
      " 100.   100.   100.   100.    88.21  99.22]\n",
      "*******************************************************************\n",
      "Parameter:\n",
      "dataset: Salinas\n",
      "seed: 42\n",
      "batch_size: 32\n",
      "patch_size: 15\n",
      "epoches: 100\n",
      "learning_rate: 0.001\n",
      "gamma: 0.99\n",
      "weight_decay: 0.001\n",
      "train_number: 10\n",
      "*******************************************************************\n"
     ]
    }
   ],
   "source": [
    "print(\"*******************************************************************\")\n",
    "print(\"Final result:\")\n",
    "print(\"OA: {:.2f}, AA: {:.2f}, Kappa: {:.4f}\".format(OA_test * 100., AA_mean_test*100., Kappa_test))\n",
    "print(\"*******************************************************************\")\n",
    "print(\"Recal: {}\".format(AA_test))\n",
    "print(\"*******************************************************************\")\n",
    "print(\"Parameter:\")\n",
    "print_args(vars(args))\n",
    "print(\"*******************************************************************\")"
   ]
  },
  {
   "cell_type": "code",
   "execution_count": 17,
   "metadata": {},
   "outputs": [],
   "source": [
    "average_accuracy = str(list(AA_test))\n",
    "file_name = \"./CR/capsvit_1.txt\"\n",
    "\n",
    "with open(file_name, 'w') as x_file:\n",
    "    x_file.write(\"[{:.2f}, {:.2f}, {:.4f}]\".format(OA_test * 100., AA_mean_test*100., Kappa_test))\n",
    "    x_file.write('\\n')\n",
    "    x_file.write('{}'.format(average_accuracy))"
   ]
  },
  {
   "cell_type": "markdown",
   "metadata": {},
   "source": [
    "## Panoramic Classification"
   ]
  },
  {
   "cell_type": "code",
   "execution_count": 18,
   "metadata": {},
   "outputs": [
    {
     "name": "stdout",
     "output_type": "stream",
     "text": [
      "*******************************************************\n",
      "x_forward shape = (54129, 15, 15, 15), type = float64\n",
      "x_backward  shape = (56975, 15, 15, 15), type = float64\n",
      "*******************************************************\n"
     ]
    }
   ],
   "source": [
    "pos_forward, pos_backward = choose_all_pixels(label)\n",
    "\n",
    "x_forward, x_backward, y_forward, y_backward = all_data(mirror_data, band, pos_forward, pos_backward, patch_size=args.patch_size)"
   ]
  },
  {
   "cell_type": "code",
   "execution_count": 19,
   "metadata": {},
   "outputs": [
    {
     "name": "stdout",
     "output_type": "stream",
     "text": [
      "torch.Size([54129, 15, 15, 15])\n",
      "torch.Size([56975, 15, 15, 15])\n"
     ]
    }
   ],
   "source": [
    "# load data\n",
    "x_forward = torch.from_numpy(x_forward.transpose(0, 3, 1, 2)).type(torch.FloatTensor)\n",
    "print(x_forward.shape)\n",
    "y_forward = torch.from_numpy(y_forward).type(torch.LongTensor)  # (13,)\n",
    "forward_label = Data.TensorDataset(x_forward, y_forward)\n",
    "\n",
    "x_backward = torch.from_numpy(x_backward.transpose(0, 3, 1, 2)).type(torch.FloatTensor)\n",
    "print(x_backward.shape)\n",
    "y_backward = torch.from_numpy(y_backward).type(torch.LongTensor)  # (13,)\n",
    "backward_label = Data.TensorDataset(x_backward, y_backward)\n",
    "\n",
    "forward_loader = Data.DataLoader(forward_label, batch_size=128, shuffle=False)\n",
    "backward_loader = Data.DataLoader(backward_label, batch_size=128, shuffle=False)"
   ]
  },
  {
   "cell_type": "code",
   "execution_count": 20,
   "metadata": {},
   "outputs": [],
   "source": [
    "# output classification maps\n",
    "_, pre_forward = test(model, forward_loader)\n",
    "_, pre_backward = test(model, backward_loader)\n",
    "\n",
    "prediction_matrix = np.zeros((height, width), dtype=float)  # (512, 614)\n",
    "for i in range(pos_forward.shape[0]):\n",
    "    prediction_matrix[pos_forward[i, 0], pos_forward[i, 1]] = pre_forward[i] + 1\n",
    "\n",
    "for j in range(pos_backward.shape[0]):\n",
    "    prediction_matrix[pos_backward[j, 0], pos_backward[j, 1]] = pre_backward[j] + 1"
   ]
  },
  {
   "cell_type": "code",
   "execution_count": 21,
   "metadata": {},
   "outputs": [
    {
     "data": {
      "image/png": "[encoded data removed]",
      "text/plain": [
       "<Figure size 144.667x341.333 with 1 Axes>"
      ]
     },
     "metadata": {},
     "output_type": "display_data"
    }
   ],
   "source": [
    "predict_map = list_to_colormap(prediction_matrix.ravel())\n",
    "predict_map = np.reshape(predict_map, (height, width, 3))\n",
    "\n",
    "classification_map(predict_map, './salinas_capsvit.pdf')"
   ]
  },
  {
   "cell_type": "code",
   "execution_count": null,
   "metadata": {},
   "outputs": [],
   "source": []
  },
  {
   "cell_type": "code",
   "execution_count": null,
   "metadata": {},
   "outputs": [],
   "source": []
  }
 ],
 "metadata": {
  "kernelspec": {
   "display_name": "Python 3 (ipykernel)",
   "language": "python",
   "name": "python3"
  },
  "language_info": {
   "codemirror_mode": {
    "name": "ipython",
    "version": 3
   },
   "file_extension": ".py",
   "mimetype": "text/x-python",
   "name": "python",
   "nbconvert_exporter": "python",
   "pygments_lexer": "ipython3",
   "version": "3.10.12"
  }
 },
 "nbformat": 4,
 "nbformat_minor": 4
}
