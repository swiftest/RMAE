{
 "cells": [
  {
   "cell_type": "code",
   "execution_count": 1,
   "id": "9103eaae-9eaa-48dd-890d-ef147776c1b8",
   "metadata": {},
   "outputs": [],
   "source": [
    "import os\n",
    "import time\n",
    "import logging\n",
    "import argparse\n",
    "import numpy as np\n",
    "from tqdm import tqdm\n",
    "import scipy.io as sio\n",
    "from copy import deepcopy\n",
    "from einops import rearrange\n",
    "import matplotlib.pyplot as plt\n",
    "import matplotlib.patheffects as PathEffects\n",
    "\n",
    "\n",
    "import torch\n",
    "import torch.nn as nn\n",
    "from torch import optim\n",
    "import torch.utils.data as Data\n",
    "import torch.nn.functional as F\n",
    "from torch.optim.adam import Adam\n",
    "import torch.backends.cudnn as cudnn\n",
    "from thop import profile\n",
    "from timm.models.vision_transformer import PatchEmbed, Block\n",
    "\n",
    "\n",
    "import seaborn as sns\n",
    "from sklearn.manifold import TSNE\n",
    "from sklearn.decomposition import PCA\n",
    "from sklearn.metrics import confusion_matrix\n",
    "from sklearn.preprocessing import StandardScaler\n",
    "\n",
    "\n",
    "from data_prepare import mirror_hsi\n",
    "from data_prepare import choose_all_pixels, all_data\n",
    "from data_prepare import choose_pretrain, pretrain_data\n",
    "from data_prepare import choose_train_and_test, train_and_test_data, train_and_test_label\n",
    "\n",
    "\n",
    "from CNNUtils import train, test, valid\n",
    "from Utils import plot_confusion_matrix, print_args\n",
    "from Utils import output_metric, classification_map, list_to_colormap\n",
    "\n",
    "\n",
    "%matplotlib inline"
   ]
  },
  {
   "cell_type": "code",
   "execution_count": 2,
   "id": "18fd19bd-2bc5-4951-b0cb-c328cd1ec3d7",
   "metadata": {},
   "outputs": [],
   "source": [
    "parser = argparse.ArgumentParser(\"IMAE\")\n",
    "parser.add_argument('--dataset', choices=['HU2013', 'HanChuan', 'Salinas', 'KSC'], default='Salinas', help='dataset to use')\n",
    "parser.add_argument('--flag_test', choices=['test', 'train'], default='train', help='testing mark')\n",
    "parser.add_argument('--gpu_id', default='0', help='GPU id')\n",
    "parser.add_argument('--seed', type=int, default=42, help='number of the random seed')\n",
    "parser.add_argument('--batch_size', type=int, default=128, help='number of batch size')\n",
    "parser.add_argument('--patch_size', type=int, default=15, help='size of patches')\n",
    "parser.add_argument('--epoches', type=int, default=100, help='epoch number')\n",
    "parser.add_argument('--learning_rate', type=float, default=1e-3, help='learning rate')\n",
    "parser.add_argument('--gamma', type=float, default=0.99, help='gamma')\n",
    "parser.add_argument('--train_number', type=int, default=10, help='num_train_per_class')\n",
    "parser.add_argument('--pretrain_proportion', type=float, default=0.5, help='proportion_pretrain_per_class')\n",
    "args = parser.parse_args(args=[])"
   ]
  },
  {
   "cell_type": "code",
   "execution_count": 3,
   "id": "98e5d4fc-a1a0-43ee-9686-f014fa5a125e",
   "metadata": {},
   "outputs": [
    {
     "name": "stdout",
     "output_type": "stream",
     "text": [
      "The class numbers of the HSI data is: 16\n"
     ]
    }
   ],
   "source": [
    "# prepare data\n",
    "data_path = os.path.join(os.getcwd(), 'dataset')\n",
    "\n",
    "if args.dataset == 'HU2013':\n",
    "    data = sio.loadmat(os.path.join(data_path, 'Houston.mat'))['Houston']\n",
    "    label = sio.loadmat(os.path.join(data_path, 'Houston_gt.mat'))['Houston_gt']\n",
    "elif args.dataset == 'HanChuan':\n",
    "    data = sio.loadmat(os.path.join(data_path, 'WHU_Hi_HanChuan.mat'))['WHU_Hi_HanChuan']\n",
    "    label = sio.loadmat(os.path.join(data_path, 'WHU_Hi_HanChuan_gt.mat'))['WHU_Hi_HanChuan_gt']\n",
    "elif args.dataset == 'KSC':\n",
    "    data = sio.loadmat(os.path.join(data_path, 'KSC.mat'))['KSC']\n",
    "    label = sio.loadmat(os.path.join(data_path, 'KSC_gt.mat'))['KSC_gt']\n",
    "elif args.dataset == 'Salinas':\n",
    "    data = sio.loadmat(os.path.join(data_path, 'Salinas_corrected.mat'))['salinas_corrected']\n",
    "    label = sio.loadmat(os.path.join(data_path, 'Salinas_gt.mat'))['salinas_gt']\n",
    "else:\n",
    "    raise ValueError(\"Unknown dataset\")\n",
    "    \n",
    "num_classes = np.max(label)\n",
    "print('The class numbers of the HSI data is:', num_classes)"
   ]
  },
  {
   "cell_type": "code",
   "execution_count": 4,
   "id": "eafd7501-b276-4aec-880c-b4393b41e487",
   "metadata": {},
   "outputs": [],
   "source": [
    "shapeor = data.shape\n",
    "data = data.reshape(np.prod(data.shape[:2]), np.prod(data.shape[2:]))\n",
    "\n",
    "std_scaler = StandardScaler()\n",
    "std_data = std_scaler.fit_transform(data)\n",
    "data = std_data.reshape(shapeor)"
   ]
  },
  {
   "cell_type": "code",
   "execution_count": 5,
   "id": "cadc96a8-a7bd-472d-bfca-7578432a7ba4",
   "metadata": {},
   "outputs": [],
   "source": [
    "def applyPCA(data, numComponents=15):\n",
    "    new_data = np.reshape(data, (-1, data.shape[2]))\n",
    "    pca = PCA(n_components=numComponents, whiten=True)\n",
    "    new_data = pca.fit_transform(new_data)\n",
    "    new_data = np.reshape(new_data, (data.shape[0], data.shape[1], numComponents))\n",
    "    return new_data, pca"
   ]
  },
  {
   "cell_type": "code",
   "execution_count": 6,
   "id": "5e689894-9108-4d77-89cb-6cc7f596a639",
   "metadata": {},
   "outputs": [
    {
     "name": "stdout",
     "output_type": "stream",
     "text": [
      "height=512, width=217, band=15\n"
     ]
    }
   ],
   "source": [
    "K = 15\n",
    "data, pca = applyPCA(data, numComponents=K)\n",
    "\n",
    "# data size\n",
    "height, width, band = data.shape\n",
    "print(\"height={0}, width={1}, band={2}\".format(height, width, band))"
   ]
  },
  {
   "cell_type": "markdown",
   "id": "79d5e120-cdc4-4740-9d0e-b657fadda5bd",
   "metadata": {},
   "source": [
    "## Dataloader Construction"
   ]
  },
  {
   "cell_type": "code",
   "execution_count": 7,
   "id": "9fe481d8-48dd-4794-9c61-2b432524ad18",
   "metadata": {},
   "outputs": [
    {
     "name": "stdout",
     "output_type": "stream",
     "text": [
      "*******************************************************\n",
      "patch_size : 15\n",
      "mirror_data shape : [526, 231, 15]\n",
      "*******************************************************\n",
      "x_pretrain shape : (27064, 15, 15, 15), type = float64\n",
      "*******************************************************\n"
     ]
    }
   ],
   "source": [
    "total_pos_pretrain, y_pretrain = choose_pretrain(label, pretrain_proportion=args.pretrain_proportion, seed=args.seed)\n",
    "\n",
    "mirror_data = mirror_hsi(height, width, band, data, patch_size=args.patch_size)\n",
    "\n",
    "x_pretrain = pretrain_data(mirror_data, band, total_pos_pretrain, patch_size=args.patch_size)"
   ]
  },
  {
   "cell_type": "code",
   "execution_count": 8,
   "id": "7765f7e2-d178-4d01-a2c2-3439d8440fdb",
   "metadata": {},
   "outputs": [
    {
     "data": {
      "text/plain": [
       "array([[204, 143],\n",
       "       [127, 142],\n",
       "       [421,  18],\n",
       "       [265,  13],\n",
       "       [ 63,  40],\n",
       "       [471,  18],\n",
       "       [106, 135],\n",
       "       [ 12, 131],\n",
       "       [114, 125],\n",
       "       [ 94,  61]])"
      ]
     },
     "execution_count": 8,
     "metadata": {},
     "output_type": "execute_result"
    }
   ],
   "source": [
    "total_pos_pretrain[:10]"
   ]
  },
  {
   "cell_type": "code",
   "execution_count": 9,
   "id": "7430de69-5b27-42f9-ab3d-bd2482bd407a",
   "metadata": {},
   "outputs": [
    {
     "name": "stdout",
     "output_type": "stream",
     "text": [
      "1_th category has 969 samples\n",
      "2_th category has 1849 samples\n",
      "3_th category has 974 samples\n",
      "4_th category has 695 samples\n",
      "5_th category has 1359 samples\n",
      "6_th category has 1977 samples\n",
      "7_th category has 1795 samples\n",
      "8_th category has 5603 samples\n",
      "9_th category has 3144 samples\n",
      "10_th category has 1613 samples\n",
      "11_th category has 536 samples\n",
      "12_th category has 980 samples\n",
      "13_th category has 462 samples\n",
      "14_th category has 538 samples\n",
      "15_th category has 3694 samples\n",
      "16_th category has 876 samples\n"
     ]
    }
   ],
   "source": [
    "for i in range(num_classes):\n",
    "    print('{}_th category has {} samples'.format(i+1, np.count_nonzero(y_pretrain == i)))"
   ]
  },
  {
   "cell_type": "code",
   "execution_count": 10,
   "id": "8342a74f-2bd6-4f6f-871c-aae04826e9b8",
   "metadata": {},
   "outputs": [
    {
     "name": "stdout",
     "output_type": "stream",
     "text": [
      "torch.Size([27064, 15, 15, 15])\n",
      "torch.Size([27064])\n"
     ]
    }
   ],
   "source": [
    "# load data\n",
    "x_pretrain = torch.from_numpy(x_pretrain.transpose(0, 3, 1, 2)).type(torch.FloatTensor)  # (40908, 30, 27, 27)\n",
    "y_pretrain = torch.from_numpy(y_pretrain).type(torch.LongTensor)  # (40908,)\n",
    "print(x_pretrain.shape)\n",
    "print(y_pretrain.shape)\n",
    "\n",
    "pretrain_label = Data.TensorDataset(x_pretrain, y_pretrain)\n",
    "pretrain_loader = Data.DataLoader(pretrain_label, batch_size=args.batch_size, shuffle=True)"
   ]
  },
  {
   "cell_type": "markdown",
   "id": "d258f679-7fbb-4da8-9f18-a46aa47f24ad",
   "metadata": {},
   "source": [
    "## Model"
   ]
  },
  {
   "cell_type": "code",
   "execution_count": 11,
   "id": "ba7e21cd-4a6b-4fbe-8831-adf0845a690e",
   "metadata": {},
   "outputs": [],
   "source": [
    "def get_1d_sincos_pos_embed_from_grid(embed_dim, pos):\n",
    "    \"\"\"\n",
    "    embed_dim: output dimension for each position\n",
    "    pos: a list of positions to be encoded: size (M, )\n",
    "    out: (M, D)\n",
    "    \"\"\"\n",
    "    assert embed_dim % 2 == 0\n",
    "    omega = np.arange(embed_dim // 2, dtype=np.float32)\n",
    "    omega /= embed_dim / 2.\n",
    "    omega = 1. / 10000**omega  # (D/2, )  16\n",
    "\n",
    "    pos = pos.reshape(-1)  # (M, )  64\n",
    "    out = np.einsum('m, d -> md', pos, omega)  # (M, D/2), outer product\n",
    "\n",
    "    emb_sin = np.sin(out)  # (M, D/2)\n",
    "    emb_cos = np.cos(out) # (M, D/2)\n",
    "\n",
    "    emb = np.concatenate([emb_sin, emb_cos], axis=1)  # (M, D)\n",
    "    return emb\n",
    "\n",
    "\n",
    "def get_2d_sincos_pos_embed_from_grid(embed_dim, grid):\n",
    "    assert embed_dim % 2 == 0\n",
    "\n",
    "    # use half of dimensions to encode grid_h\n",
    "    emb_h = get_1d_sincos_pos_embed_from_grid(embed_dim // 2, grid[0])  # (H*W, D/2)\n",
    "    emb_w = get_1d_sincos_pos_embed_from_grid(embed_dim // 2, grid[1])  # (H*W, D/2)\n",
    "\n",
    "    emb = np.concatenate([emb_h, emb_w], axis=1)  # (H*W, D)\n",
    "    return emb\n",
    "\n",
    "\n",
    "def get_2d_sincos_pos_embed(embed_dim, grid_size, cls_token=True):\n",
    "    \"\"\"\n",
    "    grid_size: int of the grid height and width\n",
    "    return:\n",
    "    pos_embed: [grid_size*grid_size, embed_dim] or [1+grid_size*grid_size, embed_dim] (w/ or w/o cls_token)\n",
    "    \"\"\"\n",
    "    center_index = (grid_size-1) // 2\n",
    "\n",
    "    row_index = np.zeros([grid_size, grid_size], dtype=np.float32)\n",
    "    for i in range(grid_size):\n",
    "        row_index[i, :] = abs(i - center_index)\n",
    "\n",
    "    column_index = []\n",
    "    for i in range(grid_size):\n",
    "        temp_index = []\n",
    "        for j in range(grid_size):\n",
    "            temp_index.append(max(abs(i - center_index), abs(j - center_index)))\n",
    "        column_index.append(temp_index)\n",
    "    column_index = np.asarray(column_index, dtype=np.float32)\n",
    "    \n",
    "    grid = np.stack([column_index, row_index], axis=0)\n",
    "    grid = grid.reshape([2, 1, grid_size, grid_size])\n",
    "    pos_embed = get_2d_sincos_pos_embed_from_grid(embed_dim, grid)  # (H*W, D)\n",
    "    if cls_token:\n",
    "        pos_embed = np.concatenate([np.zeros([1, embed_dim]), pos_embed], axis=0)  # (1+H*W, D)\n",
    "    return pos_embed"
   ]
  },
  {
   "cell_type": "code",
   "execution_count": 12,
   "id": "42a222bb-b702-44e3-b686-85e016ee6621",
   "metadata": {},
   "outputs": [],
   "source": [
    "class IMAE(nn.Module):\n",
    "    \"\"\"\n",
    "    Maksed Autoencoder with Vision-Transformer backbone\n",
    "    \"\"\"\n",
    "    def __init__(self, img_size=15, patch_size=3, in_chans=15, embed_dim=256, depth=4, num_heads=8, decoder_embed_dim=64, decoder_depth=2, \n",
    "                 decoder_num_heads=8):\n",
    "        super(IMAE, self).__init__()\n",
    "        self.img_size = img_size\n",
    "        self.in_chans = in_chans\n",
    "        \n",
    "        # --------------------------------------------------------------------------zz\n",
    "        # MAE encoder specifics\n",
    "        self.patch_embed = PatchEmbed(img_size, patch_size, in_chans, embed_dim)\n",
    "        num_patches = self.patch_embed.num_patches  # 25\n",
    "\n",
    "        self.cls_token = nn.Parameter(torch.zeros(1, 1, embed_dim))  # (1, 1, 128)\n",
    "        self.instructional_token = nn.Parameter(torch.zeros(1, 1, embed_dim))  # (1, 1, 128)\n",
    "        self.pos_embed = nn.Parameter(torch.zeros(1, num_patches + 1, embed_dim), requires_grad=False)   # fixed sin-cos embedding (1, 26, 128)\n",
    "\n",
    "        self.blocks = nn.ModuleList([Block(embed_dim, num_heads, qkv_bias=True) for _ in range(depth)])\n",
    "        self.norm = nn.LayerNorm(embed_dim)\n",
    "        # --------------------------------------------------------------------------\n",
    "        \n",
    "        # --------------------------------------------------------------------------\n",
    "        # MAE decoder specifics\n",
    "        self.decoder_embed = nn.Linear(embed_dim, decoder_embed_dim, bias=True)\n",
    "        \n",
    "        self.mask_token = nn.Parameter(torch.zeros(1, 1, decoder_embed_dim))\n",
    "\n",
    "        self.decoder_pos_embed = nn.Parameter(torch.zeros(1, num_patches + 1, decoder_embed_dim), requires_grad=False)  # fixed sin-cos embedding\n",
    "\n",
    "        self.decoder_blocks = nn.ModuleList([Block(decoder_embed_dim, decoder_num_heads, qkv_bias=True) for _ in range(decoder_depth)])\n",
    "\n",
    "        self.decoder_norm = nn.LayerNorm(decoder_embed_dim)\n",
    "        self.decoder_pred = nn.Linear(decoder_embed_dim, patch_size**2 * in_chans, bias=True)  # decoder to patch\n",
    "        \n",
    "        self.instructor_embed = nn.Linear(decoder_embed_dim, in_chans, bias=True)  # decoder to patch\n",
    "        # --------------------------------------------------------------------------\n",
    "        self.initialize_weights()\n",
    "\n",
    "    def initialize_weights(self):\n",
    "        # initialize (and freeze) pos_embed by sin-cos embedding\n",
    "        pos_embed = get_2d_sincos_pos_embed(self.pos_embed.shape[-1], int(self.patch_embed.num_patches**.5), cls_token=True)  # (26, 128)\n",
    "        self.pos_embed.data.copy_(torch.from_numpy(pos_embed).float().unsqueeze(0))  # (1, 26, 128)\n",
    "\n",
    "        decoder_pos_embed = get_2d_sincos_pos_embed(self.decoder_pos_embed.shape[-1], int(self.patch_embed.num_patches**.5), cls_token=True)\n",
    "        self.decoder_pos_embed.data.copy_(torch.from_numpy(decoder_pos_embed).float().unsqueeze(0))  # (1, 26, 64)\n",
    "        \n",
    "        # initialize patch_embed like nn.Linear (instead of nn.Conv2d)\n",
    "        w = self.patch_embed.proj.weight.data\n",
    "        torch.nn.init.xavier_uniform_(w.view([w.shape[0], -1]))  # (embed_dim, in_chans, patch_size, patch_size)  (64, 3, 4, 4)\n",
    "        \n",
    "        # timm's trunc_normal_(std=.02) is effectively normal_(std=0.02) as cutoff is too big (2.)\n",
    "        torch.nn.init.normal_(self.cls_token, std=.02)\n",
    "        torch.nn.init.normal_(self.instructional_token, std=.02)\n",
    "        torch.nn.init.normal_(self.mask_token, std=.02)\n",
    "\n",
    "        # initialize nn.Linear and nn.LayerNorm\n",
    "        self.apply(self._init_weights)\n",
    "\n",
    "    def _init_weights(self, m):\n",
    "        if isinstance(m, nn.Linear):\n",
    "            # we use xavier_uniform following official JAX ViT:\n",
    "            nn.init.xavier_uniform_(m.weight)\n",
    "            if isinstance(m, nn.Linear) and m.bias is not None:\n",
    "                nn.init.constant_(m.bias, 0)\n",
    "        elif isinstance(m, nn.LayerNorm):\n",
    "            nn.init.constant_(m.bias, 0)\n",
    "            nn.init.constant_(m.weight, 1.0)\n",
    "\n",
    "    def random_masking(self, x, mask_ratio):\n",
    "        \"\"\"\n",
    "        Perform per-sample random masking by per-sample shuffling.\n",
    "        Per-samle shuffling is done by argsort random noise.\n",
    "        x: [N, L, D], sequence\n",
    "        \"\"\"\n",
    "        N, L, D = x.shape  # batch, length, dim\n",
    "        len_keep = int(L * (1 - mask_ratio))  # 64 * 0.25 = 16 只保留16个patch\n",
    "\n",
    "        noise = torch.rand(N, L, device=x.device)  # noise in [0, 1]  (N, L)\n",
    "        # sort noise for each sample\n",
    "        ids_shuffle = torch.argsort(noise, dim=1)  # 从小到大排序，返回索引 (N, L)\n",
    "        ids_restore = torch.argsort(ids_shuffle, dim=1)  # 返回ids_shuffle中，原序列0,1,2,...的索引\n",
    "\n",
    "        # keep the first subset\n",
    "        ids_keep = ids_shuffle[:, :len_keep]\n",
    "        x_masked = torch.gather(x, dim=1, index=ids_keep.unsqueeze(-1).repeat(1, 1, D))  # (N, 16, D) 只保留16个patch的编码  !!!这里打乱了patch的 顺序\n",
    "        \n",
    "        # generate the binary mask: 0 is keep, 1 is remove\n",
    "        mask = torch.ones([N, L], device=x.device)\n",
    "        mask[:, :len_keep] = 0\n",
    "        # unshuffle to get the binary mask\n",
    "        mask = torch.gather(mask, dim=1, index=ids_restore)  # 原始序列编码所对应的掩模  (N, L)\n",
    "        return x_masked, mask, ids_restore\n",
    "\n",
    "    def forward_encoder(self, x, mask_ratio):\n",
    "        # embed patches\n",
    "        x = self.patch_embed(x)  # (B, 25, 128)\n",
    "        \n",
    "        # add pos embed w/o cls token\n",
    "        x = x + self.pos_embed[:, 1:, :]  # (B, 25, 128)\n",
    "\n",
    "        # masking: length -> length * mask_ratio\n",
    "        # x: (N, 16, D), maks: (N, L), ids_restore: (N, L) \n",
    "        x, mask, ids_restore = self.random_masking(x, mask_ratio)\n",
    "\n",
    "        # append cls token\n",
    "        cls_token = self.cls_token + self.pos_embed[:, :1, :]  # (1, 1, 128)\n",
    "        cls_tokens = cls_token.expand(x.shape[0], -1, -1)  # (B, 1, 128)\n",
    "\n",
    "        index = self.patch_embed.num_patches // 2 + 1  # 13\n",
    "\n",
    "        instructional_token = self.instructional_token + self.pos_embed[:, index, :].unsqueeze(1)  # (1, 1, 128)\n",
    "        instructional_token = instructional_token.expand(x.shape[0], -1, -1)  # (B, 1, 128)\n",
    "        \n",
    "        x = torch.cat([cls_tokens, x, instructional_token], dim=1)  # (B, 6, 128)\n",
    "\n",
    "        # apply Transformer blocks\n",
    "        for blk in self.blocks:\n",
    "            x = blk(x)\n",
    "        x = self.norm(x)  # (B, 16+1, 64)\n",
    "\n",
    "        return x, mask, ids_restore\n",
    "\n",
    "    def forward_decoder(self, x, ids_restore):\n",
    "        # embed tokens\n",
    "        x = self.decoder_embed(x)  # (N, 6, 64)\n",
    "        \n",
    "        instructional_token = x[:, -1:, :]  # (N, 1, 64)\n",
    "        x = x[:, :-1, :]  # (N, 5, 64)\n",
    "        \n",
    "        # append mask tokens to sequence\n",
    "        mask_tokens = self.mask_token.repeat(x.shape[0], ids_restore.shape[1] + 1 - x.shape[1], 1)  # (N, 65-17(64-16=48), 32)\n",
    "        x_ = torch.cat([x[:, 1:, :], mask_tokens], dim=1)  # no cls token (N, L, 32)\n",
    "        x_ = torch.gather(x_, dim=1, index=ids_restore.unsqueeze(-1).repeat(1, 1, x.shape[2]))  # unshuffle\n",
    "        x = torch.cat([x[:, :1, :], x_], dim=1)  # append cls token (N, L+1, 32)\n",
    "        \n",
    "        # add pos embed\n",
    "        x = x + self.decoder_pos_embed\n",
    "        \n",
    "        index = self.patch_embed.num_patches // 2 + 1  # 13\n",
    "        instructional_token = instructional_token + self.decoder_pos_embed[:, index, :].unsqueeze(1)\n",
    "        x = torch.cat([x, instructional_token], dim=1)  # (B, 6, 128)\n",
    "\n",
    "        # apply Transformer blocks\n",
    "        for blk in self.decoder_blocks:\n",
    "            x = blk(x)\n",
    "        x = self.decoder_norm(x)\n",
    "\n",
    "        instructional_token = x[:, -1, :]\n",
    "        instructor = self.instructor_embed(instructional_token)  # (N, in_chans)\n",
    "        \n",
    "        x = x[:, :-1, :]\n",
    "        # predictor projection\n",
    "        x = self.decoder_pred(x)  # (N, L+1, 4*4*3)\n",
    "\n",
    "        # remove cls token\n",
    "        x = x[:, 1:, :]\n",
    "        return x, instructor  # (N, L, 3*3*15)\n",
    "\n",
    "    def patchify(self, imgs):\n",
    "        \"\"\"\n",
    "        imgs: (N, 3, H, W)\n",
    "        x: (N, L, patch_size**2*3)\n",
    "        \"\"\"\n",
    "        p = self.patch_embed.patch_size[0]  # 4\n",
    "        assert imgs.shape[2] == imgs.shape[3] and imgs.shape[2] % p == 0\n",
    "\n",
    "        h = w = imgs.shape[2] // p  # 8\n",
    "        x = imgs.reshape(shape=(imgs.shape[0], self.in_chans, h, p, w, p))\n",
    "        x = torch.einsum('nchpwq -> nhwpqc', x)\n",
    "        x = x.reshape(shape=(imgs.shape[0], h * w, p**2 * self.in_chans))\n",
    "        return x\n",
    "\n",
    "    def unpatchify(self, x):\n",
    "        \"\"\"\n",
    "        x: (N, L, patch_size**2 *3)\n",
    "        imgs: (N, 3, H, W)\n",
    "        \"\"\"\n",
    "        p = self.patch_embed.patch_size[0]\n",
    "        h = w = int(x.shape[1]**.5)\n",
    "        assert h * w == x.shape[1]\n",
    "        \n",
    "        x = x.reshape(shape=(x.shape[0], h, w, p, p, self.in_chans))\n",
    "        x = torch.einsum('nhwpqc -> nchpwq', x)\n",
    "        imgs = x.reshape(shape=(x.shape[0], self.in_chans, h * p, h * p))\n",
    "        return imgs\n",
    "\n",
    "    def forward_loss(self, imgs, pred, instructor, mask):\n",
    "        \"\"\"\n",
    "        imgs: [N, 3, H, W]\n",
    "        pred: [N, L, p*p*3]\n",
    "        mask: [N, L], 0 is keep, 1 is remove\n",
    "        \"\"\"\n",
    "        central_index = self.img_size // 2\n",
    "        center_pixel = imgs[:, :, central_index, central_index]  # (N, in_chans)\n",
    "        instructional_loss = (instructor - center_pixel) ** 2\n",
    "        instructional_loss = instructional_loss.mean()\n",
    "        \n",
    "        target = self.patchify(imgs)  # (N, L, patch_size**2*3)\n",
    "        loss = (pred - target) ** 2\n",
    "        loss = loss.mean(dim=-1)  # (N, L), mean loss per patch\n",
    "        loss = (loss * mask).sum() / mask.sum()  # mean loss on removed patches\n",
    "        return loss + instructional_loss\n",
    "    \n",
    "    def forward(self, imgs, mask_ratio=0.75):\n",
    "        # latent: (N, 16, D), maks: (N, L), ids_restore: (N, L) \n",
    "        latent, mask, ids_restore = self.forward_encoder(imgs, mask_ratio)\n",
    "        # pred: (N, L, 4*4*3)\n",
    "        pred, instructor = self.forward_decoder(latent, ids_restore)  # (N, L, p**2*15) 我们发现在decoder里面已经进行了unshuffle操作，所以这里的pred就是rencons\n",
    "        recons = self.unpatchify(pred)  # (N, 15, 15, 15)\n",
    "        loss = self.forward_loss(imgs, pred, instructor, mask)\n",
    "        return loss, recons, mask"
   ]
  },
  {
   "cell_type": "code",
   "execution_count": 13,
   "id": "4b1b8eab-6fdf-441a-bd6c-fcc051b7ea68",
   "metadata": {},
   "outputs": [],
   "source": [
    "class AverageMeter(object):\n",
    "    def __init__(self):\n",
    "        self.reset()\n",
    "    def reset(self):\n",
    "        self.avg = 0\n",
    "        self.sum = 0\n",
    "        self.cnt = 0\n",
    "    def update(self, val, n=1):\n",
    "        self.sum += val * n\n",
    "        self.cnt += n\n",
    "        self.avg = self.sum / self.cnt\n",
    "\n",
    "\n",
    "def pretrain(model, train_loader, device):\n",
    "    model.train()\n",
    "\n",
    "    optimizer = Adam(model.parameters(), lr=1e-3)\n",
    "    scheduler = optim.lr_scheduler.ExponentialLR(optimizer, gamma=0.99)\n",
    "    \n",
    "    train_len = len(train_loader)\n",
    "    log_name = \"./log/imae\"\n",
    "    logging.basicConfig(filename='%s.log' % log_name, level=logging.DEBUG, format='%(asctime)s %(levelname)-10s %(message)s')\n",
    "    path = './model/imae.pt'\n",
    "    \n",
    "    tic = time.time()\n",
    "    \n",
    "    for epoch in range(400):\n",
    "        objs = AverageMeter()\n",
    "        for batch_idx, (image, label) in tqdm(enumerate(train_loader)):\n",
    "            image = image.to(device)\n",
    "            optimizer.zero_grad()\n",
    "            \n",
    "            loss, recons, mask = model(image)\n",
    "            \n",
    "            loss.backward()\n",
    "            optimizer.step()\n",
    "\n",
    "            n = image.shape[0]\n",
    "            objs.update(loss.data, n)  # 计算所有训练样本的平均损失\n",
    "            if (batch_idx + 1) == len(train_loader):\n",
    "                logging.info('==>>> epoch: {}, train_loss: {:.4f}'.format(epoch+1, objs.avg))\n",
    "                print('epoch: {}, loss: {:.4f}'.format(epoch+1, objs.avg))\n",
    "\n",
    "        scheduler.step()\n",
    "    \n",
    "    toc = time.time()\n",
    "    print(\"Pre-training Time: {:.2f} seconds\".format(toc-tic))\n",
    "    torch.save(model.state_dict(), path)"
   ]
  },
  {
   "cell_type": "code",
   "execution_count": 14,
   "id": "7232e81e-e8cc-4425-a975-e30f62bf768f",
   "metadata": {},
   "outputs": [],
   "source": [
    "device = torch.device(\"cuda\" if torch.cuda.is_available() else \"cpu\")\n",
    "\n",
    "imae = IMAE()\n",
    "imae = imae.to(device)"
   ]
  },
  {
   "cell_type": "code",
   "execution_count": 15,
   "id": "c225f413-3296-4aa5-a3c6-52bfbe3cf82a",
   "metadata": {},
   "outputs": [],
   "source": [
    "def model_summary(model):\n",
    "    total_param = 0\n",
    "    for name, param in model.named_parameters():\n",
    "        if param.requires_grad:\n",
    "            num_param = np.prod(param.size())\n",
    "            if param.dim() > 1:\n",
    "                print(name+':', 'x'.join(str(x) for x in list(param.size())), '=', num_param)\n",
    "            else:\n",
    "                print(name+':', num_param)\n",
    "            total_param += num_param\n",
    "    print(\"\\nTotal Trainable Parameters:\", total_param)"
   ]
  },
  {
   "cell_type": "code",
   "execution_count": 16,
   "id": "d51ff803-e8fe-48f8-8a5f-949f5dae3ece",
   "metadata": {
    "scrolled": true
   },
   "outputs": [
    {
     "name": "stdout",
     "output_type": "stream",
     "text": [
      "cls_token: 1x1x256 = 256\n",
      "instructional_token: 1x1x256 = 256\n",
      "mask_token: 1x1x64 = 64\n",
      "patch_embed.proj.weight: 256x15x3x3 = 34560\n",
      "patch_embed.proj.bias: 256\n",
      "blocks.0.norm1.weight: 256\n",
      "blocks.0.norm1.bias: 256\n",
      "blocks.0.attn.qkv.weight: 768x256 = 196608\n",
      "blocks.0.attn.qkv.bias: 768\n",
      "blocks.0.attn.proj.weight: 256x256 = 65536\n",
      "blocks.0.attn.proj.bias: 256\n",
      "blocks.0.norm2.weight: 256\n",
      "blocks.0.norm2.bias: 256\n",
      "blocks.0.mlp.fc1.weight: 1024x256 = 262144\n",
      "blocks.0.mlp.fc1.bias: 1024\n",
      "blocks.0.mlp.fc2.weight: 256x1024 = 262144\n",
      "blocks.0.mlp.fc2.bias: 256\n",
      "blocks.1.norm1.weight: 256\n",
      "blocks.1.norm1.bias: 256\n",
      "blocks.1.attn.qkv.weight: 768x256 = 196608\n",
      "blocks.1.attn.qkv.bias: 768\n",
      "blocks.1.attn.proj.weight: 256x256 = 65536\n",
      "blocks.1.attn.proj.bias: 256\n",
      "blocks.1.norm2.weight: 256\n",
      "blocks.1.norm2.bias: 256\n",
      "blocks.1.mlp.fc1.weight: 1024x256 = 262144\n",
      "blocks.1.mlp.fc1.bias: 1024\n",
      "blocks.1.mlp.fc2.weight: 256x1024 = 262144\n",
      "blocks.1.mlp.fc2.bias: 256\n",
      "blocks.2.norm1.weight: 256\n",
      "blocks.2.norm1.bias: 256\n",
      "blocks.2.attn.qkv.weight: 768x256 = 196608\n",
      "blocks.2.attn.qkv.bias: 768\n",
      "blocks.2.attn.proj.weight: 256x256 = 65536\n",
      "blocks.2.attn.proj.bias: 256\n",
      "blocks.2.norm2.weight: 256\n",
      "blocks.2.norm2.bias: 256\n",
      "blocks.2.mlp.fc1.weight: 1024x256 = 262144\n",
      "blocks.2.mlp.fc1.bias: 1024\n",
      "blocks.2.mlp.fc2.weight: 256x1024 = 262144\n",
      "blocks.2.mlp.fc2.bias: 256\n",
      "blocks.3.norm1.weight: 256\n",
      "blocks.3.norm1.bias: 256\n",
      "blocks.3.attn.qkv.weight: 768x256 = 196608\n",
      "blocks.3.attn.qkv.bias: 768\n",
      "blocks.3.attn.proj.weight: 256x256 = 65536\n",
      "blocks.3.attn.proj.bias: 256\n",
      "blocks.3.norm2.weight: 256\n",
      "blocks.3.norm2.bias: 256\n",
      "blocks.3.mlp.fc1.weight: 1024x256 = 262144\n",
      "blocks.3.mlp.fc1.bias: 1024\n",
      "blocks.3.mlp.fc2.weight: 256x1024 = 262144\n",
      "blocks.3.mlp.fc2.bias: 256\n",
      "norm.weight: 256\n",
      "norm.bias: 256\n",
      "decoder_embed.weight: 64x256 = 16384\n",
      "decoder_embed.bias: 64\n",
      "decoder_blocks.0.norm1.weight: 64\n",
      "decoder_blocks.0.norm1.bias: 64\n",
      "decoder_blocks.0.attn.qkv.weight: 192x64 = 12288\n",
      "decoder_blocks.0.attn.qkv.bias: 192\n",
      "decoder_blocks.0.attn.proj.weight: 64x64 = 4096\n",
      "decoder_blocks.0.attn.proj.bias: 64\n",
      "decoder_blocks.0.norm2.weight: 64\n",
      "decoder_blocks.0.norm2.bias: 64\n",
      "decoder_blocks.0.mlp.fc1.weight: 256x64 = 16384\n",
      "decoder_blocks.0.mlp.fc1.bias: 256\n",
      "decoder_blocks.0.mlp.fc2.weight: 64x256 = 16384\n",
      "decoder_blocks.0.mlp.fc2.bias: 64\n",
      "decoder_blocks.1.norm1.weight: 64\n",
      "decoder_blocks.1.norm1.bias: 64\n",
      "decoder_blocks.1.attn.qkv.weight: 192x64 = 12288\n",
      "decoder_blocks.1.attn.qkv.bias: 192\n",
      "decoder_blocks.1.attn.proj.weight: 64x64 = 4096\n",
      "decoder_blocks.1.attn.proj.bias: 64\n",
      "decoder_blocks.1.norm2.weight: 64\n",
      "decoder_blocks.1.norm2.bias: 64\n",
      "decoder_blocks.1.mlp.fc1.weight: 256x64 = 16384\n",
      "decoder_blocks.1.mlp.fc1.bias: 256\n",
      "decoder_blocks.1.mlp.fc2.weight: 64x256 = 16384\n",
      "decoder_blocks.1.mlp.fc2.bias: 64\n",
      "decoder_norm.weight: 64\n",
      "decoder_norm.bias: 64\n",
      "decoder_pred.weight: 135x64 = 8640\n",
      "decoder_pred.bias: 135\n",
      "instructor_embed.weight: 15x64 = 960\n",
      "instructor_embed.bias: 15\n",
      "\n",
      "Total Trainable Parameters: 3321238\n"
     ]
    }
   ],
   "source": [
    "model_summary(imae)"
   ]
  },
  {
   "cell_type": "raw",
   "id": "0293b36c-dd7c-48ad-870d-0ce609bd21d3",
   "metadata": {},
   "source": [
    "input = torch.randn(1, 15, 15, 15)\n",
    "flops, params = profile(imae, inputs=(input, ))\n",
    " \n",
    "print(f'FLOPs: {flops}')\n",
    "print(f'Params: {params}')"
   ]
  },
  {
   "cell_type": "code",
   "execution_count": null,
   "id": "b0ee717e-e442-4b7f-b0d5-52ffdfdb013f",
   "metadata": {
    "scrolled": true
   },
   "outputs": [],
   "source": [
    "pretrain(imae, pretrain_loader, device)"
   ]
  },
  {
   "cell_type": "code",
   "execution_count": 17,
   "id": "86b73f7e-e232-4746-8e4c-0108317f8697",
   "metadata": {},
   "outputs": [],
   "source": [
    "class Encoder(IMAE):\n",
    "    def forward_encoder(self, x):\n",
    "        # embed patches\n",
    "        x = self.patch_embed(x)  # (B, 64, 64)\n",
    "        # add pos embed w/o cls token\n",
    "        x = x + self.pos_embed[:, 1:, :]  # (B, 64, 64)\n",
    "\n",
    "        # append cls token\n",
    "        cls_token = self.cls_token + self.pos_embed[:, :1, :]  # (1, 1, 64)\n",
    "        cls_tokens = cls_token.expand(x.shape[0], -1, -1)  # (B, 1, 64)\n",
    "        \n",
    "        instructional_token = self.instructional_token + self.pos_embed[:, 13, :].unsqueeze(1)  # (1, 1, 128)\n",
    "        instructional_token = instructional_token.expand(x.shape[0], -1, -1)  # (B, 1, 128)\n",
    "        \n",
    "        x = torch.cat([cls_tokens, x, instructional_token], dim=1)  # (B, 6, 128)\n",
    "        \n",
    "        # apply Transformer blocks\n",
    "        for blk in self.blocks:\n",
    "            x = blk(x)\n",
    "        x = self.norm(x)  # (B, 64+1, 64)\n",
    "        latent = x[:, 0, :]\n",
    "        return latent\n",
    "         \n",
    "    def forward(self, imgs):\n",
    "        latent = self.forward_encoder(imgs)\n",
    "        return latent"
   ]
  },
  {
   "cell_type": "code",
   "execution_count": 18,
   "id": "03ffa8cd-52ce-4f36-9f0e-a67f1c4540cb",
   "metadata": {},
   "outputs": [
    {
     "name": "stdout",
     "output_type": "stream",
     "text": [
      "done\n"
     ]
    }
   ],
   "source": [
    "encoder = Encoder().cuda()\n",
    "\n",
    "path = './model/imae.pt'\n",
    "encoder.load_state_dict(torch.load(path))\n",
    "encoder.eval()\n",
    "print('done')"
   ]
  },
  {
   "cell_type": "code",
   "execution_count": 19,
   "id": "84c789bb-33ef-4714-ac52-4de6267dd7c9",
   "metadata": {},
   "outputs": [],
   "source": [
    "def scatter(x, colors, num_classes=16):\n",
    "    palette = np.array([[255, 0, 0], [0, 255, 0], [0, 0, 255], [255, 255, 0], [0, 255, 255], [255, 0, 255], [192, 192, 192], [128, 128, 128], \n",
    "                        [128, 0, 0], [128, 128, 0], [0, 128, 0], [128, 0, 128], [0, 128, 128], [0, 0, 128], [255, 165, 0], [255, 215, 0]])/255.\n",
    "    \n",
    "    # We create a scatter plot.\n",
    "    fig = plt.figure(figsize=(8, 8))\n",
    "    ax = plt.subplot(aspect='equal')\n",
    "    sc = ax.scatter(x[:, 0], x[:, 1], lw=0, s=40, c=palette[colors.astype(np.int_)])\n",
    "    plt.xlim(-25, 25)\n",
    "    plt.ylim(-25, 25)\n",
    "    ax.axis('off')\n",
    "    ax.axis('tight')\n",
    "\n",
    "    # We add the labels for each digit.\n",
    "    txts = []\n",
    "    for i in range(num_classes):\n",
    "        # Position of each label.\n",
    "        xtext, ytext = np.median(x[colors == i, :], axis=0)\n",
    "        txt = ax.text(xtext, ytext, str(i+1), fontsize=24)\n",
    "        txt.set_path_effects([PathEffects.Stroke(linewidth=5, foreground=\"w\"), PathEffects.Normal()])\n",
    "        txts.append(txt)\n",
    "    fig.savefig('./tsne_imae.pdf', bbox_inches='tight')"
   ]
  },
  {
   "cell_type": "code",
   "execution_count": 20,
   "id": "8650802d-1b8e-48f6-ab0d-ee3f609eb2fa",
   "metadata": {},
   "outputs": [],
   "source": [
    "train_codings = []\n",
    "train_tar = []\n",
    "for batch_idx, (image, label) in enumerate(pretrain_loader):\n",
    "    with torch.no_grad():\n",
    "        image = image.to(device)\n",
    "        label = label.to(device)\n",
    "        codings = encoder(image)\n",
    "    train_codings.append(codings.cpu().data)\n",
    "    train_tar.append(label.cpu().data)\n",
    "\n",
    "x_train = torch.concat(train_codings)\n",
    "y_train = torch.concat(train_tar)\n",
    "\n",
    "x_train_numpy = x_train.numpy()\n",
    "y_train_numpy = y_train.numpy()"
   ]
  },
  {
   "cell_type": "code",
   "execution_count": 21,
   "id": "6243b096-e7fd-4c04-85fe-13be85419940",
   "metadata": {},
   "outputs": [
    {
     "data": {
      "image/png": "[encoded data removed]",
      "text/plain": [
       "<Figure size 800x800 with 1 Axes>"
      ]
     },
     "metadata": {},
     "output_type": "display_data"
    }
   ],
   "source": [
    "tsne_proj = TSNE(random_state=42).fit_transform(x_train_numpy)\n",
    "\n",
    "scatter(tsne_proj, y_train_numpy, num_classes)"
   ]
  },
  {
   "cell_type": "markdown",
   "id": "493b198b-453d-4bef-8a3a-c654539b0e79",
   "metadata": {},
   "source": [
    "## Metrics"
   ]
  },
  {
   "cell_type": "code",
   "execution_count": 22,
   "id": "4f8b02ff-3229-4364-8296-50101b690b93",
   "metadata": {},
   "outputs": [],
   "source": [
    "def mean_distance(codings, label, c=16):\n",
    "    codings_per_class = []\n",
    "    for i in range(c):\n",
    "        codings_per_class.append(codings[label == i, :])\n",
    "    centers = [torch.mean(codings_per_class[i], 0) for i in range(c)]\n",
    "    \n",
    "    inter_class_distance = torch.tensor(0.)\n",
    "    for k in range(c - 1):\n",
    "        for t in range(k + 1, c):\n",
    "            inter_class_distance += torch.dist(centers[k], centers[t], p=2)\n",
    "    mean_inter_class_distance = inter_class_distance / (c * (c - 1) / 2)\n",
    "    \n",
    "    intra_class_distance = torch.tensor(0.)\n",
    "    for i in range(c):\n",
    "        per_intra_class_distance = torch.tensor(0.)\n",
    "        per_class_features = codings_per_class[i]\n",
    "        center_feature = centers[i]\n",
    "        num = per_class_features.size(0)\n",
    "        for j in range(num):\n",
    "            per_intra_class_distance += torch.dist(per_class_features[j], center_feature, p=2)\n",
    "        per_intra_class_distance = per_intra_class_distance / num\n",
    "        \n",
    "        intra_class_distance += per_intra_class_distance\n",
    "    mean_intra_class_distance = intra_class_distance / c\n",
    "    return mean_intra_class_distance, mean_inter_class_distance"
   ]
  },
  {
   "cell_type": "code",
   "execution_count": 23,
   "id": "e1840ead-c0dc-4657-b587-8450aa6575ec",
   "metadata": {},
   "outputs": [
    {
     "data": {
      "text/plain": [
       "(tensor(8.9405), tensor(17.0757))"
      ]
     },
     "execution_count": 23,
     "metadata": {},
     "output_type": "execute_result"
    }
   ],
   "source": [
    "mean_intra_class_distance, mean_inter_class_distance = mean_distance(x_train, y_train, num_classes)\n",
    "\n",
    "mean_intra_class_distance, mean_inter_class_distance"
   ]
  },
  {
   "cell_type": "markdown",
   "id": "5cf0dd8d-6840-47ba-812c-2846a53b0f76",
   "metadata": {},
   "source": [
    "## Fine-tuning"
   ]
  },
  {
   "cell_type": "code",
   "execution_count": 24,
   "id": "eeb4a73e-57bb-4872-8ad1-91a626549726",
   "metadata": {},
   "outputs": [
    {
     "data": {
      "text/plain": [
       "<All keys matched successfully>"
      ]
     },
     "execution_count": 24,
     "metadata": {},
     "output_type": "execute_result"
    }
   ],
   "source": [
    "encoder = Encoder()\n",
    "\n",
    "path = './model/imae.pt'\n",
    "encoder.load_state_dict(torch.load(path))"
   ]
  },
  {
   "cell_type": "code",
   "execution_count": 25,
   "id": "dc1eb8a3-af6e-42a4-95a1-e96512547714",
   "metadata": {},
   "outputs": [],
   "source": [
    "for param in encoder.parameters():\n",
    "    param.requires_grad = False\n",
    "\n",
    "for param in encoder.blocks[-1].parameters():\n",
    "    param.requires_grad = True"
   ]
  },
  {
   "cell_type": "code",
   "execution_count": 26,
   "id": "01cc235d-a078-4750-b63f-7424071dd424",
   "metadata": {},
   "outputs": [],
   "source": [
    "cls_head = nn.Sequential(nn.Linear(256, 64), nn.ReLU(), nn.Dropout(0.2), nn.Linear(64, num_classes))"
   ]
  },
  {
   "cell_type": "code",
   "execution_count": 27,
   "id": "70ee1b89-e3f1-48f7-bb9f-00ee3b829fe1",
   "metadata": {},
   "outputs": [],
   "source": [
    "classifier = nn.Sequential(encoder, cls_head)\n",
    "classifier = classifier.to(device)\n",
    "\n",
    "criterion = nn.CrossEntropyLoss()\n",
    "optimizer = optim.Adam(classifier.parameters(), lr=1e-3)\n",
    "scheduler = optim.lr_scheduler.ExponentialLR(optimizer, gamma=0.99)"
   ]
  },
  {
   "cell_type": "code",
   "execution_count": 28,
   "id": "8df1f4f9-a392-4a10-97c0-90e4f0a41214",
   "metadata": {},
   "outputs": [
    {
     "name": "stdout",
     "output_type": "stream",
     "text": [
      "0.blocks.3.norm1.weight: 256\n",
      "0.blocks.3.norm1.bias: 256\n",
      "0.blocks.3.attn.qkv.weight: 768x256 = 196608\n",
      "0.blocks.3.attn.qkv.bias: 768\n",
      "0.blocks.3.attn.proj.weight: 256x256 = 65536\n",
      "0.blocks.3.attn.proj.bias: 256\n",
      "0.blocks.3.norm2.weight: 256\n",
      "0.blocks.3.norm2.bias: 256\n",
      "0.blocks.3.mlp.fc1.weight: 1024x256 = 262144\n",
      "0.blocks.3.mlp.fc1.bias: 1024\n",
      "0.blocks.3.mlp.fc2.weight: 256x1024 = 262144\n",
      "0.blocks.3.mlp.fc2.bias: 256\n",
      "1.0.weight: 64x256 = 16384\n",
      "1.0.bias: 64\n",
      "1.3.weight: 16x64 = 1024\n",
      "1.3.bias: 16\n",
      "\n",
      "Total Trainable Parameters: 807248\n"
     ]
    }
   ],
   "source": [
    "model_summary(classifier)"
   ]
  },
  {
   "cell_type": "code",
   "execution_count": 29,
   "id": "f25ff092-ad6a-4fcc-871d-398b485ad8d2",
   "metadata": {},
   "outputs": [],
   "source": [
    "if args.dataset == 'HU2013':\n",
    "    label = sio.loadmat(os.path.join(data_path, 'Houston_gt.mat'))['Houston_gt']\n",
    "elif args.dataset == 'HanChuan':\n",
    "    label = sio.loadmat(os.path.join(data_path, 'WHU_Hi_HanChuan_gt.mat'))['WHU_Hi_HanChuan_gt']\n",
    "elif args.dataset == 'KSC':\n",
    "    label = sio.loadmat(os.path.join(data_path, 'KSC_gt.mat'))['KSC_gt']\n",
    "elif args.dataset == 'Salinas':\n",
    "    label = sio.loadmat(os.path.join(data_path, 'Salinas_gt.mat'))['salinas_gt']"
   ]
  },
  {
   "cell_type": "code",
   "execution_count": 30,
   "id": "101f1645-30e9-43d9-b520-02c6a579a4f8",
   "metadata": {},
   "outputs": [
    {
     "name": "stdout",
     "output_type": "stream",
     "text": [
      "*******************************************************\n",
      "x_train shape = (160, 15, 15, 15), type = float64\n",
      "x_test  shape = (53969, 15, 15, 15), type = float64\n",
      "x_valid  shape = (1600, 15, 15, 15), type = float64\n",
      "*******************************************************\n",
      "y_train: shape = (160,), type = int64\n",
      "y_test: shape = (53969,), type = int64\n",
      "y_valid: shape = (1600,), type = int64\n",
      "*******************************************************\n"
     ]
    }
   ],
   "source": [
    "total_pos_train, total_pos_test, total_pos_valid, number_train, number_test, number_valid = choose_train_and_test(label, args.train_number, args.seed) \n",
    "\n",
    "x_train, x_test, x_valid = train_and_test_data(mirror_data, band, total_pos_train, total_pos_test, total_pos_valid, args.patch_size)\n",
    "y_train, y_test, y_valid = train_and_test_label(number_train, number_test, number_valid, num_classes)"
   ]
  },
  {
   "cell_type": "code",
   "execution_count": 31,
   "id": "b6a03e19-59e8-429b-90b0-419401e55199",
   "metadata": {},
   "outputs": [
    {
     "data": {
      "text/plain": [
       "array([[268,  24],\n",
       "       [245,  47],\n",
       "       [242,  56],\n",
       "       [263,  38],\n",
       "       [243,  49],\n",
       "       [246,  49],\n",
       "       [257,  21],\n",
       "       [243,  45],\n",
       "       [247,  36],\n",
       "       [245,  51]])"
      ]
     },
     "execution_count": 31,
     "metadata": {},
     "output_type": "execute_result"
    }
   ],
   "source": [
    "total_pos_train[:10]"
   ]
  },
  {
   "cell_type": "code",
   "execution_count": 32,
   "id": "6f933c8e-2dca-448a-b410-4d1be26279ba",
   "metadata": {},
   "outputs": [
    {
     "name": "stdout",
     "output_type": "stream",
     "text": [
      "torch.Size([160, 15, 15, 15])\n",
      "torch.Size([53969, 15, 15, 15])\n",
      "torch.Size([1600, 15, 15, 15])\n"
     ]
    }
   ],
   "source": [
    "# load data\n",
    "x_train = torch.from_numpy(x_train.transpose(0, 3, 1, 2)).type(torch.FloatTensor)  # (90, 1, 7, 7, 176)\n",
    "print(x_train.shape)\n",
    "y_train = torch.from_numpy(y_train).type(torch.LongTensor)  # (13,)\n",
    "train_label = Data.TensorDataset(x_train, y_train)\n",
    "\n",
    "x_test = torch.from_numpy(x_test.transpose(0, 3, 1, 2)).type(torch.FloatTensor)  # (5198, 1, 7, 7, 176)\n",
    "print(x_test.shape)\n",
    "y_test = torch.from_numpy(y_test).type(torch.LongTensor)  # (5198,)\n",
    "test_label = Data.TensorDataset(x_test, y_test)\n",
    "\n",
    "x_valid = torch.from_numpy(x_valid.transpose(0, 3, 1, 2)).type(torch.FloatTensor)  # (5211, 1, 7, 7, 176)\n",
    "print(x_valid.shape)\n",
    "y_valid = torch.from_numpy(y_valid).type(torch.LongTensor)\n",
    "valid_label = Data.TensorDataset(x_valid, y_valid)\n",
    "\n",
    "train_loader = Data.DataLoader(train_label, batch_size=32, shuffle=True)\n",
    "test_loader = Data.DataLoader(test_label, batch_size=128, shuffle=True)\n",
    "valid_loader = Data.DataLoader(valid_label, batch_size=64, shuffle=True)"
   ]
  },
  {
   "cell_type": "code",
   "execution_count": 33,
   "id": "5e43a2bf-3b0b-4c37-a456-4747cbd719eb",
   "metadata": {
    "scrolled": true
   },
   "outputs": [
    {
     "name": "stdout",
     "output_type": "stream",
     "text": [
      "Epoch: 001 - train_loss: 2.6643 - train_acc: 21.8750 - valid_loss: 2.3384 - valid_acc: 62.7500\n",
      "val_acc improved from 0.0000 to 62.7500, saving model to finetune_imae.pt\n",
      "Epoch: 002 - train_loss: 2.0989 - train_acc: 70.6250 - valid_loss: 1.8839 - valid_acc: 81.6875\n",
      "val_acc improved from 62.7500 to 81.6875, saving model to finetune_imae.pt\n",
      "Epoch: 003 - train_loss: 1.6434 - train_acc: 85.6250 - valid_loss: 1.4125 - valid_acc: 86.6875\n",
      "val_acc improved from 81.6875 to 86.6875, saving model to finetune_imae.pt\n",
      "Epoch: 004 - train_loss: 1.1732 - train_acc: 88.7500 - valid_loss: 0.9809 - valid_acc: 89.0000\n",
      "val_acc improved from 86.6875 to 89.0000, saving model to finetune_imae.pt\n",
      "Epoch: 005 - train_loss: 0.7762 - train_acc: 94.3750 - valid_loss: 0.6527 - valid_acc: 91.0625\n",
      "val_acc improved from 89.0000 to 91.0625, saving model to finetune_imae.pt\n",
      "Epoch: 006 - train_loss: 0.5047 - train_acc: 96.2500 - valid_loss: 0.4213 - valid_acc: 94.6875\n",
      "val_acc improved from 91.0625 to 94.6875, saving model to finetune_imae.pt\n",
      "Epoch: 007 - train_loss: 0.2943 - train_acc: 97.5000 - valid_loss: 0.2735 - valid_acc: 96.5625\n",
      "val_acc improved from 94.6875 to 96.5625, saving model to finetune_imae.pt\n",
      "Epoch: 008 - train_loss: 0.2111 - train_acc: 98.1250 - valid_loss: 0.1844 - valid_acc: 97.4375\n",
      "val_acc improved from 96.5625 to 97.4375, saving model to finetune_imae.pt\n",
      "Epoch: 009 - train_loss: 0.1270 - train_acc: 98.7500 - valid_loss: 0.1390 - valid_acc: 97.6875\n",
      "val_acc improved from 97.4375 to 97.6875, saving model to finetune_imae.pt\n",
      "Epoch: 010 - train_loss: 0.0860 - train_acc: 100.0000 - valid_loss: 0.1127 - valid_acc: 98.1250\n",
      "val_acc improved from 97.6875 to 98.1250, saving model to finetune_imae.pt\n",
      "Epoch: 011 - train_loss: 0.0658 - train_acc: 100.0000 - valid_loss: 0.0952 - valid_acc: 98.3750\n",
      "val_acc improved from 98.1250 to 98.3750, saving model to finetune_imae.pt\n",
      "Epoch: 012 - train_loss: 0.0441 - train_acc: 100.0000 - valid_loss: 0.0850 - valid_acc: 98.4375\n",
      "val_acc improved from 98.3750 to 98.4375, saving model to finetune_imae.pt\n",
      "Epoch: 013 - train_loss: 0.0347 - train_acc: 100.0000 - valid_loss: 0.0795 - valid_acc: 98.4375\n",
      "val_acc did not improve from 98.4375\n",
      "Epoch: 014 - train_loss: 0.0355 - train_acc: 100.0000 - valid_loss: 0.0787 - valid_acc: 98.3125\n",
      "val_acc did not improve from 98.4375\n",
      "Epoch: 015 - train_loss: 0.0253 - train_acc: 100.0000 - valid_loss: 0.0789 - valid_acc: 98.5000\n",
      "val_acc improved from 98.4375 to 98.5000, saving model to finetune_imae.pt\n",
      "Epoch: 016 - train_loss: 0.0161 - train_acc: 100.0000 - valid_loss: 0.0790 - valid_acc: 98.4375\n",
      "val_acc did not improve from 98.5000\n",
      "Epoch: 017 - train_loss: 0.0129 - train_acc: 100.0000 - valid_loss: 0.0784 - valid_acc: 98.3125\n",
      "val_acc did not improve from 98.5000\n",
      "Epoch: 018 - train_loss: 0.0195 - train_acc: 100.0000 - valid_loss: 0.0771 - valid_acc: 98.5000\n",
      "val_acc did not improve from 98.5000\n",
      "Epoch: 019 - train_loss: 0.0107 - train_acc: 100.0000 - valid_loss: 0.0749 - valid_acc: 98.5625\n",
      "val_acc improved from 98.5000 to 98.5625, saving model to finetune_imae.pt\n",
      "Epoch: 020 - train_loss: 0.0162 - train_acc: 100.0000 - valid_loss: 0.0721 - valid_acc: 98.5625\n",
      "val_acc did not improve from 98.5625\n",
      "Epoch: 021 - train_loss: 0.0117 - train_acc: 100.0000 - valid_loss: 0.0700 - valid_acc: 98.5000\n",
      "val_acc did not improve from 98.5625\n",
      "Epoch: 022 - train_loss: 0.0099 - train_acc: 100.0000 - valid_loss: 0.0683 - valid_acc: 98.4375\n",
      "val_acc did not improve from 98.5625\n",
      "Epoch: 023 - train_loss: 0.0129 - train_acc: 100.0000 - valid_loss: 0.0672 - valid_acc: 98.5000\n",
      "val_acc did not improve from 98.5625\n",
      "Epoch: 024 - train_loss: 0.0094 - train_acc: 100.0000 - valid_loss: 0.0669 - valid_acc: 98.5000\n",
      "val_acc did not improve from 98.5625\n",
      "Epoch: 025 - train_loss: 0.0107 - train_acc: 100.0000 - valid_loss: 0.0667 - valid_acc: 98.5000\n",
      "val_acc did not improve from 98.5625\n",
      "Epoch: 026 - train_loss: 0.0071 - train_acc: 100.0000 - valid_loss: 0.0662 - valid_acc: 98.5000\n",
      "val_acc did not improve from 98.5625\n",
      "Epoch: 027 - train_loss: 0.0081 - train_acc: 100.0000 - valid_loss: 0.0659 - valid_acc: 98.5000\n",
      "val_acc did not improve from 98.5625\n",
      "Epoch: 028 - train_loss: 0.0079 - train_acc: 100.0000 - valid_loss: 0.0658 - valid_acc: 98.5000\n",
      "val_acc did not improve from 98.5625\n",
      "Epoch: 029 - train_loss: 0.0091 - train_acc: 100.0000 - valid_loss: 0.0664 - valid_acc: 98.5000\n",
      "val_acc did not improve from 98.5625\n",
      "Epoch: 030 - train_loss: 0.0054 - train_acc: 100.0000 - valid_loss: 0.0673 - valid_acc: 98.4375\n",
      "val_acc did not improve from 98.5625\n",
      "Epoch: 031 - train_loss: 0.0063 - train_acc: 100.0000 - valid_loss: 0.0673 - valid_acc: 98.5000\n",
      "val_acc did not improve from 98.5625\n",
      "Epoch: 032 - train_loss: 0.0064 - train_acc: 100.0000 - valid_loss: 0.0671 - valid_acc: 98.5000\n",
      "val_acc did not improve from 98.5625\n",
      "Epoch: 033 - train_loss: 0.0056 - train_acc: 100.0000 - valid_loss: 0.0670 - valid_acc: 98.5000\n",
      "val_acc did not improve from 98.5625\n",
      "Epoch: 034 - train_loss: 0.0059 - train_acc: 100.0000 - valid_loss: 0.0669 - valid_acc: 98.5000\n",
      "val_acc did not improve from 98.5625\n",
      "Epoch: 035 - train_loss: 0.0079 - train_acc: 100.0000 - valid_loss: 0.0670 - valid_acc: 98.5000\n",
      "val_acc did not improve from 98.5625\n",
      "Epoch: 036 - train_loss: 0.0080 - train_acc: 100.0000 - valid_loss: 0.0670 - valid_acc: 98.5000\n",
      "val_acc did not improve from 98.5625\n",
      "Epoch: 037 - train_loss: 0.0044 - train_acc: 100.0000 - valid_loss: 0.0670 - valid_acc: 98.5000\n",
      "val_acc did not improve from 98.5625\n",
      "Epoch: 038 - train_loss: 0.0053 - train_acc: 100.0000 - valid_loss: 0.0673 - valid_acc: 98.4375\n",
      "val_acc did not improve from 98.5625\n",
      "Epoch: 039 - train_loss: 0.0062 - train_acc: 100.0000 - valid_loss: 0.0682 - valid_acc: 98.4375\n",
      "val_acc did not improve from 98.5625\n",
      "Epoch: 040 - train_loss: 0.0081 - train_acc: 100.0000 - valid_loss: 0.0689 - valid_acc: 98.5000\n",
      "val_acc did not improve from 98.5625\n",
      "Epoch: 041 - train_loss: 0.0042 - train_acc: 100.0000 - valid_loss: 0.0695 - valid_acc: 98.3750\n",
      "val_acc did not improve from 98.5625\n",
      "Epoch: 042 - train_loss: 0.0057 - train_acc: 100.0000 - valid_loss: 0.0700 - valid_acc: 98.3750\n",
      "val_acc did not improve from 98.5625\n",
      "Epoch: 043 - train_loss: 0.0039 - train_acc: 100.0000 - valid_loss: 0.0705 - valid_acc: 98.3750\n",
      "val_acc did not improve from 98.5625\n",
      "Epoch: 044 - train_loss: 0.0048 - train_acc: 100.0000 - valid_loss: 0.0702 - valid_acc: 98.3750\n",
      "val_acc did not improve from 98.5625\n",
      "Epoch: 045 - train_loss: 0.0047 - train_acc: 100.0000 - valid_loss: 0.0699 - valid_acc: 98.3750\n",
      "val_acc did not improve from 98.5625\n",
      "Epoch: 046 - train_loss: 0.0038 - train_acc: 100.0000 - valid_loss: 0.0696 - valid_acc: 98.3750\n",
      "val_acc did not improve from 98.5625\n",
      "Epoch: 047 - train_loss: 0.0038 - train_acc: 100.0000 - valid_loss: 0.0694 - valid_acc: 98.4375\n",
      "val_acc did not improve from 98.5625\n",
      "Epoch: 048 - train_loss: 0.0043 - train_acc: 100.0000 - valid_loss: 0.0692 - valid_acc: 98.5000\n",
      "val_acc did not improve from 98.5625\n",
      "Epoch: 049 - train_loss: 0.0030 - train_acc: 100.0000 - valid_loss: 0.0689 - valid_acc: 98.5000\n",
      "val_acc did not improve from 98.5625\n",
      "Epoch: 050 - train_loss: 0.0030 - train_acc: 100.0000 - valid_loss: 0.0690 - valid_acc: 98.4375\n",
      "val_acc did not improve from 98.5625\n",
      "Epoch: 051 - train_loss: 0.0048 - train_acc: 100.0000 - valid_loss: 0.0694 - valid_acc: 98.4375\n",
      "val_acc did not improve from 98.5625\n",
      "Epoch: 052 - train_loss: 0.0049 - train_acc: 100.0000 - valid_loss: 0.0708 - valid_acc: 98.4375\n",
      "val_acc did not improve from 98.5625\n",
      "Epoch: 053 - train_loss: 0.0036 - train_acc: 100.0000 - valid_loss: 0.0708 - valid_acc: 98.4375\n",
      "val_acc did not improve from 98.5625\n",
      "Epoch: 054 - train_loss: 0.0047 - train_acc: 100.0000 - valid_loss: 0.0704 - valid_acc: 98.4375\n",
      "val_acc did not improve from 98.5625\n",
      "Epoch: 055 - train_loss: 0.0031 - train_acc: 100.0000 - valid_loss: 0.0701 - valid_acc: 98.4375\n",
      "val_acc did not improve from 98.5625\n",
      "Epoch: 056 - train_loss: 0.0035 - train_acc: 100.0000 - valid_loss: 0.0699 - valid_acc: 98.4375\n",
      "val_acc did not improve from 98.5625\n",
      "Epoch: 057 - train_loss: 0.0025 - train_acc: 100.0000 - valid_loss: 0.0695 - valid_acc: 98.3750\n",
      "val_acc did not improve from 98.5625\n",
      "Epoch: 058 - train_loss: 0.0035 - train_acc: 100.0000 - valid_loss: 0.0692 - valid_acc: 98.3750\n",
      "val_acc did not improve from 98.5625\n",
      "Epoch: 059 - train_loss: 0.0038 - train_acc: 100.0000 - valid_loss: 0.0689 - valid_acc: 98.4375\n",
      "val_acc did not improve from 98.5625\n",
      "Epoch: 060 - train_loss: 0.0032 - train_acc: 100.0000 - valid_loss: 0.0689 - valid_acc: 98.4375\n",
      "val_acc did not improve from 98.5625\n",
      "Epoch: 061 - train_loss: 0.0028 - train_acc: 100.0000 - valid_loss: 0.0690 - valid_acc: 98.4375\n",
      "val_acc did not improve from 98.5625\n",
      "Epoch: 062 - train_loss: 0.0026 - train_acc: 100.0000 - valid_loss: 0.0692 - valid_acc: 98.4375\n",
      "val_acc did not improve from 98.5625\n",
      "Epoch: 063 - train_loss: 0.0028 - train_acc: 100.0000 - valid_loss: 0.0697 - valid_acc: 98.3750\n",
      "val_acc did not improve from 98.5625\n",
      "Epoch: 064 - train_loss: 0.0022 - train_acc: 100.0000 - valid_loss: 0.0702 - valid_acc: 98.3750\n",
      "val_acc did not improve from 98.5625\n",
      "Epoch: 065 - train_loss: 0.0028 - train_acc: 100.0000 - valid_loss: 0.0705 - valid_acc: 98.4375\n",
      "val_acc did not improve from 98.5625\n",
      "Epoch: 066 - train_loss: 0.0023 - train_acc: 100.0000 - valid_loss: 0.0706 - valid_acc: 98.4375\n",
      "val_acc did not improve from 98.5625\n",
      "Epoch: 067 - train_loss: 0.0039 - train_acc: 100.0000 - valid_loss: 0.0706 - valid_acc: 98.4375\n",
      "val_acc did not improve from 98.5625\n",
      "Epoch: 068 - train_loss: 0.0022 - train_acc: 100.0000 - valid_loss: 0.0704 - valid_acc: 98.4375\n",
      "val_acc did not improve from 98.5625\n",
      "Epoch: 069 - train_loss: 0.0026 - train_acc: 100.0000 - valid_loss: 0.0703 - valid_acc: 98.4375\n",
      "val_acc did not improve from 98.5625\n",
      "Epoch: 070 - train_loss: 0.0019 - train_acc: 100.0000 - valid_loss: 0.0705 - valid_acc: 98.4375\n",
      "val_acc did not improve from 98.5625\n",
      "Epoch: 071 - train_loss: 0.0022 - train_acc: 100.0000 - valid_loss: 0.0707 - valid_acc: 98.4375\n",
      "val_acc did not improve from 98.5625\n",
      "Epoch: 072 - train_loss: 0.0033 - train_acc: 100.0000 - valid_loss: 0.0707 - valid_acc: 98.4375\n",
      "val_acc did not improve from 98.5625\n",
      "Epoch: 073 - train_loss: 0.0020 - train_acc: 100.0000 - valid_loss: 0.0708 - valid_acc: 98.4375\n",
      "val_acc did not improve from 98.5625\n",
      "Epoch: 074 - train_loss: 0.0027 - train_acc: 100.0000 - valid_loss: 0.0708 - valid_acc: 98.4375\n",
      "val_acc did not improve from 98.5625\n",
      "Epoch: 075 - train_loss: 0.0018 - train_acc: 100.0000 - valid_loss: 0.0708 - valid_acc: 98.4375\n",
      "val_acc did not improve from 98.5625\n",
      "Epoch: 076 - train_loss: 0.0025 - train_acc: 100.0000 - valid_loss: 0.0705 - valid_acc: 98.4375\n",
      "val_acc did not improve from 98.5625\n",
      "Epoch: 077 - train_loss: 0.0023 - train_acc: 100.0000 - valid_loss: 0.0704 - valid_acc: 98.4375\n",
      "val_acc did not improve from 98.5625\n",
      "Epoch: 078 - train_loss: 0.0020 - train_acc: 100.0000 - valid_loss: 0.0708 - valid_acc: 98.4375\n",
      "val_acc did not improve from 98.5625\n",
      "Epoch: 079 - train_loss: 0.0014 - train_acc: 100.0000 - valid_loss: 0.0710 - valid_acc: 98.4375\n",
      "val_acc did not improve from 98.5625\n",
      "Epoch: 080 - train_loss: 0.0027 - train_acc: 100.0000 - valid_loss: 0.0709 - valid_acc: 98.4375\n",
      "val_acc did not improve from 98.5625\n",
      "Epoch: 081 - train_loss: 0.0021 - train_acc: 100.0000 - valid_loss: 0.0708 - valid_acc: 98.4375\n",
      "val_acc did not improve from 98.5625\n",
      "Epoch: 082 - train_loss: 0.0024 - train_acc: 100.0000 - valid_loss: 0.0707 - valid_acc: 98.4375\n",
      "val_acc did not improve from 98.5625\n",
      "Epoch: 083 - train_loss: 0.0016 - train_acc: 100.0000 - valid_loss: 0.0706 - valid_acc: 98.4375\n",
      "val_acc did not improve from 98.5625\n",
      "Epoch: 084 - train_loss: 0.0013 - train_acc: 100.0000 - valid_loss: 0.0706 - valid_acc: 98.4375\n",
      "val_acc did not improve from 98.5625\n",
      "Epoch: 085 - train_loss: 0.0015 - train_acc: 100.0000 - valid_loss: 0.0706 - valid_acc: 98.4375\n",
      "val_acc did not improve from 98.5625\n",
      "Epoch: 086 - train_loss: 0.0017 - train_acc: 100.0000 - valid_loss: 0.0706 - valid_acc: 98.4375\n",
      "val_acc did not improve from 98.5625\n",
      "Epoch: 087 - train_loss: 0.0013 - train_acc: 100.0000 - valid_loss: 0.0707 - valid_acc: 98.4375\n",
      "val_acc did not improve from 98.5625\n",
      "Epoch: 088 - train_loss: 0.0023 - train_acc: 100.0000 - valid_loss: 0.0710 - valid_acc: 98.4375\n",
      "val_acc did not improve from 98.5625\n",
      "Epoch: 089 - train_loss: 0.0016 - train_acc: 100.0000 - valid_loss: 0.0711 - valid_acc: 98.4375\n",
      "val_acc did not improve from 98.5625\n",
      "Epoch: 090 - train_loss: 0.0019 - train_acc: 100.0000 - valid_loss: 0.0712 - valid_acc: 98.4375\n",
      "val_acc did not improve from 98.5625\n",
      "Epoch: 091 - train_loss: 0.0017 - train_acc: 100.0000 - valid_loss: 0.0711 - valid_acc: 98.4375\n",
      "val_acc did not improve from 98.5625\n",
      "Epoch: 092 - train_loss: 0.0016 - train_acc: 100.0000 - valid_loss: 0.0710 - valid_acc: 98.4375\n",
      "val_acc did not improve from 98.5625\n",
      "Epoch: 093 - train_loss: 0.0012 - train_acc: 100.0000 - valid_loss: 0.0709 - valid_acc: 98.4375\n",
      "val_acc did not improve from 98.5625\n",
      "Epoch: 094 - train_loss: 0.0020 - train_acc: 100.0000 - valid_loss: 0.0714 - valid_acc: 98.4375\n",
      "val_acc did not improve from 98.5625\n",
      "Epoch: 095 - train_loss: 0.0020 - train_acc: 100.0000 - valid_loss: 0.0719 - valid_acc: 98.4375\n",
      "val_acc did not improve from 98.5625\n",
      "Epoch: 096 - train_loss: 0.0012 - train_acc: 100.0000 - valid_loss: 0.0721 - valid_acc: 98.4375\n",
      "val_acc did not improve from 98.5625\n",
      "Epoch: 097 - train_loss: 0.0014 - train_acc: 100.0000 - valid_loss: 0.0723 - valid_acc: 98.4375\n",
      "val_acc did not improve from 98.5625\n",
      "Epoch: 098 - train_loss: 0.0017 - train_acc: 100.0000 - valid_loss: 0.0723 - valid_acc: 98.4375\n",
      "val_acc did not improve from 98.5625\n",
      "Epoch: 099 - train_loss: 0.0013 - train_acc: 100.0000 - valid_loss: 0.0723 - valid_acc: 98.4375\n",
      "val_acc did not improve from 98.5625\n",
      "Epoch: 100 - train_loss: 0.0016 - train_acc: 100.0000 - valid_loss: 0.0723 - valid_acc: 98.4375\n",
      "val_acc did not improve from 98.5625\n",
      "Training Time: 11.49 seconds\n",
      "**************************************************\n"
     ]
    }
   ],
   "source": [
    "acc_list = [0.00]\n",
    "path = './model/finetune_imae.pt'\n",
    "tic = time.time()\n",
    "for epoch in range(args.epoches):\n",
    "    # 计算的是移动平均准确率\n",
    "    train_acc, train_loss = train(classifier, train_loader, criterion, optimizer)\n",
    "    valid_acc, valid_loss = valid(classifier, valid_loader, criterion)\n",
    "    print(\"Epoch: {:03d} - train_loss: {:.4f} - train_acc: {:.4f} - valid_loss: {:.4f} - valid_acc: {:.4f}\".\\\n",
    "          format(epoch+1, train_loss, train_acc, valid_loss, valid_acc))\n",
    "    scheduler.step()\n",
    "\n",
    "    acc_list.append(valid_acc)\n",
    "    if acc_list[-1] > acc_list[-2]:\n",
    "        print(\"val_acc improved from {:.4f} to {:.4f}, saving model to finetune_imae.pt\".format(acc_list[-2], acc_list[-1]))\n",
    "        torch.save(classifier.state_dict(), path)\n",
    "    else:\n",
    "        print(\"val_acc did not improve from {:.4f}\".format(acc_list[-2]))\n",
    "        acc_list[-1] = acc_list[-2]\n",
    "        \n",
    "toc = time.time()\n",
    "print(\"Training Time: {:.2f} seconds\".format(toc-tic))\n",
    "print(\"**************************************************\")"
   ]
  },
  {
   "cell_type": "markdown",
   "id": "2da94bdc-cada-4277-9a3d-9632fc669f1d",
   "metadata": {},
   "source": [
    "## Testing"
   ]
  },
  {
   "cell_type": "code",
   "execution_count": 34,
   "id": "2b779527-8135-4268-9cf7-ad5b55198849",
   "metadata": {},
   "outputs": [
    {
     "name": "stdout",
     "output_type": "stream",
     "text": [
      "done\n"
     ]
    }
   ],
   "source": [
    "path = './model/finetune_imae.pt'\n",
    "\n",
    "classifier.load_state_dict(torch.load(path))\n",
    "classifier.eval()\n",
    "print('done')"
   ]
  },
  {
   "cell_type": "code",
   "execution_count": 35,
   "id": "d8b0bd1a-40cd-4fa5-a6d6-0a93055b496c",
   "metadata": {},
   "outputs": [
    {
     "name": "stdout",
     "output_type": "stream",
     "text": [
      "Testing Time: 2.43 seconds\n"
     ]
    }
   ],
   "source": [
    "tic = time.time()\n",
    "tar_test, pre_test = test(classifier, test_loader)\n",
    "toc = time.time()\n",
    "print(\"Testing Time: {:.2f} seconds\".format(toc-tic))\n",
    "\n",
    "OA_test, AA_mean_test, Kappa_test, AA_test = output_metric(tar_test, pre_test)\n",
    "AA_test = np.around(AA_test*100, 2)"
   ]
  },
  {
   "cell_type": "code",
   "execution_count": 36,
   "id": "77b1c53b-a801-43d6-a198-622cba5bcf04",
   "metadata": {},
   "outputs": [
    {
     "name": "stdout",
     "output_type": "stream",
     "text": [
      "*******************************************************************\n",
      "Final result:\n",
      "OA: 95.18, AA: 97.89, Kappa: 0.9463\n",
      "*******************************************************************\n",
      "Recal: [ 98.7  100.   100.    99.49  99.63 100.    99.66  89.81  98.85  98.01\n",
      " 100.    99.69  99.78  99.91  82.69 100.  ]\n",
      "*******************************************************************\n",
      "Parameter:\n",
      "dataset: Salinas\n",
      "flag_test: train\n",
      "gpu_id: 0\n",
      "seed: 42\n",
      "batch_size: 128\n",
      "patch_size: 15\n",
      "epoches: 200\n",
      "learning_rate: 0.001\n",
      "gamma: 0.99\n",
      "train_number: 10\n",
      "pretrain_proportion: 0.5\n",
      "*******************************************************************\n"
     ]
    }
   ],
   "source": [
    "print(\"*******************************************************************\")\n",
    "print(\"Final result:\")\n",
    "print(\"OA: {:.2f}, AA: {:.2f}, Kappa: {:.4f}\".format(OA_test * 100., AA_mean_test*100., Kappa_test))\n",
    "print(\"*******************************************************************\")\n",
    "print(\"Recal: {}\".format(AA_test))\n",
    "print(\"*******************************************************************\")\n",
    "print(\"Parameter:\")\n",
    "print_args(vars(args))\n",
    "print(\"*******************************************************************\")"
   ]
  },
  {
   "cell_type": "code",
   "execution_count": 37,
   "id": "062e0122-f509-4805-a3bb-8d1c8d7f980e",
   "metadata": {},
   "outputs": [],
   "source": [
    "average_accuracy = str(list(AA_test))\n",
    "file_name = \"./CR/imae_1.txt\"\n",
    "\n",
    "with open(file_name, 'w') as x_file:\n",
    "    x_file.write(\"[{:.2f}, {:.2f}, {:.4f}]\".format(OA_test * 100., AA_mean_test*100., Kappa_test))\n",
    "    x_file.write('\\n')\n",
    "    x_file.write('{}'.format(average_accuracy))"
   ]
  },
  {
   "cell_type": "markdown",
   "id": "54b20211-3ad1-46c5-9e59-0f5d20e696ff",
   "metadata": {},
   "source": [
    "## Panoramic Classification"
   ]
  },
  {
   "cell_type": "code",
   "execution_count": 38,
   "id": "fd63e143-9076-4116-8367-ad047c969dd8",
   "metadata": {},
   "outputs": [],
   "source": [
    "def output_label(model, loader):\n",
    "    model.eval()\n",
    "    pre = np.array([]).astype('int')\n",
    "    with torch.no_grad():\n",
    "        for batch_idx, (batch_data, batch_target) in enumerate(loader):\n",
    "            batch_data = batch_data.cuda()\n",
    "            batch_pred = model(batch_data)  # (B, 9)\n",
    "            _, pred = batch_pred.topk(1, axis=1)  # (B, 1)\n",
    "            pp = pred.squeeze()\n",
    "            pre = np.append(pre, pp.data.cpu().numpy())\n",
    "    return pre"
   ]
  },
  {
   "cell_type": "code",
   "execution_count": 39,
   "id": "70369533-6519-41c8-a614-64a799dc8c50",
   "metadata": {},
   "outputs": [
    {
     "name": "stdout",
     "output_type": "stream",
     "text": [
      "*******************************************************\n",
      "x_forward shape = (54129, 15, 15, 15), type = float64\n",
      "x_backward  shape = (56975, 15, 15, 15), type = float64\n",
      "*******************************************************\n"
     ]
    }
   ],
   "source": [
    "pos_forward, pos_backward = choose_all_pixels(label)\n",
    "\n",
    "x_forward, x_backward, y_forward, y_backward = all_data(mirror_data, band, pos_forward, pos_backward, patch_size=15)"
   ]
  },
  {
   "cell_type": "code",
   "execution_count": 40,
   "id": "cd5637b1-0427-47f2-bceb-a369485273a3",
   "metadata": {},
   "outputs": [
    {
     "name": "stdout",
     "output_type": "stream",
     "text": [
      "torch.Size([54129, 15, 15, 15])\n",
      "torch.Size([56975, 15, 15, 15])\n"
     ]
    }
   ],
   "source": [
    "# load data\n",
    "x_forward = torch.from_numpy(x_forward.transpose(0, 3, 1, 2)).type(torch.FloatTensor)\n",
    "print(x_forward.shape)\n",
    "y_forward = torch.from_numpy(y_forward).type(torch.LongTensor)  # (13,)\n",
    "forward_label = Data.TensorDataset(x_forward, y_forward)\n",
    "\n",
    "x_backward = torch.from_numpy(x_backward.transpose(0, 3, 1, 2)).type(torch.FloatTensor)\n",
    "print(x_backward.shape)\n",
    "y_backward = torch.from_numpy(y_backward).type(torch.LongTensor)  # (13,)\n",
    "backward_label = Data.TensorDataset(x_backward, y_backward)\n",
    "\n",
    "forward_loader = Data.DataLoader(forward_label, batch_size=128, shuffle=False)\n",
    "backward_loader = Data.DataLoader(backward_label, batch_size=128, shuffle=False)"
   ]
  },
  {
   "cell_type": "code",
   "execution_count": 41,
   "id": "d00e26c0-92b2-4abd-9bde-d5e7120292ff",
   "metadata": {},
   "outputs": [],
   "source": [
    "# output classification maps\n",
    "pre_forward = output_label(classifier, forward_loader)\n",
    "pre_backward = output_label(classifier, backward_loader)\n",
    "\n",
    "prediction_matrix = np.zeros((height, width), dtype=float)  # (512, 614)\n",
    "for i in range(pos_forward.shape[0]):\n",
    "    prediction_matrix[pos_forward[i, 0], pos_forward[i, 1]] = pre_forward[i] + 1\n",
    "\n",
    "for j in range(pos_backward.shape[0]):\n",
    "    prediction_matrix[pos_backward[j, 0], pos_backward[j, 1]] = pre_backward[j] + 1"
   ]
  },
  {
   "cell_type": "code",
   "execution_count": 42,
   "id": "cb395097-86f1-4a37-a14b-d01c1cbed8c8",
   "metadata": {},
   "outputs": [
    {
     "data": {
      "image/png": "[encoded data removed]",
      "text/plain": [
       "<Figure size 144.667x341.333 with 1 Axes>"
      ]
     },
     "metadata": {},
     "output_type": "display_data"
    }
   ],
   "source": [
    "predict_map = list_to_colormap(prediction_matrix.ravel())\n",
    "predict_map = np.reshape(predict_map, (height, width, 3))\n",
    "\n",
    "classification_map(predict_map, './salinas_imae.pdf')"
   ]
  }
 ],
 "metadata": {
  "kernelspec": {
   "display_name": "Python 3 (ipykernel)",
   "language": "python",
   "name": "python3"
  },
  "language_info": {
   "codemirror_mode": {
    "name": "ipython",
    "version": 3
   },
   "file_extension": ".py",
   "mimetype": "text/x-python",
   "name": "python",
   "nbconvert_exporter": "python",
   "pygments_lexer": "ipython3",
   "version": "3.10.12"
  }
 },
 "nbformat": 4,
 "nbformat_minor": 5
}
