{
 "cells": [
  {
   "cell_type": "code",
   "execution_count": 1,
   "id": "da89c5bb-63a3-4277-82fa-213d0b17a4e8",
   "metadata": {},
   "outputs": [],
   "source": [
    "import os\n",
    "import time\n",
    "import math\n",
    "import random\n",
    "import logging\n",
    "import warnings\n",
    "import operator\n",
    "import numpy as np\n",
    "from copy import copy\n",
    "from typing import Tuple\n",
    "from functools import reduce\n",
    "\n",
    "import torch\n",
    "import torchvision\n",
    "import torch.nn as nn\n",
    "from torch import optim\n",
    "import torch.utils.data as Data\n",
    "import torch.nn.functional as F\n",
    "from torch.optim.adam import Adam\n",
    "from torchvision import transforms\n",
    "from torch.nn.modules.loss import _Loss\n",
    "from torch.utils.data import DataLoader\n",
    "from torch.utils.data import random_split\n",
    "from torchvision.utils import make_grid, save_image\n",
    "\n",
    "import matplotlib\n",
    "import seaborn as sns\n",
    "from tqdm import tqdm\n",
    "import matplotlib.pyplot as plt\n",
    "from sklearn.manifold import TSNE\n",
    "from monty.collections import AttrDict\n",
    "import matplotlib.patheffects as PathEffects\n",
    "\n",
    "from CNNUtils import train, test, valid, output_metric\n",
    "\n",
    "%matplotlib inline"
   ]
  },
  {
   "cell_type": "code",
   "execution_count": 2,
   "id": "0e3bd45f-1fea-478e-9b51-c83c7b39da02",
   "metadata": {},
   "outputs": [],
   "source": [
    "def seed_everything(seed=42):\n",
    "    random.seed(seed)\n",
    "    os.environ['PYTHONHASHSEED'] = str(seed)\n",
    "    np.random.seed(seed)\n",
    "    torch.manual_seed(seed)\n",
    "    torch.cuda.manual_seed(seed)\n",
    "    torch.backends.cudnn.benchmark = False\n",
    "    torch.backends.cudnn.deterministic = True\n",
    "\n",
    "\n",
    "seed_everything()"
   ]
  },
  {
   "cell_type": "code",
   "execution_count": 3,
   "id": "da839897-5e2e-49e3-b418-7b76ba90dd92",
   "metadata": {},
   "outputs": [],
   "source": [
    "trans = torchvision.transforms.Compose([torchvision.transforms.ToTensor(), torchvision.transforms.Normalize((0.,), (1,))])\n",
    "\n",
    "mnist_train = torchvision.datasets.MNIST('./data/', train=True, transform=trans, download=True)\n",
    "mnist_train, mnist_val = random_split(mnist_train, [10000, 50000], generator=torch.Generator().manual_seed(42))\n",
    "\n",
    "mnist_test = torchvision.datasets.MNIST('./data/', train=False, transform=torchvision.transforms.ToTensor(), download=True)\n",
    "\n",
    "train_loader = DataLoader(dataset=mnist_train, batch_size=32, shuffle=True)\n",
    "valid_loader = DataLoader(dataset=mnist_val, batch_size=32, shuffle=True)\n",
    "test_loader = DataLoader(dataset=mnist_test, batch_size=128, shuffle=True)"
   ]
  },
  {
   "cell_type": "code",
   "execution_count": 4,
   "id": "84d2ad39-6da7-435a-90cb-f4147f244e42",
   "metadata": {},
   "outputs": [
    {
     "data": {
      "image/png": "[encoded data removed]",
      "text/plain": [
       "<Figure size 200x200 with 1 Axes>"
      ]
     },
     "metadata": {},
     "output_type": "display_data"
    }
   ],
   "source": [
    "dataiter = iter(train_loader)\n",
    "sample = next(dataiter)[0][0]\n",
    "sample = sample.numpy().transpose(1, 2, 0)\n",
    "plt.figure(figsize=(2, 2))\n",
    "plt.imshow(sample)\n",
    "plt.axis('off')\n",
    "plt.show()"
   ]
  },
  {
   "cell_type": "code",
   "execution_count": 5,
   "id": "cc99d32d-76ca-41ce-bb43-985d043c459c",
   "metadata": {},
   "outputs": [],
   "source": [
    "def Conv2dStack(in_channels=1, out_channels=[128, 128, 128, 128], kernel_sizes=[3, 3, 3, 3], strides=[2, 2, 1, 1], activation=nn.ReLU(), \n",
    "                activate_final=True):\n",
    "    assert len(out_channels) == len(kernel_sizes) == len(strides)\n",
    "    channels = [in_channels] + list(out_channels)  # [3, 128, 128, 128]\n",
    "    layers = []\n",
    "    for i in range(len(channels) - 1):\n",
    "        in_channels = channels[i]\n",
    "        out_channels = channels[i+1]\n",
    "        kernel_size = kernel_sizes[i]\n",
    "        stride = strides[i]\n",
    "        conv = nn.Conv2d(in_channels=in_channels, out_channels=out_channels, kernel_size=kernel_size, stride=stride)\n",
    "        bn = nn.BatchNorm2d(out_channels)\n",
    "        layers.append(conv)\n",
    "        layers.append(bn)\n",
    "        layers.append(activation)\n",
    "    if not activate_final:  # 是否激活最后一个巻积层\n",
    "        layers.pop()\n",
    "    return nn.Sequential(*layers)\n",
    "\n",
    "\n",
    "def measure_shape(network, input_shape=[1, 28, 28], input_dtype=torch.float32):\n",
    "    device = next(iter(network.parameters())).device\n",
    "    with torch.no_grad():\n",
    "        input = torch.randn(1, *input_shape, dtype=input_dtype, device=device)\n",
    "        return network(input).shape[1:]\n",
    "\n",
    "\n",
    "class CNNEncoder(nn.Module):\n",
    "    def __init__(self, input_shape=[1, 28, 28], out_channels=[128, 128, 128, 128], kernel_sizes=[3, 3, 3, 3], strides=[2, 2, 1, 1], \n",
    "                 activation=nn.ReLU(), activate_final=True):\n",
    "        super(CNNEncoder, self).__init__()\n",
    "        self.network = Conv2dStack(in_channels=input_shape[0], out_channels=out_channels, kernel_sizes=kernel_sizes, strides=strides, \n",
    "                                   activation=activation, activate_final=activate_final)\n",
    "        self.output_shape = measure_shape(self.network, input_shape=input_shape)  # (128, 2, 2)\n",
    "\n",
    "    def forward(self, image):\n",
    "        # image: (batch, 1, 28, 28)\n",
    "        return self.network(image)  # (batch, 128, 2, 2)"
   ]
  },
  {
   "cell_type": "code",
   "execution_count": 6,
   "id": "0b58bb84-1654-4569-9c39-6a8fff700eab",
   "metadata": {},
   "outputs": [],
   "source": [
    "class Classifier(nn.Module):\n",
    "    def __init__(self, input_shape: Tuple[int, int, int], encoder: CNNEncoder, n_roots=10):\n",
    "        super(Classifier, self).__init__()\n",
    "        self.input_shape = input_shape\n",
    "        self.encoder = encoder\n",
    "        self.n_roots = n_roots\n",
    "        self._build()\n",
    "\n",
    "    def _build(self):\n",
    "        self.subconsciousness = nn.Sequential(nn.AdaptiveAvgPool2d(1), nn.Flatten(), nn.Linear(128, 64), nn.ReLU())\n",
    "        self.header = nn.Linear(64, self.n_roots)\n",
    "\n",
    "\n",
    "    def forward(self, image):\n",
    "        # (batch, 1, 28, 28)\n",
    "        img_embedding = self.encoder(image)  # (B, 128, 2, 2)\n",
    "        \n",
    "        h = self.subconsciousness(img_embedding)  # (B, 10)\n",
    "        roots_probs = self.header(h)\n",
    "        return roots_probs"
   ]
  },
  {
   "cell_type": "code",
   "execution_count": 7,
   "id": "119cb1dd-fd44-4350-a137-ae9130ba3949",
   "metadata": {},
   "outputs": [],
   "source": [
    "cnn_encoder = CNNEncoder()\n",
    "model = Classifier(input_shape=[1, 28, 28], encoder=cnn_encoder)\n",
    "model = model.cuda()\n",
    "criterion = nn.CrossEntropyLoss()\n",
    "optimizer = optim.Adam(model.parameters(), lr=1e-3)\n",
    "scheduler = optim.lr_scheduler.ExponentialLR(optimizer, gamma=0.99)"
   ]
  },
  {
   "cell_type": "code",
   "execution_count": 8,
   "id": "c76d8046-2812-46d4-89b5-288e32007799",
   "metadata": {
    "scrolled": true
   },
   "outputs": [
    {
     "name": "stdout",
     "output_type": "stream",
     "text": [
      "Epoch: 001 - train_loss: 0.3329 - train_acc: 92.6600 - valid_loss: 0.0788 - valid_acc: 97.3500\n",
      "val_acc improved from 0.0000 to 97.3500, saving model to CNN.pt\n",
      "Epoch: 002 - train_loss: 0.0729 - train_acc: 97.7900 - valid_loss: 0.0753 - valid_acc: 97.4300\n",
      "val_acc improved from 97.3500 to 97.4300, saving model to CNN.pt\n",
      "Epoch: 003 - train_loss: 0.0495 - train_acc: 98.3500 - valid_loss: 0.0674 - valid_acc: 97.8400\n",
      "val_acc improved from 97.4300 to 97.8400, saving model to CNN.pt\n",
      "Epoch: 004 - train_loss: 0.0319 - train_acc: 99.0200 - valid_loss: 0.0461 - valid_acc: 98.6700\n",
      "val_acc improved from 97.8400 to 98.6700, saving model to CNN.pt\n",
      "Epoch: 005 - train_loss: 0.0197 - train_acc: 99.4300 - valid_loss: 0.0412 - valid_acc: 98.6800\n",
      "val_acc improved from 98.6700 to 98.6800, saving model to CNN.pt\n",
      "Epoch: 006 - train_loss: 0.0273 - train_acc: 99.1100 - valid_loss: 0.0560 - valid_acc: 98.1900\n",
      "val_acc did not improve from 98.6800\n",
      "Epoch: 007 - train_loss: 0.0209 - train_acc: 99.4000 - valid_loss: 0.0455 - valid_acc: 98.5300\n",
      "val_acc did not improve from 98.6800\n",
      "Epoch: 008 - train_loss: 0.0129 - train_acc: 99.6100 - valid_loss: 0.0450 - valid_acc: 98.7000\n",
      "val_acc improved from 98.6800 to 98.7000, saving model to CNN.pt\n",
      "Epoch: 009 - train_loss: 0.0110 - train_acc: 99.7100 - valid_loss: 0.0604 - valid_acc: 98.2800\n",
      "val_acc did not improve from 98.7000\n",
      "Epoch: 010 - train_loss: 0.0112 - train_acc: 99.6200 - valid_loss: 0.0438 - valid_acc: 98.7100\n",
      "val_acc improved from 98.7000 to 98.7100, saving model to CNN.pt\n",
      "Epoch: 011 - train_loss: 0.0144 - train_acc: 99.5900 - valid_loss: 0.0665 - valid_acc: 98.2000\n",
      "val_acc did not improve from 98.7100\n",
      "Epoch: 012 - train_loss: 0.0169 - train_acc: 99.4000 - valid_loss: 0.0388 - valid_acc: 98.7400\n",
      "val_acc improved from 98.7100 to 98.7400, saving model to CNN.pt\n",
      "Epoch: 013 - train_loss: 0.0053 - train_acc: 99.8700 - valid_loss: 0.0429 - valid_acc: 98.7400\n",
      "val_acc did not improve from 98.7400\n",
      "Epoch: 014 - train_loss: 0.0071 - train_acc: 99.7700 - valid_loss: 0.0493 - valid_acc: 98.6000\n",
      "val_acc did not improve from 98.7400\n",
      "Epoch: 015 - train_loss: 0.0140 - train_acc: 99.5300 - valid_loss: 0.0463 - valid_acc: 98.7000\n",
      "val_acc did not improve from 98.7400\n",
      "Epoch: 016 - train_loss: 0.0058 - train_acc: 99.8000 - valid_loss: 0.0434 - valid_acc: 98.8800\n",
      "val_acc improved from 98.7400 to 98.8800, saving model to CNN.pt\n",
      "Epoch: 017 - train_loss: 0.0029 - train_acc: 99.9800 - valid_loss: 0.0397 - valid_acc: 98.9600\n",
      "val_acc improved from 98.8800 to 98.9600, saving model to CNN.pt\n",
      "Epoch: 018 - train_loss: 0.0028 - train_acc: 99.9000 - valid_loss: 0.0512 - valid_acc: 98.6800\n",
      "val_acc did not improve from 98.9600\n",
      "Epoch: 019 - train_loss: 0.0068 - train_acc: 99.7800 - valid_loss: 0.0702 - valid_acc: 98.0800\n",
      "val_acc did not improve from 98.9600\n",
      "Epoch: 020 - train_loss: 0.0143 - train_acc: 99.4700 - valid_loss: 0.0597 - valid_acc: 98.4400\n",
      "val_acc did not improve from 98.9600\n",
      "Epoch: 021 - train_loss: 0.0112 - train_acc: 99.6400 - valid_loss: 0.0489 - valid_acc: 98.6800\n",
      "val_acc did not improve from 98.9600\n",
      "Epoch: 022 - train_loss: 0.0034 - train_acc: 99.9200 - valid_loss: 0.0420 - valid_acc: 98.8900\n",
      "val_acc did not improve from 98.9600\n",
      "Epoch: 023 - train_loss: 0.0026 - train_acc: 99.9100 - valid_loss: 0.0492 - valid_acc: 98.7800\n",
      "val_acc did not improve from 98.9600\n",
      "Epoch: 024 - train_loss: 0.0018 - train_acc: 99.9500 - valid_loss: 0.0510 - valid_acc: 98.6700\n",
      "val_acc did not improve from 98.9600\n",
      "Epoch: 025 - train_loss: 0.0015 - train_acc: 99.9400 - valid_loss: 0.0628 - valid_acc: 98.4200\n",
      "val_acc did not improve from 98.9600\n",
      "Epoch: 026 - train_loss: 0.0128 - train_acc: 99.6300 - valid_loss: 0.0564 - valid_acc: 98.6000\n",
      "val_acc did not improve from 98.9600\n",
      "Epoch: 027 - train_loss: 0.0052 - train_acc: 99.7900 - valid_loss: 0.0644 - valid_acc: 98.4600\n",
      "val_acc did not improve from 98.9600\n",
      "Epoch: 028 - train_loss: 0.0050 - train_acc: 99.7500 - valid_loss: 0.0527 - valid_acc: 98.8300\n",
      "val_acc did not improve from 98.9600\n",
      "Epoch: 029 - train_loss: 0.0098 - train_acc: 99.6400 - valid_loss: 0.0595 - valid_acc: 98.4100\n",
      "val_acc did not improve from 98.9600\n",
      "Epoch: 030 - train_loss: 0.0072 - train_acc: 99.7500 - valid_loss: 0.0509 - valid_acc: 98.7000\n",
      "val_acc did not improve from 98.9600\n",
      "Epoch: 031 - train_loss: 0.0015 - train_acc: 99.9600 - valid_loss: 0.0481 - valid_acc: 98.7300\n",
      "val_acc did not improve from 98.9600\n",
      "Epoch: 032 - train_loss: 0.0013 - train_acc: 99.9400 - valid_loss: 0.0428 - valid_acc: 98.8200\n",
      "val_acc did not improve from 98.9600\n",
      "Early stopping, the most optimal valid_acc is: 98.96%\n",
      "Training Time: 107.81 seconds\n",
      "**************************************************\n"
     ]
    }
   ],
   "source": [
    "tic = time.time()\n",
    "early_epoch = 0\n",
    "acc_list = [0.00]\n",
    "path = './model/Classifier.pt'\n",
    "\n",
    "for epoch in range(1, 100+1):\n",
    "    # 计算的是移动平均准确率\n",
    "    train_acc, train_loss = train(model, train_loader, criterion, optimizer)\n",
    "    valid_acc, valid_loss = valid(model, test_loader, criterion)\n",
    "    print(\"Epoch: {:03d} - train_loss: {:.4f} - train_acc: {:.4f} - valid_loss: {:.4f} - valid_acc: {:.4f}\".\\\n",
    "          format(epoch, train_loss, train_acc, valid_loss, valid_acc))\n",
    "    scheduler.step()\n",
    "\n",
    "    acc_list.append(valid_acc)\n",
    "    if acc_list[-1] > acc_list[-2]:\n",
    "        print(\"val_acc improved from {:.4f} to {:.4f}, saving model to CNN.pt\".format(acc_list[-2], acc_list[-1]))\n",
    "        torch.save(model.state_dict(), path)\n",
    "        early_epoch = 0\n",
    "    else:\n",
    "        print(\"val_acc did not improve from {:.4f}\".format(acc_list[-2]))\n",
    "        early_epoch += 1\n",
    "        acc_list[-1] = acc_list[-2]\n",
    "        if early_epoch == 15:\n",
    "            model.load_state_dict(torch.load(path))\n",
    "            print('Early stopping, the most optimal valid_acc is: {:.2f}%'.format(acc_list[-1].item()))\n",
    "            break\n",
    "  \n",
    "toc = time.time()\n",
    "print(\"Training Time: {:.2f} seconds\".format(toc-tic))\n",
    "print(\"**************************************************\")"
   ]
  },
  {
   "cell_type": "code",
   "execution_count": 9,
   "id": "80d28a91-0605-413f-9916-bb7200866aca",
   "metadata": {},
   "outputs": [
    {
     "name": "stdout",
     "output_type": "stream",
     "text": [
      "ready\n"
     ]
    }
   ],
   "source": [
    "path = './model/Classifier.pt'\n",
    "model.load_state_dict(torch.load(path))\n",
    "model.eval()\n",
    "print('ready')"
   ]
  },
  {
   "cell_type": "code",
   "execution_count": 10,
   "id": "688d1a77-e50c-40d2-b9ae-e51d25b45296",
   "metadata": {},
   "outputs": [],
   "source": [
    "encoder = nn.Sequential(model.encoder, model.subconsciousness)\n",
    "encoder = encoder.cuda()"
   ]
  },
  {
   "cell_type": "code",
   "execution_count": 11,
   "id": "ea5dc0d3-18c9-4a0c-aaaa-98ee99af03b7",
   "metadata": {},
   "outputs": [],
   "source": [
    "train_codings = []\n",
    "train_tar = []\n",
    "for batch_idx, (image, label) in enumerate(train_loader):\n",
    "    with torch.no_grad():\n",
    "        image = image.cuda()\n",
    "        label = label.cuda()\n",
    "        codings = encoder(image)\n",
    "    train_codings.append(codings.cpu().data)\n",
    "    train_tar.append(label.cpu().data)\n",
    "\n",
    "x_train = torch.concat(train_codings)\n",
    "y_train = torch.concat(train_tar)\n",
    "\n",
    "x_train_numpy = x_train.numpy()\n",
    "y_train_numpy = y_train.numpy()"
   ]
  },
  {
   "cell_type": "code",
   "execution_count": 12,
   "id": "e60b968d-8d63-428a-baca-c0d9ed5becd3",
   "metadata": {},
   "outputs": [],
   "source": [
    "def scatter(x, colors):\n",
    "    # We choose a color palette with seaborn.\n",
    "    palette = np.array(sns.color_palette(\"hls\", 10))\n",
    "    \n",
    "    # We create a scatter plot.\n",
    "    fig = plt.figure(figsize=(8, 8))\n",
    "    ax = plt.subplot(aspect='equal')\n",
    "    sc = ax.scatter(x[:,0], x[:,1], lw=0, s=40, c=palette[colors.astype(np.int_)])\n",
    "    plt.xlim(-25, 25)\n",
    "    plt.ylim(-25, 25)\n",
    "    ax.axis('off')\n",
    "    ax.axis('tight')\n",
    "\n",
    "    # We add the labels for each digit.\n",
    "    txts = []\n",
    "    for i in range(10):\n",
    "        # Position of each label.\n",
    "        xtext, ytext = np.median(x[colors == i, :], axis=0)\n",
    "        txt = ax.text(xtext, ytext, str(i+1), fontsize=24)\n",
    "        txt.set_path_effects([PathEffects.Stroke(linewidth=5, foreground=\"w\"), PathEffects.Normal()])\n",
    "        txts.append(txt)\n",
    "    fig.savefig('./tsne_cnn.pdf', dpi=300, bbox_inches='tight')"
   ]
  },
  {
   "cell_type": "code",
   "execution_count": 13,
   "id": "7dda1525-49c1-48e0-9eb3-2a5056af6ba6",
   "metadata": {},
   "outputs": [
    {
     "data": {
      "image/png": "[encoded data removed]",
      "text/plain": [
       "<Figure size 800x800 with 1 Axes>"
      ]
     },
     "metadata": {},
     "output_type": "display_data"
    }
   ],
   "source": [
    "tsne_proj = TSNE(random_state=42).fit_transform(x_train_numpy)\n",
    "\n",
    "scatter(tsne_proj, y_train_numpy)"
   ]
  },
  {
   "cell_type": "markdown",
   "id": "31d6c65c-13d1-484b-a968-9ad22091dc10",
   "metadata": {},
   "source": [
    "## Metrics"
   ]
  },
  {
   "cell_type": "code",
   "execution_count": 14,
   "id": "1c7e8448-e95a-4bb3-a527-eaf28a000fb2",
   "metadata": {},
   "outputs": [],
   "source": [
    "def mean_distance(codings, label, c=10):\n",
    "    codings_per_class = []  # [(16, ) * 10]\n",
    "    for i in range(c):\n",
    "        codings_per_class.append(codings[label == i, :])\n",
    "    centers = [torch.mean(codings_per_class[i], 0) for i in range(c)]\n",
    "    \n",
    "    inter_class_distance = torch.tensor(0.)\n",
    "    for k in range(c - 1):\n",
    "        for t in range(k + 1, c):\n",
    "            inter_class_distance += torch.dist(centers[k], centers[t], p=2)\n",
    "    mean_inter_class_distance = inter_class_distance / (c * (c - 1) / 2)\n",
    "    \n",
    "    intra_class_distance = torch.tensor(0.)\n",
    "    for i in range(c):\n",
    "        per_intra_class_distance = torch.tensor(0.)\n",
    "        per_class_features = codings_per_class[i]\n",
    "        center_feature = centers[i]\n",
    "        num = per_class_features.size(0)\n",
    "        for j in range(num):\n",
    "            per_intra_class_distance += torch.dist(per_class_features[j], center_feature, p=2)\n",
    "        per_intra_class_distance = per_intra_class_distance / num\n",
    "        \n",
    "        intra_class_distance += per_intra_class_distance\n",
    "    mean_intra_class_distance = intra_class_distance / c\n",
    "    return mean_intra_class_distance, mean_inter_class_distance"
   ]
  },
  {
   "cell_type": "code",
   "execution_count": 15,
   "id": "bf8f9c78-05de-47c1-9c96-53f506d94a37",
   "metadata": {},
   "outputs": [
    {
     "data": {
      "text/plain": [
       "(tensor(5.1001), tensor(22.4725))"
      ]
     },
     "execution_count": 15,
     "metadata": {},
     "output_type": "execute_result"
    }
   ],
   "source": [
    "mean_intra_class_distance, mean_inter_class_distance = mean_distance(x_train, y_train)\n",
    "\n",
    "mean_intra_class_distance, mean_inter_class_distance"
   ]
  },
  {
   "cell_type": "markdown",
   "id": "648a54e7-ce6e-4248-95cb-a4e4a15371c3",
   "metadata": {},
   "source": [
    "## Testing"
   ]
  },
  {
   "cell_type": "code",
   "execution_count": 16,
   "id": "7f8a35bf-4c23-49ad-a2d2-6b06825abdab",
   "metadata": {},
   "outputs": [],
   "source": [
    "tar_test, pre_test = test(model, valid_loader)\n",
    "OA_test, AA_mean_test, Kappa_test, AA_test = output_metric(tar_test, pre_test)\n",
    "AA_test = np.around(AA_test*100, 2)"
   ]
  },
  {
   "cell_type": "code",
   "execution_count": 17,
   "id": "a7f38a13-9edc-47b5-a782-5b9e0399add7",
   "metadata": {},
   "outputs": [
    {
     "name": "stdout",
     "output_type": "stream",
     "text": [
      "*******************************************************************\n",
      "Final result:\n",
      "OA: 98.76, AA: 98.76, Kappa: 0.9863\n",
      "*******************************************************************\n",
      "Recal: [99.35 99.33 98.97 98.6  98.33 98.71 99.57 98.52 98.06 98.11]\n",
      "*******************************************************************\n"
     ]
    }
   ],
   "source": [
    "print(\"*******************************************************************\")\n",
    "print(\"Final result:\")\n",
    "print(\"OA: {:.2f}, AA: {:.2f}, Kappa: {:.4f}\".format(OA_test * 100., AA_mean_test*100., Kappa_test))\n",
    "print(\"*******************************************************************\")\n",
    "print(\"Recal: {}\".format(AA_test))\n",
    "print(\"*******************************************************************\")"
   ]
  },
  {
   "cell_type": "code",
   "execution_count": null,
   "id": "2deac5cf-733b-40f2-bbbe-ee87f7cfc5ed",
   "metadata": {},
   "outputs": [],
   "source": []
  }
 ],
 "metadata": {
  "kernelspec": {
   "display_name": "Python 3 (ipykernel)",
   "language": "python",
   "name": "python3"
  },
  "language_info": {
   "codemirror_mode": {
    "name": "ipython",
    "version": 3
   },
   "file_extension": ".py",
   "mimetype": "text/x-python",
   "name": "python",
   "nbconvert_exporter": "python",
   "pygments_lexer": "ipython3",
   "version": "3.10.12"
  }
 },
 "nbformat": 4,
 "nbformat_minor": 5
}
