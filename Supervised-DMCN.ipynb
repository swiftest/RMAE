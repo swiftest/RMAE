{
 "cells": [
  {
   "cell_type": "code",
   "execution_count": 1,
   "metadata": {
    "id": "DZU9nS-J714K"
   },
   "outputs": [],
   "source": [
    "import os\n",
    "import time\n",
    "import argparse\n",
    "import numpy as np\n",
    "import scipy.io as sio\n",
    "from copy import deepcopy\n",
    "from einops import rearrange\n",
    "import matplotlib.pyplot as plt\n",
    "\n",
    "\n",
    "import torch\n",
    "import torch.nn as nn\n",
    "from torch import optim\n",
    "import torch.utils.data as Data\n",
    "import torch.nn.functional as F\n",
    "from torch.nn.modules.loss import _Loss\n",
    "\n",
    "\n",
    "from sklearn.decomposition import PCA\n",
    "from sklearn.preprocessing import StandardScaler\n",
    "\n",
    "\n",
    "from data_prepare import mirror_hsi\n",
    "from data_prepare import choose_train_and_test\n",
    "from data_prepare import choose_all_pixels, all_data\n",
    "from data_prepare import train_and_test_data, train_and_test_label\n",
    "\n",
    "\n",
    "from Utils import AverageMeter, accuracy\n",
    "from Utils import output_metric, plot_confusion_matrix\n",
    "from Utils import list_to_colormap, classification_map, print_args\n",
    "\n",
    "\n",
    "import math\n",
    "import pickle\n",
    "from operator import truediv\n",
    "from datetime import datetime\n",
    "\n",
    "\n",
    "%matplotlib inline"
   ]
  },
  {
   "cell_type": "code",
   "execution_count": 2,
   "metadata": {},
   "outputs": [],
   "source": [
    "parser = argparse.ArgumentParser(\"DMCN\")\n",
    "parser.add_argument('--dataset', choices=['HU2013', 'Salinas', 'HongHu', 'KSC'], default='Salinas', help='dataset to use')\n",
    "parser.add_argument('--seed', type=int, default=42, help='number of seed')\n",
    "parser.add_argument('--batch_size', type=int, default=32, help='number of batch size')\n",
    "parser.add_argument('--patch_size', type=int, default=15, help='size of patches')\n",
    "parser.add_argument('--epoches', type=int, default=100, help='epoch number')\n",
    "parser.add_argument('--learning_rate', type=float, default=5e-3, help='learning rate')\n",
    "parser.add_argument('--gamma', type=float, default=0.99, help='gamma')\n",
    "parser.add_argument('--weight_decay', type=float, default=0.001, help='weight_decay')\n",
    "parser.add_argument('--train_number', type=int, default=10, help='num_train_per_class')\n",
    "args = parser.parse_args(args=[])"
   ]
  },
  {
   "cell_type": "code",
   "execution_count": 3,
   "metadata": {},
   "outputs": [
    {
     "name": "stdout",
     "output_type": "stream",
     "text": [
      "The class numbers of the HSI data is: 16\n"
     ]
    }
   ],
   "source": [
    "# prepare data\n",
    "data_path = os.path.join(os.getcwd(), 'dataset')\n",
    "\n",
    "if args.dataset == 'HU2013':\n",
    "    data = sio.loadmat(os.path.join(data_path, 'Houston.mat'))['Houston']\n",
    "    label = sio.loadmat(os.path.join(data_path, 'Houston_gt.mat'))['Houston_gt']\n",
    "elif args.dataset == 'HanChuan':\n",
    "    data = sio.loadmat(os.path.join(data_path, 'WHU_Hi_HanChuan.mat'))['WHU_Hi_HanChuan']\n",
    "    label = sio.loadmat(os.path.join(data_path, 'WHU_Hi_HanChuan_gt.mat'))['WHU_Hi_HanChuan_gt']\n",
    "elif args.dataset == 'KSC':\n",
    "    data = sio.loadmat(os.path.join(data_path, 'KSC.mat'))['KSC']\n",
    "    label = sio.loadmat(os.path.join(data_path, 'KSC_gt.mat'))['KSC_gt']\n",
    "elif args.dataset == 'Salinas':\n",
    "    data = sio.loadmat(os.path.join(data_path, 'Salinas_corrected.mat'))['salinas_corrected']\n",
    "    label = sio.loadmat(os.path.join(data_path, 'Salinas_gt.mat'))['salinas_gt']\n",
    "else:\n",
    "    raise ValueError(\"Unknown dataset\")\n",
    "\n",
    "num_classes = np.max(label)\n",
    "print('The class numbers of the HSI data is:', num_classes)"
   ]
  },
  {
   "cell_type": "code",
   "execution_count": 4,
   "metadata": {},
   "outputs": [],
   "source": [
    "shapeor = data.shape\n",
    "data = data.reshape(np.prod(data.shape[:2]), np.prod(data.shape[2:]))\n",
    "\n",
    "std_scaler = StandardScaler()\n",
    "std_data = std_scaler.fit_transform(data)\n",
    "data = std_data.reshape(shapeor)"
   ]
  },
  {
   "cell_type": "code",
   "execution_count": 5,
   "metadata": {},
   "outputs": [],
   "source": [
    "def applyPCA(data, numComponents=30):\n",
    "    new_data = np.reshape(data, (-1, data.shape[2]))\n",
    "    pca = PCA(n_components=numComponents, whiten=True)\n",
    "    new_data = pca.fit_transform(new_data)\n",
    "    new_data = np.reshape(new_data, (data.shape[0], data.shape[1], numComponents))\n",
    "    return new_data, pca"
   ]
  },
  {
   "cell_type": "code",
   "execution_count": 6,
   "metadata": {},
   "outputs": [
    {
     "name": "stdout",
     "output_type": "stream",
     "text": [
      "height=512, width=217, band=30\n"
     ]
    }
   ],
   "source": [
    "K = 30\n",
    "data, pca = applyPCA(data, numComponents=K)\n",
    "\n",
    "# data size\n",
    "height, width, band = data.shape\n",
    "print(\"height={0}, width={1}, band={2}\".format(height, width, band))"
   ]
  },
  {
   "cell_type": "code",
   "execution_count": 7,
   "metadata": {},
   "outputs": [
    {
     "name": "stdout",
     "output_type": "stream",
     "text": [
      "*******************************************************\n",
      "patch_size : 15\n",
      "mirror_data shape : [526, 231, 30]\n",
      "*******************************************************\n"
     ]
    }
   ],
   "source": [
    "mirror_data = mirror_hsi(height, width, band, data, patch_size=args.patch_size)"
   ]
  },
  {
   "cell_type": "code",
   "execution_count": 8,
   "metadata": {},
   "outputs": [
    {
     "name": "stdout",
     "output_type": "stream",
     "text": [
      "*******************************************************\n",
      "x_train shape = (160, 15, 15, 30), type = float64\n",
      "x_test  shape = (53969, 15, 15, 30), type = float64\n",
      "x_valid  shape = (1600, 15, 15, 30), type = float64\n",
      "*******************************************************\n",
      "y_train: shape = (160,), type = int64\n",
      "y_test: shape = (53969,), type = int64\n",
      "y_valid: shape = (1600,), type = int64\n",
      "*******************************************************\n"
     ]
    }
   ],
   "source": [
    "total_pos_train, total_pos_test, total_pos_valid, number_train, number_test, number_valid = choose_train_and_test(label, args.train_number, args.seed) \n",
    "\n",
    "x_train, x_test, x_valid = train_and_test_data(mirror_data, band, total_pos_train, total_pos_test, total_pos_valid, args.patch_size)\n",
    "y_train, y_test, y_valid = train_and_test_label(number_train, number_test, number_valid, num_classes)"
   ]
  },
  {
   "cell_type": "code",
   "execution_count": 9,
   "metadata": {},
   "outputs": [
    {
     "data": {
      "text/plain": [
       "array([[268,  24],\n",
       "       [245,  47],\n",
       "       [242,  56],\n",
       "       [263,  38],\n",
       "       [243,  49],\n",
       "       [246,  49],\n",
       "       [257,  21],\n",
       "       [243,  45],\n",
       "       [247,  36],\n",
       "       [245,  51]])"
      ]
     },
     "execution_count": 9,
     "metadata": {},
     "output_type": "execute_result"
    }
   ],
   "source": [
    "total_pos_train[:10]"
   ]
  },
  {
   "cell_type": "code",
   "execution_count": 10,
   "metadata": {},
   "outputs": [
    {
     "name": "stdout",
     "output_type": "stream",
     "text": [
      "torch.Size([160, 30, 15, 15])\n",
      "torch.Size([53969, 30, 15, 15])\n",
      "torch.Size([1600, 30, 15, 15])\n"
     ]
    }
   ],
   "source": [
    "# load data\n",
    "x_train = torch.from_numpy(x_train.transpose(0, 3, 1, 2)).type(torch.FloatTensor)  # (90, 1, 7, 7, 176)\n",
    "print(x_train.shape)\n",
    "y_train = torch.from_numpy(y_train).type(torch.LongTensor)  # (13,)\n",
    "train_label = Data.TensorDataset(x_train, y_train)\n",
    "\n",
    "x_test = torch.from_numpy(x_test.transpose(0, 3, 1, 2)).type(torch.FloatTensor)  # (5198, 1, 7, 7, 176)\n",
    "print(x_test.shape)\n",
    "y_test = torch.from_numpy(y_test).type(torch.LongTensor)  # (5198,)\n",
    "test_label = Data.TensorDataset(x_test, y_test)\n",
    "\n",
    "x_valid = torch.from_numpy(x_valid.transpose(0, 3, 1, 2)).type(torch.FloatTensor)  # (5211, 1, 7, 7, 176)\n",
    "print(x_valid.shape)\n",
    "y_valid = torch.from_numpy(y_valid).type(torch.LongTensor)\n",
    "valid_label = Data.TensorDataset(x_valid, y_valid)\n",
    "\n",
    "train_loader = Data.DataLoader(train_label, batch_size=32, shuffle=True)\n",
    "test_loader = Data.DataLoader(test_label, batch_size=128, shuffle=True)\n",
    "valid_loader = Data.DataLoader(valid_label, batch_size=64, shuffle=True)"
   ]
  },
  {
   "cell_type": "markdown",
   "metadata": {
    "id": "0D_5INAM4u33"
   },
   "source": [
    "## **Model**"
   ]
  },
  {
   "cell_type": "markdown",
   "metadata": {
    "id": "CBmkAG3_43c-"
   },
   "source": [
    "#### Capsule Network Model"
   ]
  },
  {
   "cell_type": "code",
   "execution_count": 11,
   "metadata": {
    "id": "Qp1hds7dy_9v"
   },
   "outputs": [],
   "source": [
    "class PrimaryCaps(nn.Module):\n",
    "    \n",
    "    def __init__(self, A=64, B=32, K=1, P=4, stride=1):\n",
    "        super(PrimaryCaps, self).__init__()\n",
    "        self.pose = nn.Conv2d(in_channels=A, out_channels=B*P*P, kernel_size=K, stride=stride, bias=True)\n",
    "        self.a = nn.Conv2d(in_channels=A, out_channels=B,\n",
    "                            kernel_size=K, stride=stride, bias=True)\n",
    "        self.sigmoid = nn.Sigmoid()\n",
    "\n",
    "    def forward(self, x):\n",
    "        p = self.pose(x)  # (batch, 32x4x4, 13, 13)\n",
    "        a = self.a(x)  # (batch, 32, 13, 13)\n",
    "        a = self.sigmoid(a)\n",
    "        out = torch.cat([p, a], dim=1)\n",
    "        out = out.permute(0, 2, 3, 1)\n",
    "        return out  # (batch, 13, 13, 544)"
   ]
  },
  {
   "cell_type": "code",
   "execution_count": 12,
   "metadata": {
    "id": "Ey4FeNfp42l7"
   },
   "outputs": [],
   "source": [
    "class ConvCaps(nn.Module):\n",
    "    def __init__(self, B=32, C=16, K=3, P=4, stride=2, iters=3, coor_add=False, w_shared=False):\n",
    "        super(ConvCaps, self).__init__()\n",
    "        self.B = B\n",
    "        self.C = C\n",
    "        self.K = K\n",
    "        self.P = P\n",
    "        self.psize = P * P  # 16\n",
    "        self.stride = stride\n",
    "        self.iters = iters  # 3\n",
    "        self.coor_add = coor_add\n",
    "        self.w_shared = w_shared\n",
    "        self.eps = 1e-07\n",
    "        self._lambda = 1e-02\n",
    "        self.ln_2pi = torch.cuda.FloatTensor(1).fill_(math.log(2*math.pi))  # tensor([1.8379])\n",
    "        \n",
    "        self.beta_u = nn.Parameter(torch.zeros(C))\n",
    "        self.beta_a = nn.Parameter(torch.zeros(C))\n",
    "        self.pos_embedding = nn.Parameter(torch.randn(1, 4, 4, B, C, P*P))\n",
    "        self.weights = nn.Parameter(torch.randn(1, K*K*B, C, P, P))  # (1, 3x3x32, 16, 4, 4) 类似胶囊网络中的权重 or (1, 1x1x16, 16, 4, 4)\n",
    "        self.sigmoid = nn.Sigmoid()\n",
    "        self.softmax = nn.Softmax(dim=2)\n",
    "\n",
    "    def add_patches(self, x, B, K, psize, stride):\n",
    "        b, h, w, c = x.shape  # (batch, 13, 13, 32*4*4+32)\n",
    "        assert h == w\n",
    "        assert c == B*(psize+1)\n",
    "        oh = ow = int((h - K)/stride + 1)  # 6\n",
    "        # [[0, 1, 2], [2, 3, 4], [4, 5, 6], [6, 7, 8], [8, 9, 10], [10, 11, 12]]\n",
    "        idxs = [[(h_idx + k_idx) for k_idx in range(0, K)] for h_idx in range(0, h - K + 1, stride)]\n",
    "        x = x[:, idxs, :, :]  # (batch, 6, 3, 13, 544)\n",
    "        x = x[:, :, :, idxs, :]  # (batch, 6, 3, 6, 3, 544)\n",
    "        x = x.permute(0, 1, 3, 2, 4, 5).contiguous()  # (batch, 6, 6, 3, 3, 544)\n",
    "        return x, oh, ow  # (batch, 6, 6, 3, 3, 544), 6, 6\n",
    "\n",
    "    def transform_view(self, p_in, weights, C, P, w_shared=False):\n",
    "        b, B, psize = p_in.shape  # (batchx6x6, 3x3x32, 16) or (batch, 4x4x16, 16) when stride=1\n",
    "        assert psize == P*P\n",
    "        p_in = p_in.view(b, B, 1, P, P)  # (batchx6x6, 3x3x32, 1, 4, 4) or (batch, 4x4x16, 1, 4, 4) \n",
    "        if w_shared:  # 所谓的权重共享并没有什么真正的意义，只是为了消除空间尺寸，获得最后的类别胶囊\n",
    "            hw = int(B / weights.size(1))  # int(4x4x16 / 1x1x16) = 4x4\n",
    "            weights = weights.repeat(1, hw, 1, 1, 1)  # (1, 4x4x16, 16, 4, 4)\n",
    "        weights = weights.repeat(b, 1, 1, 1, 1)  # (batchx6x6, 3x3x32, 16, 4, 4) or (batch, 4x4x16, 16, 4, 4) \n",
    "        p_in = p_in.repeat(1, 1, C, 1, 1)  # (batchx6x6, 3x3x32, 16, 4, 4) or (batch, 4x4x16, 16, 4, 4)\n",
    "        v = torch.matmul(p_in, weights)\n",
    "        v = v.view(b, B, C, P*P)  # (batchx6x6, 3x3x32, 16, 16) 所有初级胶囊i对于所有胶囊j的投票结果 or (batch, 4x4x16, 16, 16)\n",
    "        return v\n",
    "\n",
    "    def add_coord(self, v, b, h, w, B, C, psize):\n",
    "        # v: (batch, 4x4x16, 16, 16)\n",
    "        assert h == w == 4\n",
    "        v = v.view(b, h, w, B, C, psize)  # (batch, 4, 4, 16, 16, 16)\n",
    "        v = v + self.pos_embedding\n",
    "        v = v.view(b, h*w*B, C, psize)  # (batch, 4x4x16, 16, 16)\n",
    "        return v\n",
    "\n",
    "    def m_step(self, a_in, r, v, eps, b, B, C, psize, iter):\n",
    "        # a_in: (batchx6x6, 3x3x32, 1); r: (batchx6x6, 3x3x32, 16); v: (batchx6x6, 3x3x32, 16, 16)\n",
    "        r = r * a_in  # (batchx6x6, 3x3x32, 16) 这里的16表示每个位置的父胶囊的个数\n",
    "        r = r / (r.sum(dim=2, keepdim=True) + eps)  # (batchx6x6, 3x3x32, 16) 这一步的目的是使r重新表示成概率(和为1)\n",
    "        r_sum = r.sum(dim=1, keepdim=True)  # (batchx6x6, 1, 16) 这里的3x3x32可以看作巻积胶囊层中初级胶囊的个数\n",
    "        coeff = r / (r_sum + eps)  # (batchx6x6, 3x3x32, 16)\n",
    "        coeff = coeff.view(b, B, C, 1)  # (batchx6x6, 3x3x32, 16, 1) \n",
    "\n",
    "        mu = torch.sum(coeff * v, dim=1, keepdim=True)  # (batchx6x6, 1, 16, 16)  均值\n",
    "        # 这里的代码实现先计算了一个coeff，对应M-Step中的第二步，并没有错哦，只是有点儿巧妙\n",
    "        sigma_sq = torch.sum(coeff * (v - mu)**2, dim=1, keepdim=True) + eps  # (batchx6x6, 1, 16, 16)  方差\n",
    "\n",
    "        r_sum = r_sum.view(b, C, 1)  # (batchx6x6, 16, 1)\n",
    "        sigma_sq = sigma_sq.view(b, C, psize)  # (batchx6x6, 16, 16)\n",
    "        #cost_h = (0.5 + 0.5*math.log(2*math.pi) + torch.log(sigma_sq.sqrt())) * r_sum  # (batchx6x6, 16, 16)\n",
    "        cost_h = (self.beta_u.view(C, 1) + torch.log(sigma_sq.sqrt())) * r_sum  # (batchx6x6, 16, 16)\n",
    "\n",
    "        #a_out = self.sigmoid((self._lambda*(1-0.95**(iter+1)))*(self.beta_a - self.beta_u * r_sum.view(b, C) - cost_h.sum(dim=2)))  # (batchx6x6, 16)\n",
    "        a_out = self.sigmoid((self._lambda*(1-0.95**(iter+1)))*(self.beta_a - cost_h.sum(dim=2)))  # cost_h.sum(dim=2)表示对每个父胶囊在特征维度求和 (batchx6x6, 16)\n",
    "        sigma_sq = sigma_sq.view(b, 1, C, psize)  # (batchx6x6, 1, 16, 16)\n",
    "\n",
    "        return a_out, mu, sigma_sq  # (batchx6x6, 16), (batchx6x6, 1, 16, 16), (batchx6x6, 1, 16, 16) 父胶囊激活，父胶囊分布的均值，父胶囊分布的方差\n",
    "\n",
    "    def e_step(self, mu, sigma_sq, a_out, v, eps, b, C):\n",
    "        # v: (batchx6x6, 3x3x32, 16, 16)\n",
    "        ln_p_j_h = -1. * (v - mu) ** 2 / (2 * sigma_sq) - torch.log(sigma_sq.sqrt()) - 0.5 * self.ln_2pi  # 太过于精彩!!!!!看到这里你豁然开朗了吗？？？\n",
    "        # 这一步在计算所有初级胶囊的投票与父胶囊分布的均值之间的相似性，根据这个相似性来重新计算概率分配，你，懂了吗？？？ (batchx6x6, 3x3x32, 16, 16) \n",
    "        ln_ap = ln_p_j_h.sum(dim=3) + torch.log(a_out.view(b, 1, C))  # 那既然对p_j_h求对数了，也要对a求对数  (batchx6x6, 3x3x32, 16)\n",
    "        r = self.softmax(ln_ap)  # 重新计算的概率分配 (batchx6x6, 3x3x32, 16)\n",
    "        return r\n",
    "\n",
    "    def caps_em_routing(self, v, a_in, C, eps):\n",
    "        b, B, c, psize = v.shape  # (batchx6x6, 3x3x32, 16, 16)\n",
    "        assert c == C\n",
    "        assert (b, B, 1) == a_in.shape  # (batchx6x6, 3x3x32, 1)\n",
    "\n",
    "        r = torch.cuda.FloatTensor(b, B, C).fill_(1./C)  # (batchx6x6, 3x3x32, 16) 分配概率rij(和为1)\n",
    "        for iter_ in range(self.iters):\n",
    "            a_out, mu, sigma_sq = self.m_step(a_in, r, v, eps, b, B, C, psize, iter_)  \n",
    "            # (batchx6x6, 16), (batchx6x6, 1, 16, 16), (batchx6x6, 1, 16, 16) 父胶囊激活，父胶囊分布的均值，父胶囊分布的方差\n",
    "            if iter_ < self.iters - 1:\n",
    "                r = self.e_step(mu, sigma_sq, a_out, v, eps, b, C)  # 更新分配概率(batchx6x6, 3x3x32, 16)\n",
    "\n",
    "        return mu, a_out  # (batchx6x6, 1, 16, 16), (batchx6x6, 16) \n",
    "\n",
    "    def forward(self, x):\n",
    "        b, h, w, c = x.shape  # (batch, 13, 13, 544) or (batch, 4, 4, (16+1)*16)\n",
    "        if not self.w_shared:\n",
    "            x, oh, ow = self.add_patches(x, self.B, self.K, self.psize, self.stride)  # (batch, 6, 6, 3, 3, 544), 6, 6\n",
    "\n",
    "            p_in = x[:, :, :, :, :, :self.B*self.psize].contiguous()  # (batch, 6, 6, 3, 3, 512)\n",
    "            a_in = x[:, :, :, :, :, self.B*self.psize:].contiguous()  #  (batch, 6, 6, 3, 3, 32)\n",
    "            p_in = p_in.view(b*oh*ow, self.K*self.K*self.B, self.psize)  # (batchx6x6, 3x3x32, 16) 这里的3x3x32可以看作巻积胶囊层中初级胶囊的个数\n",
    "            a_in = a_in.view(b*oh*ow, self.K*self.K*self.B, 1)  # (batchx6x6, 3x3x32, 1)\n",
    "            v = self.transform_view(p_in, self.weights, self.C, self.P)  # (batchx6x6, 3x3x32, 16, 16) 所有初级胶囊对所有父胶囊的投票\n",
    "\n",
    "            p_out, a_out = self.caps_em_routing(v, a_in, self.C, self.eps)  # 返回父胶囊分布的均值(batchx6x6, 1, 16, 16)和父胶囊的激活(batchx6x6, 16)\n",
    "            p_out = p_out.view(b, oh, ow, self.C*self.psize)  # （batch, 6, 6, 16x16）\n",
    "            a_out = a_out.view(b, oh, ow, self.C)  # (batch, 6, 6, 16)\n",
    "            out = torch.cat([p_out, a_out], dim=3)  # (batch, 6, 6, (16+1)x16)\n",
    "        else:\n",
    "            # x: (batch, 4, 4, (16+1)*16)\n",
    "            assert c == self.B*(self.psize+1)\n",
    "            assert 1 == self.K\n",
    "            assert 1 == self.stride\n",
    "            p_in = x[:, :, :, :self.B*self.psize].contiguous()  # (batch, 4, 4, 16*16)\n",
    "            p_in = p_in.view(b, h*w*self.B, self.psize)  # (batch, 4x4x16, 16)\n",
    "            a_in = x[:, :, :, self.B*self.psize:].contiguous()  # (batch, 4, 4, 16)\n",
    "            a_in = a_in.view(b, h*w*self.B, 1)  # (batch, 4x4x16, 1)\n",
    "\n",
    "            v = self.transform_view(p_in, self.weights, self.C, self.P, self.w_shared)  # (batch, 4x4x16, 16, 16)\n",
    "\n",
    "            if self.coor_add:\n",
    "                v = self.add_coord(v, b, h, w, self.B, self.C, self.psize)\n",
    "            _, out = self.caps_em_routing(v, a_in, self.C, self.eps)  # 返回父胶囊的激活(batch, 16)\n",
    "        return out"
   ]
  },
  {
   "cell_type": "code",
   "execution_count": 13,
   "metadata": {
    "id": "GKbBGB1FzGPw"
   },
   "outputs": [],
   "source": [
    "class CapsNet(nn.Module):\n",
    "\n",
    "    def __init__(self, A=64, B=32, C=16, D=16, E=16, K=3, P=4, iters=3, pca_components=30):\n",
    "        super(CapsNet, self).__init__()\n",
    "        self.conv1 = nn.Conv2d(in_channels=pca_components, out_channels=A, kernel_size=3, stride=1)\n",
    "        self.bn1 = nn.BatchNorm2d(num_features=A, eps=0.001, momentum=0.1, affine=True)\n",
    "        self.relu1 = nn.ReLU(inplace=False)\n",
    "        self.primary_caps = PrimaryCaps(A, B, 1, P, stride=1)\n",
    "        self.conv_caps1 = ConvCaps(B, C, K, P, stride=2, iters=iters)\n",
    "        self.conv_caps2 = ConvCaps(C, D, K, P, stride=1, iters=iters)\n",
    "        self.class_caps = ConvCaps(D, E, 1, P, stride=1, iters=iters, coor_add=True, w_shared=True)\n",
    "\n",
    "    def forward(self, x):\n",
    "        # x: (B, 30, 15, 15)\n",
    "        x = self.conv1(x)\n",
    "        x = self.bn1(x)\n",
    "        x = self.relu1(x)\n",
    "        x = self.primary_caps(x) # (batch, 13, 13, 544)\n",
    "        x = self.conv_caps1(x)  # (batch, 6, 6, (16+1)x16)\n",
    "        x = self.conv_caps2(x)  # (batch, 4, 4, (16+1)x16)\n",
    "        x = self.class_caps(x)  # (batch, 16)\n",
    "        return x"
   ]
  },
  {
   "cell_type": "markdown",
   "metadata": {
    "id": "4ypxKKRG5hvO"
   },
   "source": [
    "#### Loss Function"
   ]
  },
  {
   "cell_type": "code",
   "execution_count": 14,
   "metadata": {
    "id": "4J7NoS985UHc"
   },
   "outputs": [],
   "source": [
    "class SpreadLoss(_Loss):\n",
    "    def __init__(self, m_min=0.2, m_max=0.5, num_class=9):\n",
    "        super(SpreadLoss, self).__init__()\n",
    "        self.m_min = m_min\n",
    "        self.m_max = m_max\n",
    "        self.num_class = num_class\n",
    "\n",
    "    def forward(self, x, target, r):\n",
    "        b, E = x.shape  # batch, 16\n",
    "        assert E == self.num_class\n",
    "        margin = self.m_min + (self.m_max - self.m_min)*r  # 0.2 + (0.5 - 0.2) * r\n",
    "\n",
    "        at = torch.cuda.FloatTensor(b).fill_(0)  # (batch, )\n",
    "        for i, a in enumerate(target):\n",
    "            lb = int(a.item())  # 真实标签，整数值，并不是one-hot\n",
    "            at[i] = x[i][lb]  # 对应真实标签的类别胶囊激活值\n",
    "        at = at.view(b, 1).repeat(1, E)  # (batch, 16)\n",
    "\n",
    "        zeros = x.new_zeros(x.shape)  # (batch, 16)\n",
    "        loss = torch.max(margin - (at - x), zeros)  # (batch, 16)\n",
    "        loss = loss**2\n",
    "        loss = loss.sum() / b - margin**2 \n",
    "\n",
    "        return loss"
   ]
  },
  {
   "cell_type": "markdown",
   "metadata": {
    "id": "05AZSkZ16Jxp"
   },
   "source": [
    "## **Training Setup**"
   ]
  },
  {
   "cell_type": "code",
   "execution_count": 15,
   "metadata": {},
   "outputs": [],
   "source": [
    "# train model\n",
    "def train(model, train_loader, criterion, optimizer, epoch):\n",
    "    objs = AverageMeter()\n",
    "    top1 = AverageMeter()\n",
    "    train_len = len(train_loader)\n",
    "    for batch_idx, (batch_data, batch_target) in enumerate(train_loader):\n",
    "        batch_data = batch_data.cuda()\n",
    "        batch_target = batch_target.cuda()   \n",
    "        optimizer.zero_grad()\n",
    "        batch_pred = model(batch_data)  # (batch, 13)\n",
    "    \n",
    "        r = (1.*(batch_idx+1) + (epoch-1)*train_len) / (epoch*train_len)  # 表示当前训练轮次的训练数据的进度条\n",
    "        loss = criterion(batch_pred, batch_target, r)\n",
    "        loss.backward()\n",
    "        optimizer.step()\n",
    "        \n",
    "        prec1, t, p = accuracy(batch_pred, batch_target, topk=(1,))\n",
    "        n = batch_data.shape[0]\n",
    "        objs.update(loss.data, n)  # 计算所有训练样本的平均损失\n",
    "        top1.update(prec1[0].data, n)  # 计算所有训练样本的平均准确率\n",
    "    return top1.avg, objs.avg\n",
    "\n",
    "\n",
    "# test model\n",
    "def test(model, test_loader):\n",
    "    tar = np.array([])\n",
    "    pre = np.array([])\n",
    "    with torch.no_grad():\n",
    "        for batch_idx, (batch_data, batch_target) in enumerate(test_loader):\n",
    "            batch_data = batch_data.cuda()\n",
    "            batch_target = batch_target.cuda()\n",
    "            \n",
    "            batch_pred = model(batch_data)  # (batch, 13)\n",
    "            _, pred = batch_pred.topk(1, axis=1)  # (100, 1)\n",
    "            pp = pred.squeeze()  # (100, )\n",
    "            \n",
    "            tar = np.append(tar, batch_target.data.cpu().numpy())\n",
    "            pre = np.append(pre, pp.data.cpu().numpy())\n",
    "    return tar, pre\n",
    "\n",
    "\n",
    "# train model\n",
    "def valid(model, train_loader, criterion, epoch):\n",
    "    model.eval()\n",
    "    objs = AverageMeter()\n",
    "    top1 = AverageMeter()\n",
    "    train_len = len(train_loader)\n",
    "    for batch_idx, (batch_data, batch_target) in enumerate(train_loader):\n",
    "        batch_data = batch_data.cuda()\n",
    "        batch_target = batch_target.cuda()   \n",
    "        \n",
    "        batch_pred = model(batch_data)  # (batch, 13)\n",
    "        \n",
    "        r = (1.*(batch_idx+1) + (epoch-1)*train_len) / (epoch*train_len)  # 表示当前训练轮次的训练数据的进度条\n",
    "        loss = criterion(batch_pred, batch_target, r)\n",
    "        \n",
    "        prec1, t, p = accuracy(batch_pred, batch_target, topk=(1,))\n",
    "        n = batch_data.shape[0]\n",
    "        objs.update(loss.data, n)  # 计算所有训练样本的平均损失\n",
    "        top1.update(prec1[0].data, n)  # 计算所有训练样本的平均准确率\n",
    "    return top1.avg, objs.avg"
   ]
  },
  {
   "cell_type": "markdown",
   "metadata": {
    "id": "5hRWF2apsMzc"
   },
   "source": [
    "## **Training Process**"
   ]
  },
  {
   "cell_type": "markdown",
   "metadata": {
    "id": "SGwX3eimsZmA"
   },
   "source": [
    "#### Model Initialization"
   ]
  },
  {
   "cell_type": "code",
   "execution_count": 16,
   "metadata": {
    "colab": {
     "base_uri": "https://localhost:8080/"
    },
    "id": "8_YYc6YxsXZV",
    "outputId": "c124fbdb-9d50-47ca-a201-dcd1dd5022dd"
   },
   "outputs": [],
   "source": [
    "model = CapsNet(A=64, B=32, C=16, D=16, E=num_classes, iters=2).cuda()\n",
    "criterion = SpreadLoss(num_class=num_classes, m_min=0.2, m_max=0.9)\n",
    "optimizer = optim.Adam(model.parameters(), lr = args.learning_rate, weight_decay=args.weight_decay)\n",
    "scheduler = optim.lr_scheduler.ExponentialLR(optimizer, gamma=args.gamma)"
   ]
  },
  {
   "cell_type": "code",
   "execution_count": 17,
   "metadata": {
    "colab": {
     "base_uri": "https://localhost:8080/"
    },
    "id": "ayyIRBgr7goB",
    "outputId": "f52d0130-1a54-4280-ba2a-cd8ac150c929",
    "scrolled": true,
    "tags": []
   },
   "outputs": [
    {
     "name": "stdout",
     "output_type": "stream",
     "text": [
      "start training\n",
      "Epoch: 001 - train_loss: 6.3565 - train_acc: 6.2500 - valid_loss: 5.3724 - valid_acc: 6.2500\n",
      "val_acc improved from 0.0000 to 6.2500, saving model to DMC.pt\n",
      "Epoch: 002 - train_loss: 8.7740 - train_acc: 7.5000 - valid_loss: 8.1332 - valid_acc: 12.4375\n",
      "val_acc improved from 6.2500 to 12.4375, saving model to DMC.pt\n",
      "Epoch: 003 - train_loss: 9.7007 - train_acc: 18.1250 - valid_loss: 9.2091 - valid_acc: 26.3750\n",
      "val_acc improved from 12.4375 to 26.3750, saving model to DMC.pt\n",
      "Epoch: 004 - train_loss: 10.0887 - train_acc: 30.0000 - valid_loss: 9.6744 - valid_acc: 31.8750\n",
      "val_acc improved from 26.3750 to 31.8750, saving model to DMC.pt\n",
      "Epoch: 005 - train_loss: 10.2122 - train_acc: 41.8750 - valid_loss: 9.8721 - valid_acc: 44.9375\n",
      "val_acc improved from 31.8750 to 44.9375, saving model to DMC.pt\n",
      "Epoch: 006 - train_loss: 10.1762 - train_acc: 53.1250 - valid_loss: 9.8401 - valid_acc: 55.7500\n",
      "val_acc improved from 44.9375 to 55.7500, saving model to DMC.pt\n",
      "Epoch: 007 - train_loss: 9.9676 - train_acc: 69.3750 - valid_loss: 9.6597 - valid_acc: 70.1250\n",
      "val_acc improved from 55.7500 to 70.1250, saving model to DMC.pt\n",
      "Epoch: 008 - train_loss: 9.6472 - train_acc: 78.1250 - valid_loss: 9.3784 - valid_acc: 78.1250\n",
      "val_acc improved from 70.1250 to 78.1250, saving model to DMC.pt\n",
      "Epoch: 009 - train_loss: 9.2348 - train_acc: 80.6250 - valid_loss: 8.9545 - valid_acc: 80.6250\n",
      "val_acc improved from 78.1250 to 80.6250, saving model to DMC.pt\n",
      "Epoch: 010 - train_loss: 8.7309 - train_acc: 92.5000 - valid_loss: 8.4332 - valid_acc: 84.4375\n",
      "val_acc improved from 80.6250 to 84.4375, saving model to DMC.pt\n",
      "Epoch: 011 - train_loss: 8.1387 - train_acc: 93.7500 - valid_loss: 7.8528 - valid_acc: 92.2500\n",
      "val_acc improved from 84.4375 to 92.2500, saving model to DMC.pt\n",
      "Epoch: 012 - train_loss: 7.4661 - train_acc: 98.1250 - valid_loss: 7.2778 - valid_acc: 90.5625\n",
      "val_acc did not improve from 92.2500\n",
      "Epoch: 013 - train_loss: 6.7951 - train_acc: 96.2500 - valid_loss: 6.6201 - valid_acc: 92.9375\n",
      "val_acc improved from 92.2500 to 92.9375, saving model to DMC.pt\n",
      "Epoch: 014 - train_loss: 6.1751 - train_acc: 96.8750 - valid_loss: 6.0291 - valid_acc: 93.9375\n",
      "val_acc improved from 92.9375 to 93.9375, saving model to DMC.pt\n",
      "Epoch: 015 - train_loss: 5.5932 - train_acc: 96.8750 - valid_loss: 5.4838 - valid_acc: 94.5625\n",
      "val_acc improved from 93.9375 to 94.5625, saving model to DMC.pt\n",
      "Epoch: 016 - train_loss: 5.0551 - train_acc: 97.5000 - valid_loss: 5.0154 - valid_acc: 95.5625\n",
      "val_acc improved from 94.5625 to 95.5625, saving model to DMC.pt\n",
      "Epoch: 017 - train_loss: 4.6140 - train_acc: 100.0000 - valid_loss: 4.5944 - valid_acc: 96.1250\n",
      "val_acc improved from 95.5625 to 96.1250, saving model to DMC.pt\n",
      "Epoch: 018 - train_loss: 4.2421 - train_acc: 98.7500 - valid_loss: 4.2663 - valid_acc: 96.5000\n",
      "val_acc improved from 96.1250 to 96.5000, saving model to DMC.pt\n",
      "Epoch: 019 - train_loss: 3.9235 - train_acc: 98.7500 - valid_loss: 4.0012 - valid_acc: 94.0000\n",
      "val_acc did not improve from 96.5000\n",
      "Epoch: 020 - train_loss: 3.6939 - train_acc: 98.1250 - valid_loss: 3.7631 - valid_acc: 96.8125\n",
      "val_acc improved from 96.5000 to 96.8125, saving model to DMC.pt\n",
      "Epoch: 021 - train_loss: 3.4628 - train_acc: 100.0000 - valid_loss: 3.5852 - valid_acc: 96.8750\n",
      "val_acc improved from 96.8125 to 96.8750, saving model to DMC.pt\n",
      "Epoch: 022 - train_loss: 3.3213 - train_acc: 98.1250 - valid_loss: 3.4366 - valid_acc: 97.1250\n",
      "val_acc improved from 96.8750 to 97.1250, saving model to DMC.pt\n",
      "Epoch: 023 - train_loss: 3.2258 - train_acc: 98.1250 - valid_loss: 3.3484 - valid_acc: 96.8750\n",
      "val_acc did not improve from 97.1250\n",
      "Epoch: 024 - train_loss: 3.1397 - train_acc: 98.7500 - valid_loss: 3.3053 - valid_acc: 94.1875\n",
      "val_acc did not improve from 97.1250\n",
      "Epoch: 025 - train_loss: 3.0122 - train_acc: 100.0000 - valid_loss: 3.2178 - valid_acc: 96.7500\n",
      "val_acc did not improve from 97.1250\n",
      "Epoch: 026 - train_loss: 2.9671 - train_acc: 98.7500 - valid_loss: 3.1359 - valid_acc: 97.0000\n",
      "val_acc did not improve from 97.1250\n",
      "Epoch: 027 - train_loss: 2.8998 - train_acc: 100.0000 - valid_loss: 3.0779 - valid_acc: 97.4375\n",
      "val_acc improved from 97.1250 to 97.4375, saving model to DMC.pt\n",
      "Epoch: 028 - train_loss: 2.8415 - train_acc: 100.0000 - valid_loss: 3.0278 - valid_acc: 97.3125\n",
      "val_acc did not improve from 97.4375\n",
      "Epoch: 029 - train_loss: 2.7935 - train_acc: 100.0000 - valid_loss: 2.9877 - valid_acc: 97.3750\n",
      "val_acc did not improve from 97.4375\n",
      "Epoch: 030 - train_loss: 2.7580 - train_acc: 100.0000 - valid_loss: 2.9551 - valid_acc: 97.2500\n",
      "val_acc did not improve from 97.4375\n",
      "Epoch: 031 - train_loss: 2.7316 - train_acc: 100.0000 - valid_loss: 2.9398 - valid_acc: 96.8125\n",
      "val_acc did not improve from 97.4375\n",
      "Epoch: 032 - train_loss: 2.7052 - train_acc: 100.0000 - valid_loss: 2.9115 - valid_acc: 97.0000\n",
      "val_acc did not improve from 97.4375\n",
      "Epoch: 033 - train_loss: 2.6751 - train_acc: 100.0000 - valid_loss: 2.8984 - valid_acc: 96.6250\n",
      "val_acc did not improve from 97.4375\n",
      "Epoch: 034 - train_loss: 2.6539 - train_acc: 100.0000 - valid_loss: 2.8626 - valid_acc: 97.1875\n",
      "val_acc did not improve from 97.4375\n",
      "Epoch: 035 - train_loss: 2.6326 - train_acc: 100.0000 - valid_loss: 2.8497 - valid_acc: 97.3125\n",
      "val_acc did not improve from 97.4375\n",
      "Epoch: 036 - train_loss: 2.6157 - train_acc: 100.0000 - valid_loss: 2.8299 - valid_acc: 97.3125\n",
      "val_acc did not improve from 97.4375\n",
      "Epoch: 037 - train_loss: 2.5995 - train_acc: 100.0000 - valid_loss: 2.8120 - valid_acc: 97.6250\n",
      "val_acc improved from 97.4375 to 97.6250, saving model to DMC.pt\n",
      "Epoch: 038 - train_loss: 2.5833 - train_acc: 100.0000 - valid_loss: 2.7978 - valid_acc: 97.6250\n",
      "val_acc did not improve from 97.6250\n",
      "Epoch: 039 - train_loss: 2.5718 - train_acc: 100.0000 - valid_loss: 2.7880 - valid_acc: 97.5000\n",
      "val_acc did not improve from 97.6250\n",
      "Epoch: 040 - train_loss: 2.5579 - train_acc: 100.0000 - valid_loss: 2.7764 - valid_acc: 97.5625\n",
      "val_acc did not improve from 97.6250\n",
      "Epoch: 041 - train_loss: 2.5486 - train_acc: 100.0000 - valid_loss: 2.7774 - valid_acc: 97.0000\n",
      "val_acc did not improve from 97.6250\n",
      "Epoch: 042 - train_loss: 2.5410 - train_acc: 100.0000 - valid_loss: 2.8216 - valid_acc: 96.0000\n",
      "val_acc did not improve from 97.6250\n",
      "Epoch: 043 - train_loss: 2.5659 - train_acc: 99.3750 - valid_loss: 2.7604 - valid_acc: 97.5000\n",
      "val_acc did not improve from 97.6250\n",
      "Epoch: 044 - train_loss: 2.5918 - train_acc: 100.0000 - valid_loss: 2.8397 - valid_acc: 96.8125\n",
      "val_acc did not improve from 97.6250\n",
      "Epoch: 045 - train_loss: 2.6434 - train_acc: 98.7500 - valid_loss: 2.7896 - valid_acc: 96.9375\n",
      "val_acc did not improve from 97.6250\n",
      "Epoch: 046 - train_loss: 2.5677 - train_acc: 99.3750 - valid_loss: 2.7266 - valid_acc: 97.5000\n",
      "val_acc did not improve from 97.6250\n",
      "Epoch: 047 - train_loss: 2.5341 - train_acc: 100.0000 - valid_loss: 2.7285 - valid_acc: 97.0625\n",
      "val_acc did not improve from 97.6250\n",
      "Epoch: 048 - train_loss: 2.5144 - train_acc: 100.0000 - valid_loss: 2.7061 - valid_acc: 97.1875\n",
      "val_acc did not improve from 97.6250\n",
      "Epoch: 049 - train_loss: 2.5001 - train_acc: 100.0000 - valid_loss: 2.7064 - valid_acc: 97.1250\n",
      "val_acc did not improve from 97.6250\n",
      "Epoch: 050 - train_loss: 2.4900 - train_acc: 100.0000 - valid_loss: 2.6971 - valid_acc: 97.3125\n",
      "val_acc did not improve from 97.6250\n",
      "Epoch: 051 - train_loss: 2.4809 - train_acc: 100.0000 - valid_loss: 2.6903 - valid_acc: 97.2500\n",
      "val_acc did not improve from 97.6250\n",
      "Epoch: 052 - train_loss: 2.4735 - train_acc: 100.0000 - valid_loss: 2.6746 - valid_acc: 97.3750\n",
      "val_acc did not improve from 97.6250\n",
      "Epoch: 053 - train_loss: 2.4666 - train_acc: 100.0000 - valid_loss: 2.6688 - valid_acc: 97.3750\n",
      "val_acc did not improve from 97.6250\n",
      "Epoch: 054 - train_loss: 2.4618 - train_acc: 100.0000 - valid_loss: 2.6608 - valid_acc: 97.3750\n",
      "val_acc did not improve from 97.6250\n",
      "Epoch: 055 - train_loss: 2.4576 - train_acc: 100.0000 - valid_loss: 2.6578 - valid_acc: 97.5000\n",
      "val_acc did not improve from 97.6250\n",
      "Epoch: 056 - train_loss: 2.4556 - train_acc: 100.0000 - valid_loss: 2.6601 - valid_acc: 97.3125\n",
      "val_acc did not improve from 97.6250\n",
      "Epoch: 057 - train_loss: 2.4530 - train_acc: 100.0000 - valid_loss: 2.6657 - valid_acc: 97.3750\n",
      "val_acc did not improve from 97.6250\n",
      "Epoch: 058 - train_loss: 2.4516 - train_acc: 100.0000 - valid_loss: 2.6562 - valid_acc: 97.2500\n",
      "val_acc did not improve from 97.6250\n",
      "Epoch: 059 - train_loss: 2.4490 - train_acc: 100.0000 - valid_loss: 2.6660 - valid_acc: 97.1875\n",
      "val_acc did not improve from 97.6250\n",
      "Epoch: 060 - train_loss: 2.4473 - train_acc: 100.0000 - valid_loss: 2.6552 - valid_acc: 97.1875\n",
      "val_acc did not improve from 97.6250\n",
      "Epoch: 061 - train_loss: 2.4431 - train_acc: 100.0000 - valid_loss: 2.6548 - valid_acc: 97.2500\n",
      "val_acc did not improve from 97.6250\n",
      "Epoch: 062 - train_loss: 2.4410 - train_acc: 100.0000 - valid_loss: 2.6499 - valid_acc: 97.1875\n",
      "val_acc did not improve from 97.6250\n",
      "Epoch: 063 - train_loss: 2.4390 - train_acc: 100.0000 - valid_loss: 2.6497 - valid_acc: 97.3125\n",
      "val_acc did not improve from 97.6250\n",
      "Epoch: 064 - train_loss: 2.4356 - train_acc: 100.0000 - valid_loss: 2.6442 - valid_acc: 97.1875\n",
      "val_acc did not improve from 97.6250\n",
      "Epoch: 065 - train_loss: 2.4331 - train_acc: 100.0000 - valid_loss: 2.6500 - valid_acc: 97.2500\n",
      "val_acc did not improve from 97.6250\n",
      "Epoch: 066 - train_loss: 2.4305 - train_acc: 100.0000 - valid_loss: 2.6316 - valid_acc: 97.3750\n",
      "val_acc did not improve from 97.6250\n",
      "Epoch: 067 - train_loss: 2.4297 - train_acc: 100.0000 - valid_loss: 2.6367 - valid_acc: 97.3750\n",
      "val_acc did not improve from 97.6250\n",
      "Epoch: 068 - train_loss: 2.4286 - train_acc: 100.0000 - valid_loss: 2.6269 - valid_acc: 97.3125\n",
      "val_acc did not improve from 97.6250\n",
      "Epoch: 069 - train_loss: 2.4267 - train_acc: 100.0000 - valid_loss: 2.6342 - valid_acc: 97.2500\n",
      "val_acc did not improve from 97.6250\n",
      "Epoch: 070 - train_loss: 2.4268 - train_acc: 100.0000 - valid_loss: 2.6223 - valid_acc: 97.4375\n",
      "val_acc did not improve from 97.6250\n",
      "Epoch: 071 - train_loss: 2.4395 - train_acc: 100.0000 - valid_loss: 2.8466 - valid_acc: 96.2500\n",
      "val_acc did not improve from 97.6250\n",
      "Epoch: 072 - train_loss: 2.6601 - train_acc: 99.3750 - valid_loss: 2.8939 - valid_acc: 92.5625\n",
      "val_acc did not improve from 97.6250\n",
      "Epoch: 073 - train_loss: 2.6883 - train_acc: 97.5000 - valid_loss: 2.7892 - valid_acc: 96.9375\n",
      "val_acc did not improve from 97.6250\n",
      "Epoch: 074 - train_loss: 2.5382 - train_acc: 100.0000 - valid_loss: 2.7770 - valid_acc: 96.1875\n",
      "val_acc did not improve from 97.6250\n",
      "Epoch: 075 - train_loss: 2.5008 - train_acc: 100.0000 - valid_loss: 2.7255 - valid_acc: 97.0000\n",
      "val_acc did not improve from 97.6250\n",
      "Epoch: 076 - train_loss: 2.4863 - train_acc: 100.0000 - valid_loss: 2.7284 - valid_acc: 96.6875\n",
      "val_acc did not improve from 97.6250\n",
      "Epoch: 077 - train_loss: 2.4797 - train_acc: 100.0000 - valid_loss: 3.0915 - valid_acc: 93.1250\n",
      "val_acc did not improve from 97.6250\n",
      "Epoch: 078 - train_loss: 2.6170 - train_acc: 98.1250 - valid_loss: 2.8207 - valid_acc: 96.0000\n",
      "val_acc did not improve from 97.6250\n",
      "Epoch: 079 - train_loss: 2.5637 - train_acc: 98.1250 - valid_loss: 2.6886 - valid_acc: 96.9375\n",
      "val_acc did not improve from 97.6250\n",
      "Epoch: 080 - train_loss: 2.5144 - train_acc: 98.7500 - valid_loss: 2.7155 - valid_acc: 96.5000\n",
      "val_acc did not improve from 97.6250\n",
      "Epoch: 081 - train_loss: 2.5317 - train_acc: 98.7500 - valid_loss: 2.7091 - valid_acc: 95.0625\n",
      "val_acc did not improve from 97.6250\n",
      "Epoch: 082 - train_loss: 2.4842 - train_acc: 99.3750 - valid_loss: 2.6935 - valid_acc: 96.8125\n",
      "val_acc did not improve from 97.6250\n",
      "Epoch: 083 - train_loss: 2.4754 - train_acc: 100.0000 - valid_loss: 2.6634 - valid_acc: 97.2500\n",
      "val_acc did not improve from 97.6250\n",
      "Epoch: 084 - train_loss: 2.4538 - train_acc: 100.0000 - valid_loss: 2.6439 - valid_acc: 97.1250\n",
      "val_acc did not improve from 97.6250\n",
      "Epoch: 085 - train_loss: 2.4412 - train_acc: 100.0000 - valid_loss: 2.6326 - valid_acc: 97.1875\n",
      "val_acc did not improve from 97.6250\n",
      "Epoch: 086 - train_loss: 2.4338 - train_acc: 100.0000 - valid_loss: 2.6165 - valid_acc: 97.4375\n",
      "val_acc did not improve from 97.6250\n",
      "Epoch: 087 - train_loss: 2.4276 - train_acc: 100.0000 - valid_loss: 2.6163 - valid_acc: 97.5000\n",
      "val_acc did not improve from 97.6250\n",
      "Epoch: 088 - train_loss: 2.4244 - train_acc: 100.0000 - valid_loss: 2.6228 - valid_acc: 97.1875\n",
      "val_acc did not improve from 97.6250\n",
      "Epoch: 089 - train_loss: 2.4220 - train_acc: 100.0000 - valid_loss: 2.6183 - valid_acc: 97.3750\n",
      "val_acc did not improve from 97.6250\n",
      "Epoch: 090 - train_loss: 2.4204 - train_acc: 100.0000 - valid_loss: 2.6186 - valid_acc: 97.3125\n",
      "val_acc did not improve from 97.6250\n",
      "Epoch: 091 - train_loss: 2.4185 - train_acc: 100.0000 - valid_loss: 2.6242 - valid_acc: 97.1875\n",
      "val_acc did not improve from 97.6250\n",
      "Epoch: 092 - train_loss: 2.4179 - train_acc: 100.0000 - valid_loss: 2.6214 - valid_acc: 97.1250\n",
      "val_acc did not improve from 97.6250\n",
      "Epoch: 093 - train_loss: 2.4167 - train_acc: 100.0000 - valid_loss: 2.6135 - valid_acc: 97.3750\n",
      "val_acc did not improve from 97.6250\n",
      "Epoch: 094 - train_loss: 2.4163 - train_acc: 100.0000 - valid_loss: 2.6119 - valid_acc: 97.4375\n",
      "val_acc did not improve from 97.6250\n",
      "Epoch: 095 - train_loss: 2.4158 - train_acc: 100.0000 - valid_loss: 2.6280 - valid_acc: 97.1875\n",
      "val_acc did not improve from 97.6250\n",
      "Epoch: 096 - train_loss: 2.4177 - train_acc: 100.0000 - valid_loss: 2.6236 - valid_acc: 97.0625\n",
      "val_acc did not improve from 97.6250\n",
      "Epoch: 097 - train_loss: 2.4141 - train_acc: 100.0000 - valid_loss: 2.6106 - valid_acc: 97.1875\n",
      "val_acc did not improve from 97.6250\n",
      "Epoch: 098 - train_loss: 2.4127 - train_acc: 100.0000 - valid_loss: 2.6116 - valid_acc: 97.2500\n",
      "val_acc did not improve from 97.6250\n",
      "Epoch: 099 - train_loss: 2.4117 - train_acc: 100.0000 - valid_loss: 2.6181 - valid_acc: 97.2500\n",
      "val_acc did not improve from 97.6250\n",
      "Epoch: 100 - train_loss: 2.4114 - train_acc: 100.0000 - valid_loss: 2.6222 - valid_acc: 97.1250\n",
      "val_acc did not improve from 97.6250\n",
      "Running Time: 287.70\n",
      "**************************************************\n"
     ]
    }
   ],
   "source": [
    "print('start training')\n",
    "acc_list = [0.00]\n",
    "path = './model/DMC.pt'\n",
    "tic = time.time()\n",
    "for epoch in range(1, args.epoches+1):\n",
    "    # 计算的是移动平均准确率\n",
    "    train_acc, train_loss = train(model, train_loader, criterion, optimizer, epoch)\n",
    "    valid_acc, valid_loss = valid(model, valid_loader, criterion, epoch)\n",
    "    print(\"Epoch: {:03d} - train_loss: {:.4f} - train_acc: {:.4f} - valid_loss: {:.4f} - valid_acc: {:.4f}\".\\\n",
    "          format(epoch, train_loss, train_acc, valid_loss, valid_acc))\n",
    "    scheduler.step()\n",
    "\n",
    "    acc_list.append(valid_acc)\n",
    "    if acc_list[-1] > acc_list[-2]:\n",
    "        print(\"val_acc improved from {:.4f} to {:.4f}, saving model to DMC.pt\".format(acc_list[-2], acc_list[-1]))\n",
    "        torch.save(model.state_dict(), path)\n",
    "    else:\n",
    "        print(\"val_acc did not improve from {:.4f}\".format(acc_list[-2]))\n",
    "        acc_list[-1] = acc_list[-2]\n",
    "\n",
    "toc = time.time()\n",
    "print(\"Running Time: {:.2f}\".format(toc-tic))\n",
    "print(\"**************************************************\")"
   ]
  },
  {
   "cell_type": "code",
   "execution_count": 18,
   "metadata": {},
   "outputs": [],
   "source": [
    "model.load_state_dict(torch.load(path))\n",
    "model.eval()\n",
    "\n",
    "tar_test, pre_test = test(model, test_loader)\n",
    "OA_test, AA_mean_test, Kappa_test, AA_test = output_metric(tar_test, pre_test)\n",
    "AA_test = np.around(AA_test*100, 2)"
   ]
  },
  {
   "cell_type": "code",
   "execution_count": 19,
   "metadata": {},
   "outputs": [
    {
     "name": "stdout",
     "output_type": "stream",
     "text": [
      "*******************************************************************\n",
      "Final result:\n",
      "OA: 93.78, AA: 97.34, Kappa: 0.9309\n",
      "*******************************************************************\n",
      "Recal: [ 93.   100.   100.   100.    98.05 100.   100.    78.4  100.    98.04\n",
      " 100.   100.   100.   100.    91.02  98.94]\n",
      "*******************************************************************\n",
      "Parameter:\n",
      "dataset: Salinas\n",
      "seed: 42\n",
      "batch_size: 32\n",
      "patch_size: 15\n",
      "epoches: 100\n",
      "learning_rate: 0.005\n",
      "gamma: 0.99\n",
      "weight_decay: 0.001\n",
      "train_number: 10\n",
      "*******************************************************************\n"
     ]
    }
   ],
   "source": [
    "print(\"*******************************************************************\")\n",
    "print(\"Final result:\")\n",
    "print(\"OA: {:.2f}, AA: {:.2f}, Kappa: {:.4f}\".format(OA_test * 100., AA_mean_test*100., Kappa_test))\n",
    "print(\"*******************************************************************\")\n",
    "print(\"Recal: {}\".format(AA_test))\n",
    "print(\"*******************************************************************\")\n",
    "print(\"Parameter:\")\n",
    "print_args(vars(args))\n",
    "print(\"*******************************************************************\")"
   ]
  },
  {
   "cell_type": "code",
   "execution_count": 20,
   "metadata": {},
   "outputs": [],
   "source": [
    "average_accuracy = str(list(AA_test))\n",
    "file_name = \"./CR/dmcn_1.txt\"\n",
    "\n",
    "with open(file_name, 'w') as x_file:\n",
    "    x_file.write(\"[{:.2f}, {:.2f}, {:.4f}]\".format(OA_test * 100., AA_mean_test*100., Kappa_test))\n",
    "    x_file.write('\\n')\n",
    "    x_file.write('{}'.format(average_accuracy))"
   ]
  },
  {
   "cell_type": "markdown",
   "metadata": {},
   "source": [
    "## Panoramic Classification"
   ]
  },
  {
   "cell_type": "code",
   "execution_count": 21,
   "metadata": {},
   "outputs": [],
   "source": [
    "def output_label(model, loader):\n",
    "    model.eval()\n",
    "    pre = np.array([]).astype('int')\n",
    "    with torch.no_grad():\n",
    "        for batch_idx, (batch_data, batch_target) in enumerate(loader):\n",
    "            batch_data = batch_data.cuda()\n",
    "            batch_pred = model(batch_data)  # (B, 9)\n",
    "            _, pred = batch_pred.topk(1, axis=1)  # (B, 1)\n",
    "            pp = pred.squeeze()\n",
    "            pre = np.append(pre, pp.data.cpu().numpy())\n",
    "    return pre"
   ]
  },
  {
   "cell_type": "code",
   "execution_count": 22,
   "metadata": {},
   "outputs": [
    {
     "name": "stdout",
     "output_type": "stream",
     "text": [
      "*******************************************************\n",
      "x_forward shape = (54129, 15, 15, 30), type = float64\n",
      "x_backward  shape = (56975, 15, 15, 30), type = float64\n",
      "*******************************************************\n"
     ]
    }
   ],
   "source": [
    "pos_forward, pos_backward = choose_all_pixels(label)\n",
    "\n",
    "x_forward, x_backward, y_forward, y_backward = all_data(mirror_data, band, pos_forward, pos_backward, patch_size=args.patch_size)"
   ]
  },
  {
   "cell_type": "code",
   "execution_count": 23,
   "metadata": {},
   "outputs": [
    {
     "name": "stdout",
     "output_type": "stream",
     "text": [
      "torch.Size([54129, 30, 15, 15])\n",
      "torch.Size([56975, 30, 15, 15])\n"
     ]
    }
   ],
   "source": [
    "# load data\n",
    "x_forward = torch.from_numpy(x_forward.transpose(0, 3, 1, 2)).type(torch.FloatTensor)\n",
    "print(x_forward.shape)\n",
    "y_forward = torch.from_numpy(y_forward).type(torch.LongTensor)  # (13,)\n",
    "forward_label = Data.TensorDataset(x_forward, y_forward)\n",
    "\n",
    "x_backward = torch.from_numpy(x_backward.transpose(0, 3, 1, 2)).type(torch.FloatTensor)\n",
    "print(x_backward.shape)\n",
    "y_backward = torch.from_numpy(y_backward).type(torch.LongTensor)  # (13,)\n",
    "backward_label = Data.TensorDataset(x_backward, y_backward)\n",
    "\n",
    "forward_loader = Data.DataLoader(forward_label, batch_size=128, shuffle=False)\n",
    "backward_loader = Data.DataLoader(backward_label, batch_size=128, shuffle=False)"
   ]
  },
  {
   "cell_type": "code",
   "execution_count": 24,
   "metadata": {},
   "outputs": [],
   "source": [
    "# output classification maps\n",
    "pre_forward = output_label(model, forward_loader)\n",
    "pre_backward = output_label(model, backward_loader)\n",
    "\n",
    "prediction_matrix = np.zeros((height, width), dtype=float)\n",
    "for i in range(pos_forward.shape[0]):\n",
    "    prediction_matrix[pos_forward[i, 0], pos_forward[i, 1]] = pre_forward[i] + 1\n",
    "\n",
    "for j in range(pos_backward.shape[0]):\n",
    "    prediction_matrix[pos_backward[j, 0], pos_backward[j, 1]] = pre_backward[j] + 1"
   ]
  },
  {
   "cell_type": "code",
   "execution_count": 26,
   "metadata": {},
   "outputs": [
    {
     "data": {
      "image/png": "[encoded data removed]",
      "text/plain": [
       "<Figure size 104.16x245.76 with 1 Axes>"
      ]
     },
     "metadata": {
      "needs_background": "light"
     },
     "output_type": "display_data"
    }
   ],
   "source": [
    "predict_map = list_to_colormap(prediction_matrix.ravel())\n",
    "predict_map = np.reshape(predict_map, (height, width, 3))\n",
    "\n",
    "classification_map(predict_map, './salinas_dmcn.pdf')"
   ]
  }
 ],
 "metadata": {
  "accelerator": "GPU",
  "colab": {
   "collapsed_sections": [],
   "machine_shape": "hm",
   "name": "[FINAL] IndianPinesSeed3.ipynb",
   "provenance": []
  },
  "kernelspec": {
   "display_name": "Python 3 (ipykernel)",
   "language": "python",
   "name": "python3"
  },
  "language_info": {
   "codemirror_mode": {
    "name": "ipython",
    "version": 3
   },
   "file_extension": ".py",
   "mimetype": "text/x-python",
   "name": "python",
   "nbconvert_exporter": "python",
   "pygments_lexer": "ipython3",
   "version": "3.10.12"
  }
 },
 "nbformat": 4,
 "nbformat_minor": 4
}
