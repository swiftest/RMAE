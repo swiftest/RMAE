{
 "cells": [
  {
   "cell_type": "code",
   "execution_count": 1,
   "id": "0574e0d0-c5db-47ea-a9d8-c3cec42b9001",
   "metadata": {},
   "outputs": [],
   "source": [
    "import os\n",
    "import time\n",
    "import random\n",
    "import argparse\n",
    "import numpy as np\n",
    "import scipy.io as sio\n",
    "import matplotlib as mpl\n",
    "import matplotlib.pyplot as plt\n",
    "from sklearn.decomposition import PCA\n",
    "from sklearn.preprocessing import StandardScaler\n",
    "\n",
    "\n",
    "import torch\n",
    "import torch.nn as nn\n",
    "import torch.optim as optim\n",
    "import torch.utils.data as Data\n",
    "import torch.backends.cudnn as cudnn\n",
    "\n",
    "from data_prepare import mirror_hsi\n",
    "from data_prepare import choose_train_and_test\n",
    "from data_prepare import choose_all_pixels, all_data\n",
    "from data_prepare import train_and_test_data, train_and_test_label\n",
    "\n",
    "\n",
    "from massformer import Massformer\n",
    "from CNNUtils import train, test, valid\n",
    "from Utils import output_metric, plot_confusion_matrix\n",
    "from Utils import list_to_colormap, classification_map, print_args\n",
    "\n",
    "\n",
    "%matplotlib inline"
   ]
  },
  {
   "cell_type": "code",
   "execution_count": 2,
   "id": "3b87374c-1a1d-4930-86e2-a8677a546900",
   "metadata": {},
   "outputs": [],
   "source": [
    "parser = argparse.ArgumentParser(\"MASSFormer\")\n",
    "parser.add_argument('--dataset', choices=['HU2013', 'HanChuan', 'Salinas', 'KSC'], default='Salinas', help='dataset to use')\n",
    "parser.add_argument('--seed', type=int, default=42, help='number of seed')\n",
    "parser.add_argument('--batch_size', type=int, default=32, help='number of batch size')\n",
    "parser.add_argument('--patch_size', type=int, default=15, help='size of patches')\n",
    "parser.add_argument('--epoches', type=int, default=100, help='epoch number')\n",
    "parser.add_argument('--learning_rate', type=float, default=1e-3, help='learning rate')\n",
    "parser.add_argument('--gamma', type=float, default=0.99, help='gamma')\n",
    "parser.add_argument('--weight_decay', type=float, default=0.001, help='weight_decay')\n",
    "parser.add_argument('--train_number', type=int, default=10, help='num_train_per_class')\n",
    "args = parser.parse_args(args=[])"
   ]
  },
  {
   "cell_type": "code",
   "execution_count": 3,
   "id": "b68827d9-bfda-436f-a900-8604f209d539",
   "metadata": {},
   "outputs": [
    {
     "name": "stdout",
     "output_type": "stream",
     "text": [
      "The class numbers of the HSI data is: 16\n"
     ]
    }
   ],
   "source": [
    "# prepare data\n",
    "data_path = os.path.join(os.getcwd(), 'dataset')\n",
    "\n",
    "if args.dataset == 'HU2013':\n",
    "    data = sio.loadmat(os.path.join(data_path, 'Houston.mat'))['Houston']\n",
    "    label = sio.loadmat(os.path.join(data_path, 'Houston_gt.mat'))['Houston_gt']\n",
    "elif args.dataset == 'HanChuan':\n",
    "    data = sio.loadmat(os.path.join(data_path, 'WHU_Hi_HanChuan.mat'))['WHU_Hi_HanChuan']\n",
    "    label = sio.loadmat(os.path.join(data_path, 'WHU_Hi_HanChuan_gt.mat'))['WHU_Hi_HanChuan_gt']\n",
    "elif args.dataset == 'KSC':\n",
    "    data = sio.loadmat(os.path.join(data_path, 'KSC.mat'))['KSC']\n",
    "    label = sio.loadmat(os.path.join(data_path, 'KSC_gt.mat'))['KSC_gt']\n",
    "elif args.dataset == 'Salinas':\n",
    "    data = sio.loadmat(os.path.join(data_path, 'Salinas_corrected.mat'))['salinas_corrected']\n",
    "    label = sio.loadmat(os.path.join(data_path, 'Salinas_gt.mat'))['salinas_gt']\n",
    "else:\n",
    "    raise ValueError(\"Unknown dataset\")\n",
    "\n",
    "num_classes = np.max(label)\n",
    "print('The class numbers of the HSI data is:', num_classes)"
   ]
  },
  {
   "cell_type": "code",
   "execution_count": 4,
   "id": "635b895e-7c6f-44e6-8eb3-cb05e5febe03",
   "metadata": {},
   "outputs": [],
   "source": [
    "shapeor = data.shape\n",
    "data = data.reshape(np.prod(data.shape[:2]), np.prod(data.shape[2:]))\n",
    "\n",
    "std_scaler = StandardScaler()\n",
    "std_data = std_scaler.fit_transform(data)\n",
    "data = std_data.reshape(shapeor)"
   ]
  },
  {
   "cell_type": "code",
   "execution_count": 5,
   "id": "f97a3fc2-9380-4874-a195-069334541115",
   "metadata": {},
   "outputs": [],
   "source": [
    "def applyPCA(data, numComponents=30):\n",
    "    new_data = np.reshape(data, (-1, data.shape[2]))\n",
    "    pca = PCA(n_components=numComponents, whiten=True)\n",
    "    new_data = pca.fit_transform(new_data)\n",
    "    new_data = np.reshape(new_data, (data.shape[0], data.shape[1], numComponents))\n",
    "    return new_data, pca"
   ]
  },
  {
   "cell_type": "code",
   "execution_count": 6,
   "id": "42b37e83-462e-44b2-9c4c-d5ed74c98e9b",
   "metadata": {},
   "outputs": [
    {
     "name": "stdout",
     "output_type": "stream",
     "text": [
      "height=512, width=217, band=30\n"
     ]
    }
   ],
   "source": [
    "K = 30\n",
    "data, pca = applyPCA(data, numComponents=K)\n",
    "\n",
    "# data size\n",
    "height, width, band = data.shape\n",
    "print(\"height={0}, width={1}, band={2}\".format(height, width, band))"
   ]
  },
  {
   "cell_type": "code",
   "execution_count": 7,
   "id": "b39cdc61-dd04-4dce-ae80-374d75aaaba2",
   "metadata": {},
   "outputs": [
    {
     "name": "stdout",
     "output_type": "stream",
     "text": [
      "*******************************************************\n",
      "patch_size : 15\n",
      "mirror_data shape : [526, 231, 30]\n",
      "*******************************************************\n",
      "*******************************************************\n",
      "x_train shape = (160, 15, 15, 30), type = float64\n",
      "x_test  shape = (53969, 15, 15, 30), type = float64\n",
      "x_valid  shape = (1600, 15, 15, 30), type = float64\n",
      "*******************************************************\n",
      "y_train: shape = (160,), type = int64\n",
      "y_test: shape = (53969,), type = int64\n",
      "y_valid: shape = (1600,), type = int64\n",
      "*******************************************************\n"
     ]
    }
   ],
   "source": [
    "mirror_data = mirror_hsi(height, width, band, data, patch_size=args.patch_size)\n",
    "\n",
    "total_pos_train, total_pos_test, total_pos_valid, number_train, number_test, number_valid = choose_train_and_test(label, args.train_number, args.seed) \n",
    "\n",
    "x_train, x_test, x_valid = train_and_test_data(mirror_data, band, total_pos_train, total_pos_test, total_pos_valid, args.patch_size)\n",
    "y_train, y_test, y_valid = train_and_test_label(number_train, number_test, number_valid, num_classes)"
   ]
  },
  {
   "cell_type": "code",
   "execution_count": 8,
   "id": "0489d02b-04f7-4488-bee3-8130b3b718c4",
   "metadata": {},
   "outputs": [
    {
     "data": {
      "text/plain": [
       "array([[268,  24],\n",
       "       [245,  47],\n",
       "       [242,  56],\n",
       "       [263,  38],\n",
       "       [243,  49],\n",
       "       [246,  49],\n",
       "       [257,  21],\n",
       "       [243,  45],\n",
       "       [247,  36],\n",
       "       [245,  51]])"
      ]
     },
     "execution_count": 8,
     "metadata": {},
     "output_type": "execute_result"
    }
   ],
   "source": [
    "total_pos_train[:10]"
   ]
  },
  {
   "cell_type": "code",
   "execution_count": 9,
   "id": "8923cdf6-de7f-4583-bd90-4b9ef22609e7",
   "metadata": {},
   "outputs": [
    {
     "name": "stdout",
     "output_type": "stream",
     "text": [
      "torch.Size([160, 1, 30, 15, 15])\n",
      "torch.Size([53969, 1, 30, 15, 15])\n",
      "torch.Size([1600, 1, 30, 15, 15])\n"
     ]
    }
   ],
   "source": [
    "# load data\n",
    "x_train = torch.from_numpy(x_train.transpose(0, 3, 1, 2)).unsqueeze(1).type(torch.FloatTensor)  # (90, 30, 15, 15)\n",
    "print(x_train.shape)\n",
    "y_train = torch.from_numpy(y_train).type(torch.LongTensor)  # (13,)\n",
    "train_label = Data.TensorDataset(x_train, y_train)\n",
    "\n",
    "x_test = torch.from_numpy(x_test.transpose(0, 3, 1, 2)).unsqueeze(1).type(torch.FloatTensor)  # (5198, 30, 15, 15)\n",
    "print(x_test.shape)\n",
    "y_test = torch.from_numpy(y_test).type(torch.LongTensor)  # (5198,)\n",
    "test_label = Data.TensorDataset(x_test, y_test)\n",
    "\n",
    "x_valid = torch.from_numpy(x_valid.transpose(0, 3, 1, 2)).unsqueeze(1).type(torch.FloatTensor)  # (5211, 30, 15, 15)\n",
    "print(x_valid.shape)\n",
    "y_valid = torch.from_numpy(y_valid).type(torch.LongTensor)\n",
    "valid_label = Data.TensorDataset(x_valid, y_valid)\n",
    "\n",
    "train_loader = Data.DataLoader(train_label, batch_size=32, shuffle=True)\n",
    "test_loader = Data.DataLoader(test_label, batch_size=128, shuffle=True)\n",
    "valid_loader = Data.DataLoader(valid_label, batch_size=64, shuffle=True)"
   ]
  },
  {
   "cell_type": "markdown",
   "id": "cbccc915-e322-4ac3-8093-ae862c0ed625",
   "metadata": {},
   "source": [
    "## Model"
   ]
  },
  {
   "cell_type": "code",
   "execution_count": 10,
   "id": "1a35e9f3-9dbf-40aa-9eef-238fb2d0286f",
   "metadata": {},
   "outputs": [],
   "source": [
    "model = Massformer(num_classes=num_classes).cuda()\n",
    "\n",
    "criterion = nn.CrossEntropyLoss()\n",
    "optimizer = optim.Adam(model.parameters(), lr=1e-3, betas=(0.9, 0.999), eps=1e-8, weight_decay=1e-06)\n",
    "scheduler = optim.lr_scheduler.ExponentialLR(optimizer, gamma=args.gamma)"
   ]
  },
  {
   "cell_type": "code",
   "execution_count": 11,
   "id": "0b032f66-d28a-4854-aea4-b664f524a349",
   "metadata": {},
   "outputs": [],
   "source": [
    "def model_summary(model):\n",
    "    total_param = 0\n",
    "    for name, param in model.named_parameters():\n",
    "        if param.requires_grad:\n",
    "            num_param = np.prod(param.size())\n",
    "            if param.dim() > 1:\n",
    "                print(name+':', 'x'.join(str(x) for x in list(param.size())), '=', num_param)\n",
    "            else:\n",
    "                print(name+':', num_param)\n",
    "            total_param += num_param\n",
    "    print(\"\\nTotal Trainable Parameters:\", total_param)"
   ]
  },
  {
   "cell_type": "code",
   "execution_count": 12,
   "id": "5c659ba2-97de-47bd-936d-74c6a47f1f3a",
   "metadata": {
    "scrolled": true
   },
   "outputs": [
    {
     "name": "stdout",
     "output_type": "stream",
     "text": [
      "cls_token: 1x1x64 = 64\n",
      "pos_embedding: 1x122x64 = 7808\n",
      "conv3d.0.weight: 8x1x3x3x3 = 216\n",
      "conv3d.0.bias: 8\n",
      "conv2d.0.weight: 64x224x3x3 = 129024\n",
      "conv2d.0.bias: 64\n",
      "transformer.layers.0.0.norm.weight: 64\n",
      "transformer.layers.0.0.norm.bias: 64\n",
      "transformer.layers.0.0.to_q.weight: 64x64 = 4096\n",
      "transformer.layers.0.0.to_kv.weight: 128x64 = 8192\n",
      "transformer.layers.0.0.to_memory.weight: 64x64 = 4096\n",
      "transformer.layers.0.0.to_out.0.weight: 64x64 = 4096\n",
      "transformer.layers.0.0.to_out.0.bias: 64\n",
      "transformer.layers.0.1.layernorm.weight: 64\n",
      "transformer.layers.0.1.layernorm.bias: 64\n",
      "transformer.layers.0.1.nn1.weight: 256x64 = 16384\n",
      "transformer.layers.0.1.nn1.bias: 256\n",
      "transformer.layers.0.1.nn2.weight: 64x256 = 16384\n",
      "transformer.layers.0.1.nn2.bias: 64\n",
      "transformer.layers.1.0.norm.weight: 64\n",
      "transformer.layers.1.0.norm.bias: 64\n",
      "transformer.layers.1.0.to_q.weight: 64x64 = 4096\n",
      "transformer.layers.1.0.to_kv.weight: 128x64 = 8192\n",
      "transformer.layers.1.0.to_memory.weight: 64x64 = 4096\n",
      "transformer.layers.1.0.to_out.0.weight: 64x64 = 4096\n",
      "transformer.layers.1.0.to_out.0.bias: 64\n",
      "transformer.layers.1.1.layernorm.weight: 64\n",
      "transformer.layers.1.1.layernorm.bias: 64\n",
      "transformer.layers.1.1.nn1.weight: 256x64 = 16384\n",
      "transformer.layers.1.1.nn1.bias: 256\n",
      "transformer.layers.1.1.nn2.weight: 64x256 = 16384\n",
      "transformer.layers.1.1.nn2.bias: 64\n",
      "mlp_head.0.weight: 64\n",
      "mlp_head.0.bias: 64\n",
      "mlp_head.1.weight: 16x64 = 1024\n",
      "mlp_head.1.bias: 16\n",
      "\n",
      "Total Trainable Parameters: 246128\n"
     ]
    }
   ],
   "source": [
    "model_summary(model)"
   ]
  },
  {
   "cell_type": "code",
   "execution_count": 13,
   "id": "d89ba0f0-f85c-4a81-ad03-5213feee3c60",
   "metadata": {
    "scrolled": true
   },
   "outputs": [
    {
     "name": "stdout",
     "output_type": "stream",
     "text": [
      "start training\n",
      "Epoch: 001 - train_loss: 2.6657 - train_acc: 18.1250 - valid_loss: 1.9661 - valid_acc: 58.8750\n",
      "val_acc improved from 0.0000 to 58.8750, saving model to MASSFormer.pt\n",
      "Epoch: 002 - train_loss: 1.7650 - train_acc: 50.0000 - valid_loss: 1.3149 - valid_acc: 67.2500\n",
      "val_acc improved from 58.8750 to 67.2500, saving model to MASSFormer.pt\n",
      "Epoch: 003 - train_loss: 1.2577 - train_acc: 67.5000 - valid_loss: 1.0973 - valid_acc: 72.8750\n",
      "val_acc improved from 67.2500 to 72.8750, saving model to MASSFormer.pt\n",
      "Epoch: 004 - train_loss: 0.9865 - train_acc: 80.6250 - valid_loss: 0.7624 - valid_acc: 86.0000\n",
      "val_acc improved from 72.8750 to 86.0000, saving model to MASSFormer.pt\n",
      "Epoch: 005 - train_loss: 0.7221 - train_acc: 85.0000 - valid_loss: 0.6239 - valid_acc: 84.8125\n",
      "val_acc did not improve from 86.0000\n",
      "Epoch: 006 - train_loss: 0.5794 - train_acc: 90.6250 - valid_loss: 0.4904 - valid_acc: 91.8750\n",
      "val_acc improved from 86.0000 to 91.8750, saving model to MASSFormer.pt\n",
      "Epoch: 007 - train_loss: 0.4779 - train_acc: 94.3750 - valid_loss: 0.3955 - valid_acc: 93.8125\n",
      "val_acc improved from 91.8750 to 93.8125, saving model to MASSFormer.pt\n",
      "Epoch: 008 - train_loss: 0.3876 - train_acc: 94.3750 - valid_loss: 0.3370 - valid_acc: 96.1250\n",
      "val_acc improved from 93.8125 to 96.1250, saving model to MASSFormer.pt\n",
      "Epoch: 009 - train_loss: 0.3350 - train_acc: 95.0000 - valid_loss: 0.2946 - valid_acc: 94.8125\n",
      "val_acc did not improve from 96.1250\n",
      "Epoch: 010 - train_loss: 0.2895 - train_acc: 95.6250 - valid_loss: 0.2477 - valid_acc: 96.5625\n",
      "val_acc improved from 96.1250 to 96.5625, saving model to MASSFormer.pt\n",
      "Epoch: 011 - train_loss: 0.2493 - train_acc: 95.0000 - valid_loss: 0.2249 - valid_acc: 95.6250\n",
      "val_acc did not improve from 96.5625\n",
      "Epoch: 012 - train_loss: 0.2214 - train_acc: 96.8750 - valid_loss: 0.2107 - valid_acc: 96.8750\n",
      "val_acc improved from 96.5625 to 96.8750, saving model to MASSFormer.pt\n",
      "Epoch: 013 - train_loss: 0.1990 - train_acc: 95.6250 - valid_loss: 0.1829 - valid_acc: 97.0000\n",
      "val_acc improved from 96.8750 to 97.0000, saving model to MASSFormer.pt\n",
      "Epoch: 014 - train_loss: 0.1727 - train_acc: 97.5000 - valid_loss: 0.1746 - valid_acc: 96.8125\n",
      "val_acc did not improve from 97.0000\n",
      "Epoch: 015 - train_loss: 0.1577 - train_acc: 98.7500 - valid_loss: 0.1743 - valid_acc: 96.4375\n",
      "val_acc did not improve from 97.0000\n",
      "Epoch: 016 - train_loss: 0.1704 - train_acc: 94.3750 - valid_loss: 0.1867 - valid_acc: 95.1250\n",
      "val_acc did not improve from 97.0000\n",
      "Epoch: 017 - train_loss: 0.1620 - train_acc: 97.5000 - valid_loss: 0.1541 - valid_acc: 96.6875\n",
      "val_acc did not improve from 97.0000\n",
      "Epoch: 018 - train_loss: 0.1269 - train_acc: 97.5000 - valid_loss: 0.1480 - valid_acc: 96.6250\n",
      "val_acc did not improve from 97.0000\n",
      "Epoch: 019 - train_loss: 0.1120 - train_acc: 98.1250 - valid_loss: 0.1508 - valid_acc: 96.6875\n",
      "val_acc did not improve from 97.0000\n",
      "Epoch: 020 - train_loss: 0.1136 - train_acc: 97.5000 - valid_loss: 0.1406 - valid_acc: 96.6250\n",
      "val_acc did not improve from 97.0000\n",
      "Epoch: 021 - train_loss: 0.0956 - train_acc: 98.7500 - valid_loss: 0.1275 - valid_acc: 97.1250\n",
      "val_acc improved from 97.0000 to 97.1250, saving model to MASSFormer.pt\n",
      "Epoch: 022 - train_loss: 0.0833 - train_acc: 99.3750 - valid_loss: 0.1266 - valid_acc: 97.0000\n",
      "val_acc did not improve from 97.1250\n",
      "Epoch: 023 - train_loss: 0.0750 - train_acc: 98.7500 - valid_loss: 0.1447 - valid_acc: 96.5625\n",
      "val_acc did not improve from 97.1250\n",
      "Epoch: 024 - train_loss: 0.0950 - train_acc: 97.5000 - valid_loss: 0.1349 - valid_acc: 96.3750\n",
      "val_acc did not improve from 97.1250\n",
      "Epoch: 025 - train_loss: 0.0903 - train_acc: 98.1250 - valid_loss: 0.1288 - valid_acc: 96.6875\n",
      "val_acc did not improve from 97.1250\n",
      "Epoch: 026 - train_loss: 0.0713 - train_acc: 98.1250 - valid_loss: 0.1157 - valid_acc: 96.6875\n",
      "val_acc did not improve from 97.1250\n",
      "Epoch: 027 - train_loss: 0.0646 - train_acc: 98.7500 - valid_loss: 0.1639 - valid_acc: 94.8750\n",
      "val_acc did not improve from 97.1250\n",
      "Epoch: 028 - train_loss: 0.0598 - train_acc: 99.3750 - valid_loss: 0.1517 - valid_acc: 96.1250\n",
      "val_acc did not improve from 97.1250\n",
      "Epoch: 029 - train_loss: 0.0836 - train_acc: 97.5000 - valid_loss: 0.1381 - valid_acc: 96.6250\n",
      "val_acc did not improve from 97.1250\n",
      "Epoch: 030 - train_loss: 0.0523 - train_acc: 100.0000 - valid_loss: 0.1141 - valid_acc: 96.8125\n",
      "val_acc did not improve from 97.1250\n",
      "Epoch: 031 - train_loss: 0.0452 - train_acc: 99.3750 - valid_loss: 0.1214 - valid_acc: 96.7500\n",
      "val_acc did not improve from 97.1250\n",
      "Epoch: 032 - train_loss: 0.0401 - train_acc: 100.0000 - valid_loss: 0.1201 - valid_acc: 97.0000\n",
      "val_acc did not improve from 97.1250\n",
      "Epoch: 033 - train_loss: 0.0349 - train_acc: 100.0000 - valid_loss: 0.1208 - valid_acc: 97.0625\n",
      "val_acc did not improve from 97.1250\n",
      "Epoch: 034 - train_loss: 0.0322 - train_acc: 100.0000 - valid_loss: 0.1169 - valid_acc: 96.9375\n",
      "val_acc did not improve from 97.1250\n",
      "Epoch: 035 - train_loss: 0.0316 - train_acc: 100.0000 - valid_loss: 0.1148 - valid_acc: 96.9375\n",
      "val_acc did not improve from 97.1250\n",
      "Epoch: 036 - train_loss: 0.0290 - train_acc: 100.0000 - valid_loss: 0.1133 - valid_acc: 97.0000\n",
      "val_acc did not improve from 97.1250\n",
      "Epoch: 037 - train_loss: 0.0268 - train_acc: 100.0000 - valid_loss: 0.1113 - valid_acc: 97.0625\n",
      "val_acc did not improve from 97.1250\n",
      "Epoch: 038 - train_loss: 0.0266 - train_acc: 100.0000 - valid_loss: 0.1114 - valid_acc: 97.0625\n",
      "val_acc did not improve from 97.1250\n",
      "Epoch: 039 - train_loss: 0.0246 - train_acc: 100.0000 - valid_loss: 0.1121 - valid_acc: 96.9375\n",
      "val_acc did not improve from 97.1250\n",
      "Epoch: 040 - train_loss: 0.0249 - train_acc: 100.0000 - valid_loss: 0.1128 - valid_acc: 97.0625\n",
      "val_acc did not improve from 97.1250\n",
      "Epoch: 041 - train_loss: 0.0231 - train_acc: 100.0000 - valid_loss: 0.1112 - valid_acc: 97.1250\n",
      "val_acc did not improve from 97.1250\n",
      "Epoch: 042 - train_loss: 0.0220 - train_acc: 100.0000 - valid_loss: 0.1095 - valid_acc: 97.1250\n",
      "val_acc did not improve from 97.1250\n",
      "Epoch: 043 - train_loss: 0.0209 - train_acc: 100.0000 - valid_loss: 0.1088 - valid_acc: 97.1875\n",
      "val_acc improved from 97.1250 to 97.1875, saving model to MASSFormer.pt\n",
      "Epoch: 044 - train_loss: 0.0215 - train_acc: 100.0000 - valid_loss: 0.1085 - valid_acc: 97.2500\n",
      "val_acc improved from 97.1875 to 97.2500, saving model to MASSFormer.pt\n",
      "Epoch: 045 - train_loss: 0.0201 - train_acc: 100.0000 - valid_loss: 0.1073 - valid_acc: 97.2500\n",
      "val_acc did not improve from 97.2500\n",
      "Epoch: 046 - train_loss: 0.0204 - train_acc: 100.0000 - valid_loss: 0.1076 - valid_acc: 97.1250\n",
      "val_acc did not improve from 97.2500\n",
      "Epoch: 047 - train_loss: 0.0185 - train_acc: 100.0000 - valid_loss: 0.1068 - valid_acc: 97.1875\n",
      "val_acc did not improve from 97.2500\n",
      "Epoch: 048 - train_loss: 0.0185 - train_acc: 100.0000 - valid_loss: 0.1060 - valid_acc: 97.2500\n",
      "val_acc did not improve from 97.2500\n",
      "Epoch: 049 - train_loss: 0.0182 - train_acc: 100.0000 - valid_loss: 0.1056 - valid_acc: 97.2500\n",
      "val_acc did not improve from 97.2500\n",
      "Epoch: 050 - train_loss: 0.0175 - train_acc: 100.0000 - valid_loss: 0.1055 - valid_acc: 97.3125\n",
      "val_acc improved from 97.2500 to 97.3125, saving model to MASSFormer.pt\n",
      "Epoch: 051 - train_loss: 0.0174 - train_acc: 100.0000 - valid_loss: 0.1050 - valid_acc: 97.2500\n",
      "val_acc did not improve from 97.3125\n",
      "Epoch: 052 - train_loss: 0.0170 - train_acc: 100.0000 - valid_loss: 0.1045 - valid_acc: 97.3125\n",
      "val_acc did not improve from 97.3125\n",
      "Epoch: 053 - train_loss: 0.0166 - train_acc: 100.0000 - valid_loss: 0.1051 - valid_acc: 97.1875\n",
      "val_acc did not improve from 97.3125\n",
      "Epoch: 054 - train_loss: 0.0160 - train_acc: 100.0000 - valid_loss: 0.1060 - valid_acc: 97.1875\n",
      "val_acc did not improve from 97.3125\n",
      "Epoch: 055 - train_loss: 0.0151 - train_acc: 100.0000 - valid_loss: 0.1075 - valid_acc: 97.0625\n",
      "val_acc did not improve from 97.3125\n",
      "Epoch: 056 - train_loss: 0.0151 - train_acc: 100.0000 - valid_loss: 0.1091 - valid_acc: 97.0625\n",
      "val_acc did not improve from 97.3125\n",
      "Epoch: 057 - train_loss: 0.0151 - train_acc: 100.0000 - valid_loss: 0.1094 - valid_acc: 97.0625\n",
      "val_acc did not improve from 97.3125\n",
      "Epoch: 058 - train_loss: 0.0147 - train_acc: 100.0000 - valid_loss: 0.1088 - valid_acc: 97.0625\n",
      "val_acc did not improve from 97.3125\n",
      "Epoch: 059 - train_loss: 0.0142 - train_acc: 100.0000 - valid_loss: 0.1078 - valid_acc: 97.0625\n",
      "val_acc did not improve from 97.3125\n",
      "Epoch: 060 - train_loss: 0.0141 - train_acc: 100.0000 - valid_loss: 0.1073 - valid_acc: 97.1875\n",
      "val_acc did not improve from 97.3125\n",
      "Epoch: 061 - train_loss: 0.0137 - train_acc: 100.0000 - valid_loss: 0.1065 - valid_acc: 97.0625\n",
      "val_acc did not improve from 97.3125\n",
      "Epoch: 062 - train_loss: 0.0136 - train_acc: 100.0000 - valid_loss: 0.1061 - valid_acc: 97.1250\n",
      "val_acc did not improve from 97.3125\n",
      "Epoch: 063 - train_loss: 0.0133 - train_acc: 100.0000 - valid_loss: 0.1057 - valid_acc: 97.3125\n",
      "val_acc did not improve from 97.3125\n",
      "Epoch: 064 - train_loss: 0.0128 - train_acc: 100.0000 - valid_loss: 0.1054 - valid_acc: 97.2500\n",
      "val_acc did not improve from 97.3125\n",
      "Epoch: 065 - train_loss: 0.0128 - train_acc: 100.0000 - valid_loss: 0.1085 - valid_acc: 97.0625\n",
      "val_acc did not improve from 97.3125\n",
      "Epoch: 066 - train_loss: 0.0129 - train_acc: 100.0000 - valid_loss: 0.1098 - valid_acc: 97.1250\n",
      "val_acc did not improve from 97.3125\n",
      "Epoch: 067 - train_loss: 0.0122 - train_acc: 100.0000 - valid_loss: 0.1098 - valid_acc: 97.1250\n",
      "val_acc did not improve from 97.3125\n",
      "Epoch: 068 - train_loss: 0.0121 - train_acc: 100.0000 - valid_loss: 0.1094 - valid_acc: 97.1875\n",
      "val_acc did not improve from 97.3125\n",
      "Epoch: 069 - train_loss: 0.0117 - train_acc: 100.0000 - valid_loss: 0.1085 - valid_acc: 97.1250\n",
      "val_acc did not improve from 97.3125\n",
      "Epoch: 070 - train_loss: 0.0116 - train_acc: 100.0000 - valid_loss: 0.1078 - valid_acc: 97.2500\n",
      "val_acc did not improve from 97.3125\n",
      "Epoch: 071 - train_loss: 0.0115 - train_acc: 100.0000 - valid_loss: 0.1077 - valid_acc: 97.0625\n",
      "val_acc did not improve from 97.3125\n",
      "Epoch: 072 - train_loss: 0.0113 - train_acc: 100.0000 - valid_loss: 0.1074 - valid_acc: 97.0625\n",
      "val_acc did not improve from 97.3125\n",
      "Epoch: 073 - train_loss: 0.0112 - train_acc: 100.0000 - valid_loss: 0.1067 - valid_acc: 97.1875\n",
      "val_acc did not improve from 97.3125\n",
      "Epoch: 074 - train_loss: 0.0112 - train_acc: 100.0000 - valid_loss: 0.1057 - valid_acc: 97.2500\n",
      "val_acc did not improve from 97.3125\n",
      "Epoch: 075 - train_loss: 0.0108 - train_acc: 100.0000 - valid_loss: 0.1040 - valid_acc: 97.3125\n",
      "val_acc did not improve from 97.3125\n",
      "Epoch: 076 - train_loss: 0.0103 - train_acc: 100.0000 - valid_loss: 0.1035 - valid_acc: 97.3125\n",
      "val_acc did not improve from 97.3125\n",
      "Epoch: 077 - train_loss: 0.0102 - train_acc: 100.0000 - valid_loss: 0.1039 - valid_acc: 97.2500\n",
      "val_acc did not improve from 97.3125\n",
      "Epoch: 078 - train_loss: 0.0107 - train_acc: 100.0000 - valid_loss: 0.1049 - valid_acc: 97.3125\n",
      "val_acc did not improve from 97.3125\n",
      "Epoch: 079 - train_loss: 0.0101 - train_acc: 100.0000 - valid_loss: 0.1065 - valid_acc: 97.3750\n",
      "val_acc improved from 97.3125 to 97.3750, saving model to MASSFormer.pt\n",
      "Epoch: 080 - train_loss: 0.0099 - train_acc: 100.0000 - valid_loss: 0.1082 - valid_acc: 97.3125\n",
      "val_acc did not improve from 97.3750\n",
      "Epoch: 081 - train_loss: 0.0097 - train_acc: 100.0000 - valid_loss: 0.1089 - valid_acc: 97.3125\n",
      "val_acc did not improve from 97.3750\n",
      "Epoch: 082 - train_loss: 0.0098 - train_acc: 100.0000 - valid_loss: 0.1089 - valid_acc: 97.3125\n",
      "val_acc did not improve from 97.3750\n",
      "Epoch: 083 - train_loss: 0.0093 - train_acc: 100.0000 - valid_loss: 0.1086 - valid_acc: 97.3125\n",
      "val_acc did not improve from 97.3750\n",
      "Epoch: 084 - train_loss: 0.0092 - train_acc: 100.0000 - valid_loss: 0.1084 - valid_acc: 97.3125\n",
      "val_acc did not improve from 97.3750\n",
      "Epoch: 085 - train_loss: 0.0090 - train_acc: 100.0000 - valid_loss: 0.1076 - valid_acc: 97.3750\n",
      "val_acc did not improve from 97.3750\n",
      "Epoch: 086 - train_loss: 0.0092 - train_acc: 100.0000 - valid_loss: 0.1070 - valid_acc: 97.3125\n",
      "val_acc did not improve from 97.3750\n",
      "Epoch: 087 - train_loss: 0.0090 - train_acc: 100.0000 - valid_loss: 0.1073 - valid_acc: 97.3125\n",
      "val_acc did not improve from 97.3750\n",
      "Epoch: 088 - train_loss: 0.0089 - train_acc: 100.0000 - valid_loss: 0.1078 - valid_acc: 97.3750\n",
      "val_acc did not improve from 97.3750\n",
      "Epoch: 089 - train_loss: 0.0091 - train_acc: 100.0000 - valid_loss: 0.1084 - valid_acc: 97.2500\n",
      "val_acc did not improve from 97.3750\n",
      "Epoch: 090 - train_loss: 0.0087 - train_acc: 100.0000 - valid_loss: 0.1093 - valid_acc: 97.2500\n",
      "val_acc did not improve from 97.3750\n",
      "Epoch: 091 - train_loss: 0.0086 - train_acc: 100.0000 - valid_loss: 0.1092 - valid_acc: 97.1875\n",
      "val_acc did not improve from 97.3750\n",
      "Epoch: 092 - train_loss: 0.0085 - train_acc: 100.0000 - valid_loss: 0.1095 - valid_acc: 97.2500\n",
      "val_acc did not improve from 97.3750\n",
      "Epoch: 093 - train_loss: 0.0085 - train_acc: 100.0000 - valid_loss: 0.1095 - valid_acc: 97.1875\n",
      "val_acc did not improve from 97.3750\n",
      "Epoch: 094 - train_loss: 0.0082 - train_acc: 100.0000 - valid_loss: 0.1094 - valid_acc: 97.2500\n",
      "val_acc did not improve from 97.3750\n",
      "Epoch: 095 - train_loss: 0.0081 - train_acc: 100.0000 - valid_loss: 0.1087 - valid_acc: 97.3125\n",
      "val_acc did not improve from 97.3750\n",
      "Epoch: 096 - train_loss: 0.0082 - train_acc: 100.0000 - valid_loss: 0.1086 - valid_acc: 97.3125\n",
      "val_acc did not improve from 97.3750\n",
      "Epoch: 097 - train_loss: 0.0079 - train_acc: 100.0000 - valid_loss: 0.1087 - valid_acc: 97.2500\n",
      "val_acc did not improve from 97.3750\n",
      "Epoch: 098 - train_loss: 0.0082 - train_acc: 100.0000 - valid_loss: 0.1093 - valid_acc: 97.3750\n",
      "val_acc did not improve from 97.3750\n",
      "Epoch: 099 - train_loss: 0.0078 - train_acc: 100.0000 - valid_loss: 0.1092 - valid_acc: 97.4375\n",
      "val_acc improved from 97.3750 to 97.4375, saving model to MASSFormer.pt\n",
      "Epoch: 100 - train_loss: 0.0079 - train_acc: 100.0000 - valid_loss: 0.1092 - valid_acc: 97.3750\n",
      "val_acc did not improve from 97.4375\n",
      "Running Time: 12.18\n",
      "**************************************************\n"
     ]
    }
   ],
   "source": [
    "print('start training')\n",
    "acc_list = [0.00]\n",
    "path = './model/MASSFormer.pt'\n",
    "tic = time.time()\n",
    "for epoch in range(args.epoches):\n",
    "    # 计算的是移动平均准确率\n",
    "    train_acc, train_loss = train(model, train_loader, criterion, optimizer)\n",
    "    valid_acc, valid_loss = valid(model, valid_loader, criterion)\n",
    "    print(\"Epoch: {:03d} - train_loss: {:.4f} - train_acc: {:.4f} - valid_loss: {:.4f} - valid_acc: {:.4f}\".\\\n",
    "          format(epoch+1, train_loss, train_acc, valid_loss, valid_acc))\n",
    "    scheduler.step()\n",
    "\n",
    "    acc_list.append(valid_acc)\n",
    "    if acc_list[-1] > acc_list[-2]:\n",
    "        print(\"val_acc improved from {:.4f} to {:.4f}, saving model to MASSFormer.pt\".format(acc_list[-2], acc_list[-1]))\n",
    "        torch.save(model.state_dict(), path)\n",
    "    else:\n",
    "        print(\"val_acc did not improve from {:.4f}\".format(acc_list[-2]))\n",
    "        acc_list[-1] = acc_list[-2]\n",
    "\n",
    "toc = time.time()\n",
    "print(\"Running Time: {:.2f}\".format(toc-tic))\n",
    "print(\"**************************************************\")"
   ]
  },
  {
   "cell_type": "code",
   "execution_count": 14,
   "id": "299db4c2-1b73-4a99-9875-f04ebf6ae2a3",
   "metadata": {},
   "outputs": [],
   "source": [
    "model.load_state_dict(torch.load(path))\n",
    "model.eval()\n",
    "\n",
    "tar_test, pre_test = test(model, test_loader)\n",
    "OA_test, AA_mean_test, Kappa_test, AA_test = output_metric(tar_test, pre_test)\n",
    "AA_test = np.around(AA_test*100, 2)"
   ]
  },
  {
   "cell_type": "code",
   "execution_count": 15,
   "id": "fd3318f4-3239-4532-a695-55d845bac618",
   "metadata": {},
   "outputs": [
    {
     "name": "stdout",
     "output_type": "stream",
     "text": [
      "*******************************************************************\n",
      "Final result:\n",
      "OA: 93.99, AA: 97.47, Kappa: 0.9332\n",
      "*******************************************************************\n",
      "Recal: [ 96.05 100.   100.   100.    97.26 100.    99.47  81.04 100.    98.29\n",
      " 100.    99.84  99.89 100.    87.99  99.67]\n",
      "*******************************************************************\n",
      "Parameter:\n",
      "dataset: Salinas\n",
      "seed: 42\n",
      "batch_size: 32\n",
      "patch_size: 15\n",
      "epoches: 100\n",
      "learning_rate: 0.001\n",
      "gamma: 0.99\n",
      "weight_decay: 0.001\n",
      "train_number: 10\n",
      "*******************************************************************\n"
     ]
    }
   ],
   "source": [
    "print(\"*******************************************************************\")\n",
    "print(\"Final result:\")\n",
    "print(\"OA: {:.2f}, AA: {:.2f}, Kappa: {:.4f}\".format(OA_test * 100., AA_mean_test*100., Kappa_test))\n",
    "print(\"*******************************************************************\")\n",
    "print(\"Recal: {}\".format(AA_test))\n",
    "print(\"*******************************************************************\")\n",
    "print(\"Parameter:\")\n",
    "print_args(vars(args))\n",
    "print(\"*******************************************************************\")"
   ]
  },
  {
   "cell_type": "code",
   "execution_count": 16,
   "id": "2de904c3-0dbe-4d42-b0ec-0ac8843f832c",
   "metadata": {},
   "outputs": [],
   "source": [
    "average_accuracy = str(list(AA_test))\n",
    "file_name = \"./CR/massformer_1.txt\"\n",
    "\n",
    "with open(file_name, 'w') as x_file:\n",
    "    x_file.write(\"[{:.2f}, {:.2f}, {:.4f}]\".format(OA_test * 100., AA_mean_test*100., Kappa_test))\n",
    "    x_file.write('\\n')\n",
    "    x_file.write('{}'.format(average_accuracy))"
   ]
  },
  {
   "cell_type": "markdown",
   "id": "e1a2c8c3-5bf0-4847-953b-dfcf2d446994",
   "metadata": {},
   "source": [
    "## Panoramic Classification"
   ]
  },
  {
   "cell_type": "code",
   "execution_count": 17,
   "id": "e8786e30-50ee-4e0e-8004-770021df7433",
   "metadata": {},
   "outputs": [],
   "source": [
    "def output_label(model, loader):\n",
    "    model.eval()\n",
    "    pre = np.array([]).astype('int')\n",
    "    with torch.no_grad():\n",
    "        for batch_idx, (batch_data, batch_target) in enumerate(loader):\n",
    "            batch_data = batch_data.cuda()\n",
    "            batch_pred = model(batch_data)  # (B, 9)\n",
    "            _, pred = batch_pred.topk(1, axis=1)  # (B, 1)\n",
    "            pp = pred.squeeze()\n",
    "            pre = np.append(pre, pp.data.cpu().numpy())\n",
    "    return pre"
   ]
  },
  {
   "cell_type": "code",
   "execution_count": 18,
   "id": "dec8b862-395e-48d0-b3f5-b59575c5e8bc",
   "metadata": {},
   "outputs": [
    {
     "name": "stdout",
     "output_type": "stream",
     "text": [
      "*******************************************************\n",
      "x_forward shape = (54129, 15, 15, 30), type = float64\n",
      "x_backward  shape = (56975, 15, 15, 30), type = float64\n",
      "*******************************************************\n"
     ]
    }
   ],
   "source": [
    "pos_forward, pos_backward = choose_all_pixels(label)\n",
    "\n",
    "x_forward, x_backward, y_forward, y_backward = all_data(mirror_data, band, pos_forward, pos_backward, patch_size=args.patch_size)"
   ]
  },
  {
   "cell_type": "code",
   "execution_count": 19,
   "id": "7af98869-976c-4f6b-b322-2764f554d78f",
   "metadata": {},
   "outputs": [
    {
     "name": "stdout",
     "output_type": "stream",
     "text": [
      "torch.Size([54129, 1, 30, 15, 15])\n",
      "torch.Size([56975, 1, 30, 15, 15])\n"
     ]
    }
   ],
   "source": [
    "# load data\n",
    "x_forward = torch.from_numpy(x_forward.transpose(0, 3, 1, 2)).unsqueeze(1).type(torch.FloatTensor)\n",
    "print(x_forward.shape)\n",
    "y_forward = torch.from_numpy(y_forward).type(torch.LongTensor)  # (13,)\n",
    "forward_label = Data.TensorDataset(x_forward, y_forward)\n",
    "\n",
    "x_backward = torch.from_numpy(x_backward.transpose(0, 3, 1, 2)).unsqueeze(1).type(torch.FloatTensor)\n",
    "print(x_backward.shape)\n",
    "y_backward = torch.from_numpy(y_backward).type(torch.LongTensor)  # (13,)\n",
    "backward_label = Data.TensorDataset(x_backward, y_backward)\n",
    "\n",
    "forward_loader = Data.DataLoader(forward_label, batch_size=128, shuffle=False)\n",
    "backward_loader = Data.DataLoader(backward_label, batch_size=128, shuffle=False)"
   ]
  },
  {
   "cell_type": "code",
   "execution_count": 20,
   "id": "b2c1765c-6044-47a8-8790-1a092a26a473",
   "metadata": {},
   "outputs": [],
   "source": [
    "# output classification maps\n",
    "pre_forward = output_label(model, forward_loader)\n",
    "pre_backward = output_label(model, backward_loader)\n",
    "\n",
    "prediction_matrix = np.zeros((height, width), dtype=float)  # (512, 614)\n",
    "for i in range(pos_forward.shape[0]):\n",
    "    prediction_matrix[pos_forward[i, 0], pos_forward[i, 1]] = pre_forward[i] + 1\n",
    "\n",
    "for j in range(pos_backward.shape[0]):\n",
    "    prediction_matrix[pos_backward[j, 0], pos_backward[j, 1]] = pre_backward[j] + 1"
   ]
  },
  {
   "cell_type": "code",
   "execution_count": 21,
   "id": "30f09bba-123a-4b1c-b969-c041b56f4133",
   "metadata": {},
   "outputs": [
    {
     "data": {
      "image/png": "[encoded data removed]",
      "text/plain": [
       "<Figure size 144.667x341.333 with 1 Axes>"
      ]
     },
     "metadata": {},
     "output_type": "display_data"
    }
   ],
   "source": [
    "predict_map = list_to_colormap(prediction_matrix.ravel())\n",
    "predict_map = np.reshape(predict_map, (height, width, 3))\n",
    "\n",
    "classification_map(predict_map, './salinas_massformer.pdf')"
   ]
  },
  {
   "cell_type": "code",
   "execution_count": null,
   "id": "2a92bf69-4e70-4fad-841b-428fa7b35209",
   "metadata": {},
   "outputs": [],
   "source": []
  },
  {
   "cell_type": "code",
   "execution_count": null,
   "id": "1a4bf456-6a51-4309-82bb-a2d1961d8b30",
   "metadata": {},
   "outputs": [],
   "source": []
  }
 ],
 "metadata": {
  "kernelspec": {
   "display_name": "Python 3 (ipykernel)",
   "language": "python",
   "name": "python3"
  },
  "language_info": {
   "codemirror_mode": {
    "name": "ipython",
    "version": 3
   },
   "file_extension": ".py",
   "mimetype": "text/x-python",
   "name": "python",
   "nbconvert_exporter": "python",
   "pygments_lexer": "ipython3",
   "version": "3.10.12"
  }
 },
 "nbformat": 4,
 "nbformat_minor": 5
}
