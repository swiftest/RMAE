{
 "cells": [
  {
   "cell_type": "code",
   "execution_count": 9,
   "id": "3184c52e-134e-4498-843f-8815a1278e2e",
   "metadata": {},
   "outputs": [],
   "source": [
    "import os\n",
    "import time\n",
    "import logging\n",
    "import argparse\n",
    "import numpy as np\n",
    "from tqdm import tqdm\n",
    "import scipy.io as sio\n",
    "from copy import deepcopy\n",
    "from einops import rearrange\n",
    "import matplotlib.pyplot as plt\n",
    "import matplotlib.patheffects as PathEffects\n",
    "\n",
    "\n",
    "import torch\n",
    "import torch.nn as nn\n",
    "from torch import optim\n",
    "import torch.utils.data as Data\n",
    "import torch.nn.functional as F\n",
    "from torch.optim.adam import Adam\n",
    "import torch.backends.cudnn as cudnn\n",
    "from timm.models.vision_transformer import PatchEmbed, Block\n",
    "\n",
    "\n",
    "from sklearn.manifold import TSNE\n",
    "from sklearn.decomposition import PCA\n",
    "from sklearn.metrics import confusion_matrix\n",
    "from sklearn.preprocessing import StandardScaler\n",
    "\n",
    "\n",
    "from data_prepare import mirror_hsi\n",
    "from data_prepare import choose_all_pixels, all_data\n",
    "from data_prepare import choose_pretrain, pretrain_data\n",
    "from data_prepare import choose_train_and_test, train_and_test_data, train_and_test_label\n",
    "\n",
    "\n",
    "from CNNUtils import train, test, valid\n",
    "from Utils import plot_confusion_matrix, print_args\n",
    "from Utils import output_metric, classification_map, list_to_colormap\n",
    "\n",
    "\n",
    "%matplotlib inline"
   ]
  },
  {
   "cell_type": "code",
   "execution_count": 10,
   "id": "ad753828-54d3-466e-89c8-0e1160b8fd44",
   "metadata": {},
   "outputs": [],
   "source": [
    "parser = argparse.ArgumentParser(\"MCNN\")\n",
    "parser.add_argument('--dataset', choices=['HU2013', 'HanChuan', 'Salinas', 'KSC'], default='Salinas', help='dataset to use')\n",
    "parser.add_argument('--gpu_id', default='0', help='GPU id')\n",
    "parser.add_argument('--seed', type=int, default=42, help='number of the random seed')\n",
    "parser.add_argument('--batch_size', type=int, default=128, help='number of batch size')\n",
    "parser.add_argument('--patch_size', type=int, default=15, help='size of patches')\n",
    "parser.add_argument('--epoches', type=int, default=100, help='epoch number')\n",
    "parser.add_argument('--learning_rate', type=float, default=1e-3, help='learning rate')\n",
    "parser.add_argument('--gamma', type=float, default=0.99, help='gamma')\n",
    "parser.add_argument('--train_number', type=int, default=10, help='num_train_per_class')\n",
    "parser.add_argument('--pretrain_proportion', type=float, default=0.5, help='proportion_pretrain_per_class')\n",
    "args = parser.parse_args(args=[])"
   ]
  },
  {
   "cell_type": "code",
   "execution_count": 11,
   "id": "a6928211-0ff6-4f50-85ff-68ac9a8c2875",
   "metadata": {},
   "outputs": [
    {
     "name": "stdout",
     "output_type": "stream",
     "text": [
      "The class numbers of the HSI data is: 16\n"
     ]
    }
   ],
   "source": [
    "# prepare data\n",
    "data_path = os.path.join(os.getcwd(), 'dataset')\n",
    "\n",
    "if args.dataset == 'Salinas':\n",
    "    data = sio.loadmat(os.path.join(data_path, 'Salinas_corrected.mat'))['salinas_corrected']\n",
    "    label = sio.loadmat(os.path.join(data_path, 'Salinas_gt.mat'))['salinas_gt']\n",
    "elif args.dataset == 'HanChuan':\n",
    "    data = sio.loadmat(os.path.join(data_path, 'WHU_Hi_HanChuan.mat'))['WHU_Hi_HanChuan']\n",
    "    label = sio.loadmat(os.path.join(data_path, 'WHU_Hi_HanChuan_gt.mat'))['WHU_Hi_HanChuan_gt']\n",
    "elif args.dataset == 'HU2013':\n",
    "    data = sio.loadmat(os.path.join(data_path, 'Houston.mat'))['Houston']\n",
    "    label = sio.loadmat(os.path.join(data_path, 'Houston_gt.mat'))['Houston_gt']\n",
    "elif args.dataset == 'KSC':\n",
    "    data = sio.loadmat(os.path.join(data_path, 'KSC.mat'))['KSC']\n",
    "    label = sio.loadmat(os.path.join(data_path, 'KSC_gt.mat'))['KSC_gt']\n",
    "else:\n",
    "    raise ValueError(\"Unknown dataset\")\n",
    "    \n",
    "num_classes = np.max(label)\n",
    "print('The class numbers of the HSI data is:', num_classes)"
   ]
  },
  {
   "cell_type": "code",
   "execution_count": 12,
   "id": "c5cd9087-c965-4bf6-ad33-141b2c1fefa2",
   "metadata": {},
   "outputs": [],
   "source": [
    "shapeor = data.shape\n",
    "data = data.reshape(np.prod(data.shape[:2]), np.prod(data.shape[2:]))\n",
    "\n",
    "std_scaler = StandardScaler()\n",
    "std_data = std_scaler.fit_transform(data)\n",
    "data = std_data.reshape(shapeor)"
   ]
  },
  {
   "cell_type": "code",
   "execution_count": 13,
   "id": "607cf2e1-6d0b-4581-a4aa-8949c32d883c",
   "metadata": {},
   "outputs": [],
   "source": [
    "def applyPCA(data, numComponents=30):\n",
    "    new_data = np.reshape(data, (-1, data.shape[2]))\n",
    "    pca = PCA(n_components=numComponents, whiten=True)\n",
    "    new_data = pca.fit_transform(new_data)\n",
    "    new_data = np.reshape(new_data, (data.shape[0], data.shape[1], numComponents))\n",
    "    return new_data, pca"
   ]
  },
  {
   "cell_type": "code",
   "execution_count": 14,
   "id": "125e28b4-a32d-470d-bab4-a5ddc8c9bfde",
   "metadata": {},
   "outputs": [
    {
     "name": "stdout",
     "output_type": "stream",
     "text": [
      "height=512, width=217, band=15\n"
     ]
    }
   ],
   "source": [
    "K = 15\n",
    "data, pca = applyPCA(data, numComponents=K)\n",
    "\n",
    "# data size\n",
    "height, width, band = data.shape\n",
    "print(\"height={0}, width={1}, band={2}\".format(height, width, band))"
   ]
  },
  {
   "cell_type": "markdown",
   "id": "e73927c8-c146-4a1e-b5f2-f7bbfad1169f",
   "metadata": {},
   "source": [
    "## Dataloader Construction"
   ]
  },
  {
   "cell_type": "code",
   "execution_count": 15,
   "id": "a951f567-205e-49f4-ade7-75e17a96419e",
   "metadata": {},
   "outputs": [
    {
     "name": "stdout",
     "output_type": "stream",
     "text": [
      "*******************************************************\n",
      "patch_size : 15\n",
      "mirror_data shape : [526, 231, 15]\n",
      "*******************************************************\n",
      "x_pretrain shape : (27064, 15, 15, 15), type = float64\n",
      "*******************************************************\n"
     ]
    }
   ],
   "source": [
    "total_pos_pretrain, y_pretrain = choose_pretrain(label, pretrain_proportion=args.pretrain_proportion, seed=args.seed)\n",
    "\n",
    "mirror_data = mirror_hsi(height, width, band, data, patch_size=args.patch_size)\n",
    "\n",
    "x_pretrain = pretrain_data(mirror_data, band, total_pos_pretrain, patch_size=args.patch_size)"
   ]
  },
  {
   "cell_type": "code",
   "execution_count": 16,
   "id": "dc6adc39-d300-46b5-bbea-b9496e7dcc68",
   "metadata": {},
   "outputs": [
    {
     "name": "stdout",
     "output_type": "stream",
     "text": [
      "torch.Size([27064, 15, 15, 15])\n",
      "torch.Size([27064])\n"
     ]
    }
   ],
   "source": [
    "# load data\n",
    "x_pretrain = torch.from_numpy(x_pretrain.transpose(0, 3, 1, 2)).type(torch.FloatTensor)  # (40908, 15, 15, 15)\n",
    "y_pretrain = torch.from_numpy(y_pretrain).type(torch.LongTensor)  # (40908,)\n",
    "print(x_pretrain.shape)\n",
    "print(y_pretrain.shape)\n",
    "\n",
    "pretrain_label = Data.TensorDataset(x_pretrain, y_pretrain)\n",
    "pretrain_loader = Data.DataLoader(pretrain_label, batch_size=args.batch_size, shuffle=True)"
   ]
  },
  {
   "cell_type": "markdown",
   "id": "6039837d-6a57-4dcd-9d30-fcdbce577bad",
   "metadata": {},
   "source": [
    "## Model"
   ]
  },
  {
   "cell_type": "code",
   "execution_count": 17,
   "id": "e27a2df1-c562-44dc-9b7f-3fa7e9092aac",
   "metadata": {},
   "outputs": [],
   "source": [
    "def get_1d_sincos_pos_embed_from_grid(embed_dim, pos):\n",
    "    \"\"\"\n",
    "    embed_dim: output dimension for each position\n",
    "    pos: a list of positions to be encoded: size (M, )\n",
    "    out: (M, D)\n",
    "    \"\"\"\n",
    "    assert embed_dim % 2 == 0\n",
    "    omega = np.arange(embed_dim // 2, dtype=np.float32)\n",
    "    omega /= embed_dim / 2.\n",
    "    omega = 1. / 10000**omega  # (D/2, )  32\n",
    "\n",
    "    pos = pos.reshape(-1)  # (M, )  169\n",
    "    out = np.einsum('m, d -> md', pos, omega)  # (M, D/2), outer product\n",
    "\n",
    "    emb_sin = np.sin(out)  # (M, D/2)\n",
    "    emb_cos = np.cos(out) # (M, D/2)\n",
    "\n",
    "    emb = np.concatenate([emb_sin, emb_cos], axis=1)  # (M, D)\n",
    "    return emb\n",
    "\n",
    "\n",
    "def get_2d_sincos_pos_embed_from_grid(embed_dim, grid):\n",
    "    assert embed_dim % 2 == 0\n",
    "\n",
    "    # use half of dimensions to encode grid_h\n",
    "    emb_h = get_1d_sincos_pos_embed_from_grid(embed_dim // 2, grid[0])  # (H*W, D/2)\n",
    "    emb_w = get_1d_sincos_pos_embed_from_grid(embed_dim // 2, grid[1])  # (H*W, D/2)\n",
    "\n",
    "    emb = np.concatenate([emb_h, emb_w], axis=1)  # (H*W, D)\n",
    "    return emb\n",
    "\n",
    "\n",
    "def get_2d_sincos_pos_embed(embed_dim, grid_size, cls_token=True):\n",
    "    \"\"\"\n",
    "    grid_size: int of the grid height and width\n",
    "    return:\n",
    "    pos_embed: [grid_size*grid_size, embed_dim] or [1+grid_size*grid_size, embed_dim] (w/ or w/o cls_token)\n",
    "    \"\"\"\n",
    "    grid_h = np.arange(grid_size, dtype=np.float32)\n",
    "    grid_w = np.arange(grid_size, dtype=np.float32)\n",
    "    grid = np.meshgrid(grid_w, grid_h)  # here w goes first\n",
    "    grid = np.stack(grid, axis=0)\n",
    "\n",
    "    grid = grid.reshape([2, 1, grid_size, grid_size])\n",
    "    pos_embed = get_2d_sincos_pos_embed_from_grid(embed_dim, grid)  # (H*W, D)\n",
    "    if cls_token:\n",
    "        pos_embed = np.concatenate([np.zeros([1, embed_dim]), pos_embed], axis=0)  # (1+H*W, D)\n",
    "    return pos_embed"
   ]
  },
  {
   "cell_type": "code",
   "execution_count": 18,
   "id": "8adb8343-a236-4454-995c-f8bc80241638",
   "metadata": {},
   "outputs": [],
   "source": [
    "class IMAB(nn.Module):\n",
    "    \"Multihead Attention Block\"\n",
    "    def __init__(self, dim_Q, dim_K, dim_hidden, num_heads):\n",
    "        super(IMAB, self).__init__()\n",
    "        self.dim_hidden = dim_hidden\n",
    "        self.num_heads = num_heads\n",
    "        self.fc_q = nn.Linear(dim_Q, dim_hidden)\n",
    "        self.fc_k = nn.Linear(dim_K, dim_hidden)\n",
    "        self.fc_v = nn.Linear(dim_K, dim_hidden)\n",
    "        self.fc_o = nn.Sequential(nn.Linear(dim_hidden, dim_Q), nn.Dropout(0.1))\n",
    "        self.ln0 = nn.LayerNorm(dim_Q)\n",
    "        self.ln1 = nn.LayerNorm(dim_K)\n",
    "        self.ln2 = nn.LayerNorm(dim_Q)\n",
    "        self.mlp = nn.Sequential(nn.Linear(dim_Q, 4*dim_Q), nn.GELU(), nn.Dropout(0.1), nn.Linear(4*dim_Q, dim_Q), nn.Dropout(0.1))\n",
    "\n",
    "    def forward(self, Q, K):\n",
    "        # LayerNorm\n",
    "        Q_, K_ = self.ln0(Q), self.ln1(K)\n",
    "        # Attention\n",
    "        Q_, K_, V_ = self.fc_q(Q_), self.fc_k(K_), self.fc_v(K_)\n",
    "        dim_head = self.dim_hidden // self.num_heads  # 64 // 4 = 16\n",
    "        Q_ = torch.cat(Q_.split(dim_head, 2), 0)  # (4*B, K, 16) \n",
    "        K_ = torch.cat(K_.split(dim_head, 2), 0)  # (4*B, M, 16) \n",
    "        V_ = torch.cat(V_.split(dim_head, 2), 0)  # (4*B, M, 16) \n",
    "        A = torch.softmax(Q_.bmm(K_.transpose(1, 2)) / dim_head ** 0.5, 2)  # (4*B, K, M) \n",
    "        O = torch.cat(A.bmm(V_).split(Q.size(0), 0), 2)  # (B, K, 64)\n",
    "        O = self.fc_o(O)\n",
    "        # Residual\n",
    "        O = Q + O\n",
    "        # LayerNorm\n",
    "        O_ = self.ln2(O)\n",
    "        # Residual\n",
    "        O = O + self.mlp(O_)\n",
    "        return O  # (B, K, 128)\n",
    "\n",
    "\n",
    "def random_masking(x, mask_ratio):\n",
    "    N, L, D = x.shape  # batch, length, dim\n",
    "    len_keep = int(L * (1 - mask_ratio))  \n",
    "    noise = torch.rand(N, L, device=x.device)  # noise in [0, 1]  (N, L)\n",
    "    # sort noise for each sample\n",
    "    ids_shuffle = torch.argsort(noise, dim=1)  # 从小到大排序，返回索引 (N, L)\n",
    "    # keep the first subset\n",
    "    ids_keep = ids_shuffle[:, :len_keep]\n",
    "    x_masked = torch.gather(x, dim=1, index=ids_keep.unsqueeze(-1).repeat(1, 1, D))\n",
    "    return x_masked"
   ]
  },
  {
   "cell_type": "code",
   "execution_count": 19,
   "id": "0fd7f26a-529b-4bb1-9c7d-e3ffce0df7c2",
   "metadata": {},
   "outputs": [],
   "source": [
    "class LeavesEncoder(nn.Module):\n",
    "    def __init__(self, img_size=15, in_chans=15, embed_dim=128):\n",
    "        super(LeavesEncoder, self).__init__()\n",
    "        self.patch_embed = nn.Conv2d(in_chans, embed_dim, 3, 1)  # (B, 128, 13, 13)\n",
    "        self.num_patches = int((img_size - 3) / 1 + 1) ** 2  # 169\n",
    "        self.pos_embed = nn.Parameter(torch.zeros(1, self.num_patches, embed_dim), requires_grad=False)  # (B, 169, 128)\n",
    "        self.initialize_weights()\n",
    "\n",
    "    def initialize_weights(self):\n",
    "        # initialize (and freeze) pos_embed by sin-cos embedding\n",
    "        pos_embed = get_2d_sincos_pos_embed(self.pos_embed.shape[-1], int(self.num_patches**.5), cls_token=False)  # (169, 128)\n",
    "        self.pos_embed.data.copy_(torch.from_numpy(pos_embed).float().unsqueeze(0))  # (1, 170, 128)\n",
    "        # initialize patch_embed like nn.Linear (instead of nn.Conv2d)\n",
    "        w = self.patch_embed.weight.data\n",
    "        nn.init.xavier_uniform_(w.view([w.shape[0], -1]))  # (embed_dim, in_chans, patch_size, patch_size)  (128, 1, 3, 3)\n",
    "\n",
    "    def forward(self, imgs, mask_ratio=0.75):\n",
    "        x = self.patch_embed(imgs)  # (B, 128, 13, 13)\n",
    "        x = rearrange(x, 'b c h w -> b (h w) c')  # (B, 169, 128)\n",
    "        # add pos embed w/o cls token\n",
    "        x = x + self.pos_embed  # (B, 169, 128)\n",
    "        if self.training:\n",
    "            x = random_masking(x, mask_ratio)  # (B, 84, 128)\n",
    "        return x\n",
    "\n",
    "\n",
    "class InternalsEncoder(nn.Module):\n",
    "    def __init__(self, dim_input=128, embed_dim=128):\n",
    "        super(InternalsEncoder, self).__init__()\n",
    "        self.n_internals = int((13 - 3) / 2 + 1) ** 2  # 36\n",
    "        self.I = nn.Parameter(torch.zeros(1, 1, embed_dim))  # (1, 1, 128)\n",
    "        self.internals_embed = IMAB(embed_dim, dim_input, dim_hidden=64, num_heads=4)\n",
    "        self.pos_embed = nn.Parameter(torch.zeros(1, self.n_internals, embed_dim), requires_grad=False)  # (B, 36, 128)\n",
    "        self.initialize_weights()\n",
    "\n",
    "    def initialize_weights(self):\n",
    "        # initialize (and freeze) pos_embed by sin-cos embedding\n",
    "        pos_embed = get_2d_sincos_pos_embed(self.pos_embed.shape[-1], int(self.n_internals**.5), cls_token=False)  # (36, 128)\n",
    "        self.pos_embed.data.copy_(torch.from_numpy(pos_embed).float().unsqueeze(0))  # (1, 36, 128)\n",
    "        nn.init.xavier_uniform_(self.I)\n",
    "        self.apply(self._init_weights)\n",
    "\n",
    "    def _init_weights(self, m):\n",
    "        if isinstance(m, nn.Linear):\n",
    "            nn.init.xavier_uniform_(m.weight)\n",
    "            if m.bias is not None:\n",
    "                nn.init.constant_(m.bias, 0)\n",
    "\n",
    "    def forward(self, x, mask_ratio=0.75):\n",
    "        internals_tokens = self.I.repeat(x.shape[0], self.n_internals, 1)  # (B, 36, 128)\n",
    "        internals_tokens = internals_tokens + self.pos_embed\n",
    "        # Inducing Internals\n",
    "        x = self.internals_embed(internals_tokens, x)  # (B, 36, 128)\n",
    "        if self.training:\n",
    "            x = random_masking(x, mask_ratio)  # (B, 9, 128)\n",
    "        return x\n",
    "\n",
    "\n",
    "class TopsEncoder(nn.Module):\n",
    "    def __init__(self, dim_input=128, embed_dim=128):\n",
    "        super(TopsEncoder, self).__init__()\n",
    "        self.n_tops = int((6 - 3) / 1 + 1) ** 2  # 16\n",
    "        self.I = nn.Parameter(torch.zeros(1, 1, embed_dim))  # (1, 1, 128)\n",
    "        self.tops_embed = IMAB(embed_dim, dim_input, dim_hidden=64, num_heads=4)\n",
    "        self.pos_embed = nn.Parameter(torch.zeros(1, self.n_tops, embed_dim), requires_grad=False)  # (B, 16, 128)\n",
    "        self.initialize_weights()\n",
    "\n",
    "    def initialize_weights(self):\n",
    "        pos_embed = get_2d_sincos_pos_embed(self.pos_embed.shape[-1], int(self.n_tops**.5), cls_token=False)  # (16, 128)\n",
    "        self.pos_embed.data.copy_(torch.from_numpy(pos_embed).float().unsqueeze(0))  # (1, 16, 128)\n",
    "        nn.init.xavier_uniform_(self.I)\n",
    "        self.apply(self._init_weights)\n",
    "\n",
    "    def _init_weights(self, m):\n",
    "        if isinstance(m, nn.Linear):\n",
    "            nn.init.xavier_uniform_(m.weight)\n",
    "            if m.bias is not None:\n",
    "                nn.init.constant_(m.bias, 0)\n",
    "\n",
    "    def forward(self, x, mask_ratio=0.75):\n",
    "        tops_tokens = self.I.repeat(x.shape[0], self.n_tops, 1)  # (B, 16, 128)\n",
    "        tops_tokens = tops_tokens + self.pos_embed\n",
    "        # Inducing Tops\n",
    "        x = self.tops_embed(tops_tokens, x)  # (B, 16, 128)\n",
    "        if self.training:\n",
    "            x = random_masking(x, mask_ratio)  # (B, 4, 128)\n",
    "        return x\n",
    "\n",
    "\n",
    "class RootEncoder(nn.Module):\n",
    "    def __init__(self, dim_input=128, depth=4, num_heads=8):\n",
    "        super(RootEncoder, self).__init__()\n",
    "        self.norm = nn.LayerNorm(dim_input)\n",
    "        self.cls_token = nn.Parameter(torch.zeros(1, 1, dim_input))\n",
    "        self.cls_tokens_pos_embed = nn.Parameter(torch.zeros(1, 1, dim_input), requires_grad=False)\n",
    "        nn.init.normal_(self.cls_token, std=.02)\n",
    "        self.blocks = nn.ModuleList([Block(dim_input, num_heads, qkv_bias=True) for _ in range(depth)])\n",
    "        \n",
    "    def forward(self, x):\n",
    "        cls_tokens = self.cls_token.expand(x.shape[0], -1, -1) + self.cls_tokens_pos_embed  # (B, 1, 128)\n",
    "        x = torch.cat([cls_tokens, x], dim=1)  # (B, 1+4, 128)\n",
    "        # apply Transformer blocks\n",
    "        for blk in self.blocks:\n",
    "            x = blk(x)\n",
    "        x = self.norm(x)\n",
    "        x = x[:, 0, :]\n",
    "        return x"
   ]
  },
  {
   "cell_type": "code",
   "execution_count": 20,
   "id": "fc3ce866-32ed-4b84-bd96-3ad17578a7c4",
   "metadata": {},
   "outputs": [],
   "source": [
    "class Decoder(nn.Module):\n",
    "    def __init__(self, output_shape=[15, 15, 15], root_dim=128):\n",
    "        super(Decoder, self).__init__()\n",
    "        self.output_shape = output_shape\n",
    "        self.root_dim = root_dim\n",
    "        self.fc = nn.Sequential(nn.Linear(self.root_dim, 32*3*3), nn.BatchNorm1d(32*3*3), nn.ReLU())\n",
    "        self.trans_conv = nn.Sequential(nn.ConvTranspose2d(32, 128, 3, stride=1), nn.BatchNorm2d(128), nn.ReLU(), # (..., 5, 5)\n",
    "                                        nn.ConvTranspose2d(128, 64, 3, stride=1), nn.BatchNorm2d(64), nn.ReLU(), # (..., 7, 7)\n",
    "                                        nn.ConvTranspose2d(64, self.output_shape[0], 3, stride=2))  # (batch_size, 15, 15, 15)\n",
    "        \n",
    "    def forward(self, codings_in_batch_order):  # x: (batch, 38)\n",
    "        h = self.fc(codings_in_batch_order)\n",
    "        h = h.view(-1, 32, 3, 3)\n",
    "        return self.trans_conv(h)\n",
    "\n",
    "\n",
    "class MaskedTree(nn.Module):\n",
    "    def __init__(self, input_shape=[15, 15, 15], root_dim=128):\n",
    "        super(MaskedTree, self).__init__()\n",
    "        self.leaves_encoder = LeavesEncoder()\n",
    "        self.internals_encoder = InternalsEncoder()\n",
    "        self.tops_encoder = TopsEncoder()\n",
    "        self.roots_encoder = RootEncoder()\n",
    "        self.decoder = Decoder(input_shape, root_dim)\n",
    "\n",
    "    def forward(self, imgs):\n",
    "        leaves = self.leaves_encoder(imgs)\n",
    "        internals = self.internals_encoder(leaves)\n",
    "        tops = self.tops_encoder(internals)\n",
    "        codings = self.roots_encoder(tops)\n",
    "        recons = self.decoder(codings)\n",
    "        return recons, codings"
   ]
  },
  {
   "cell_type": "code",
   "execution_count": 21,
   "id": "7b80c4b6-0b2a-464c-8be3-27450dc8ee99",
   "metadata": {},
   "outputs": [],
   "source": [
    "def model_summary(model):\n",
    "    total_param = 0\n",
    "    for name, param in model.named_parameters():\n",
    "        if param.requires_grad:\n",
    "            num_param = np.prod(param.size())\n",
    "            if param.dim() > 1:\n",
    "                print(name+':', 'x'.join(str(x) for x in list(param.size())), '=', num_param)\n",
    "            else:\n",
    "                print(name+':', num_param)\n",
    "            total_param += num_param\n",
    "    print(\"\\nTotal Trainable Parameters:\", total_param)\n",
    "\n",
    "\n",
    "class AverageMeter(object):\n",
    "    def __init__(self):\n",
    "        self.reset()\n",
    "    def reset(self):\n",
    "        self.avg = 0\n",
    "        self.sum = 0\n",
    "        self.cnt = 0\n",
    "    def update(self, val, n=1):\n",
    "        self.sum += val * n\n",
    "        self.cnt += n\n",
    "        self.avg = self.sum / self.cnt\n",
    "\n",
    "\n",
    "def pretrain(model, criterion, train_loader, device):\n",
    "    model.train()\n",
    "    optimizer = Adam(model.parameters(), lr=1e-3)\n",
    "    scheduler = optim.lr_scheduler.ExponentialLR(optimizer, gamma=0.99)\n",
    "    train_len = len(train_loader)\n",
    "    path = './model/mcnn.pt'\n",
    "    tic = time.time()\n",
    "    for epoch in range(400):\n",
    "        objs = AverageMeter()\n",
    "        for batch_idx, (image, label) in tqdm(enumerate(train_loader)):\n",
    "            image = image.to(device)\n",
    "            optimizer.zero_grad()\n",
    "            recons, _ = model(image)\n",
    "            loss = criterion(recons, image)\n",
    "            loss.backward()\n",
    "            optimizer.step()\n",
    "            n = image.shape[0]\n",
    "            objs.update(loss.data, n)  \n",
    "            if (batch_idx + 1) == len(train_loader):\n",
    "                print('epoch: {}, loss: {:.4f}'.format(epoch+1, objs.avg))  \n",
    "        scheduler.step()\n",
    "    toc = time.time()\n",
    "    print(\"Running Time: {:.2f}\".format(toc-tic))\n",
    "    torch.save(model.state_dict(), path)"
   ]
  },
  {
   "cell_type": "code",
   "execution_count": 22,
   "id": "045715b3-5b30-4a3c-9971-f8a0d0d1d2ed",
   "metadata": {},
   "outputs": [],
   "source": [
    "device = torch.device(\"cuda\" if torch.cuda.is_available() else \"cpu\")\n",
    "\n",
    "maskedtree = MaskedTree()\n",
    "maskedtree = maskedtree.to(device)\n",
    "criterion = nn.MSELoss()"
   ]
  },
  {
   "cell_type": "code",
   "execution_count": 23,
   "id": "2d8f1f50-0181-4585-ba30-cce951317af0",
   "metadata": {
    "scrolled": true
   },
   "outputs": [
    {
     "name": "stdout",
     "output_type": "stream",
     "text": [
      "leaves_encoder.patch_embed.weight: 128x15x3x3 = 17280\n",
      "leaves_encoder.patch_embed.bias: 128\n",
      "internals_encoder.I: 1x1x128 = 128\n",
      "internals_encoder.internals_embed.fc_q.weight: 64x128 = 8192\n",
      "internals_encoder.internals_embed.fc_q.bias: 64\n",
      "internals_encoder.internals_embed.fc_k.weight: 64x128 = 8192\n",
      "internals_encoder.internals_embed.fc_k.bias: 64\n",
      "internals_encoder.internals_embed.fc_v.weight: 64x128 = 8192\n",
      "internals_encoder.internals_embed.fc_v.bias: 64\n",
      "internals_encoder.internals_embed.fc_o.0.weight: 128x64 = 8192\n",
      "internals_encoder.internals_embed.fc_o.0.bias: 128\n",
      "internals_encoder.internals_embed.ln0.weight: 128\n",
      "internals_encoder.internals_embed.ln0.bias: 128\n",
      "internals_encoder.internals_embed.ln1.weight: 128\n",
      "internals_encoder.internals_embed.ln1.bias: 128\n",
      "internals_encoder.internals_embed.ln2.weight: 128\n",
      "internals_encoder.internals_embed.ln2.bias: 128\n",
      "internals_encoder.internals_embed.mlp.0.weight: 512x128 = 65536\n",
      "internals_encoder.internals_embed.mlp.0.bias: 512\n",
      "internals_encoder.internals_embed.mlp.3.weight: 128x512 = 65536\n",
      "internals_encoder.internals_embed.mlp.3.bias: 128\n",
      "tops_encoder.I: 1x1x128 = 128\n",
      "tops_encoder.tops_embed.fc_q.weight: 64x128 = 8192\n",
      "tops_encoder.tops_embed.fc_q.bias: 64\n",
      "tops_encoder.tops_embed.fc_k.weight: 64x128 = 8192\n",
      "tops_encoder.tops_embed.fc_k.bias: 64\n",
      "tops_encoder.tops_embed.fc_v.weight: 64x128 = 8192\n",
      "tops_encoder.tops_embed.fc_v.bias: 64\n",
      "tops_encoder.tops_embed.fc_o.0.weight: 128x64 = 8192\n",
      "tops_encoder.tops_embed.fc_o.0.bias: 128\n",
      "tops_encoder.tops_embed.ln0.weight: 128\n",
      "tops_encoder.tops_embed.ln0.bias: 128\n",
      "tops_encoder.tops_embed.ln1.weight: 128\n",
      "tops_encoder.tops_embed.ln1.bias: 128\n",
      "tops_encoder.tops_embed.ln2.weight: 128\n",
      "tops_encoder.tops_embed.ln2.bias: 128\n",
      "tops_encoder.tops_embed.mlp.0.weight: 512x128 = 65536\n",
      "tops_encoder.tops_embed.mlp.0.bias: 512\n",
      "tops_encoder.tops_embed.mlp.3.weight: 128x512 = 65536\n",
      "tops_encoder.tops_embed.mlp.3.bias: 128\n",
      "roots_encoder.cls_token: 1x1x128 = 128\n",
      "roots_encoder.norm.weight: 128\n",
      "roots_encoder.norm.bias: 128\n",
      "roots_encoder.blocks.0.norm1.weight: 128\n",
      "roots_encoder.blocks.0.norm1.bias: 128\n",
      "roots_encoder.blocks.0.attn.qkv.weight: 384x128 = 49152\n",
      "roots_encoder.blocks.0.attn.qkv.bias: 384\n",
      "roots_encoder.blocks.0.attn.proj.weight: 128x128 = 16384\n",
      "roots_encoder.blocks.0.attn.proj.bias: 128\n",
      "roots_encoder.blocks.0.norm2.weight: 128\n",
      "roots_encoder.blocks.0.norm2.bias: 128\n",
      "roots_encoder.blocks.0.mlp.fc1.weight: 512x128 = 65536\n",
      "roots_encoder.blocks.0.mlp.fc1.bias: 512\n",
      "roots_encoder.blocks.0.mlp.fc2.weight: 128x512 = 65536\n",
      "roots_encoder.blocks.0.mlp.fc2.bias: 128\n",
      "roots_encoder.blocks.1.norm1.weight: 128\n",
      "roots_encoder.blocks.1.norm1.bias: 128\n",
      "roots_encoder.blocks.1.attn.qkv.weight: 384x128 = 49152\n",
      "roots_encoder.blocks.1.attn.qkv.bias: 384\n",
      "roots_encoder.blocks.1.attn.proj.weight: 128x128 = 16384\n",
      "roots_encoder.blocks.1.attn.proj.bias: 128\n",
      "roots_encoder.blocks.1.norm2.weight: 128\n",
      "roots_encoder.blocks.1.norm2.bias: 128\n",
      "roots_encoder.blocks.1.mlp.fc1.weight: 512x128 = 65536\n",
      "roots_encoder.blocks.1.mlp.fc1.bias: 512\n",
      "roots_encoder.blocks.1.mlp.fc2.weight: 128x512 = 65536\n",
      "roots_encoder.blocks.1.mlp.fc2.bias: 128\n",
      "roots_encoder.blocks.2.norm1.weight: 128\n",
      "roots_encoder.blocks.2.norm1.bias: 128\n",
      "roots_encoder.blocks.2.attn.qkv.weight: 384x128 = 49152\n",
      "roots_encoder.blocks.2.attn.qkv.bias: 384\n",
      "roots_encoder.blocks.2.attn.proj.weight: 128x128 = 16384\n",
      "roots_encoder.blocks.2.attn.proj.bias: 128\n",
      "roots_encoder.blocks.2.norm2.weight: 128\n",
      "roots_encoder.blocks.2.norm2.bias: 128\n",
      "roots_encoder.blocks.2.mlp.fc1.weight: 512x128 = 65536\n",
      "roots_encoder.blocks.2.mlp.fc1.bias: 512\n",
      "roots_encoder.blocks.2.mlp.fc2.weight: 128x512 = 65536\n",
      "roots_encoder.blocks.2.mlp.fc2.bias: 128\n",
      "roots_encoder.blocks.3.norm1.weight: 128\n",
      "roots_encoder.blocks.3.norm1.bias: 128\n",
      "roots_encoder.blocks.3.attn.qkv.weight: 384x128 = 49152\n",
      "roots_encoder.blocks.3.attn.qkv.bias: 384\n",
      "roots_encoder.blocks.3.attn.proj.weight: 128x128 = 16384\n",
      "roots_encoder.blocks.3.attn.proj.bias: 128\n",
      "roots_encoder.blocks.3.norm2.weight: 128\n",
      "roots_encoder.blocks.3.norm2.bias: 128\n",
      "roots_encoder.blocks.3.mlp.fc1.weight: 512x128 = 65536\n",
      "roots_encoder.blocks.3.mlp.fc1.bias: 512\n",
      "roots_encoder.blocks.3.mlp.fc2.weight: 128x512 = 65536\n",
      "roots_encoder.blocks.3.mlp.fc2.bias: 128\n",
      "decoder.fc.0.weight: 288x128 = 36864\n",
      "decoder.fc.0.bias: 288\n",
      "decoder.fc.1.weight: 288\n",
      "decoder.fc.1.bias: 288\n",
      "decoder.trans_conv.0.weight: 32x128x3x3 = 36864\n",
      "decoder.trans_conv.0.bias: 128\n",
      "decoder.trans_conv.1.weight: 128\n",
      "decoder.trans_conv.1.bias: 128\n",
      "decoder.trans_conv.3.weight: 128x64x3x3 = 73728\n",
      "decoder.trans_conv.3.bias: 64\n",
      "decoder.trans_conv.4.weight: 64\n",
      "decoder.trans_conv.4.bias: 64\n",
      "decoder.trans_conv.6.weight: 64x15x3x3 = 8640\n",
      "decoder.trans_conv.6.bias: 15\n",
      "\n",
      "Total Trainable Parameters: 1299823\n"
     ]
    }
   ],
   "source": [
    "model_summary(maskedtree)"
   ]
  },
  {
   "cell_type": "code",
   "execution_count": null,
   "id": "eea3be05-1474-4203-a6bd-bb8420ae2ce3",
   "metadata": {
    "scrolled": true
   },
   "outputs": [],
   "source": [
    "pretrain(maskedtree, criterion, pretrain_loader, device)"
   ]
  },
  {
   "cell_type": "code",
   "execution_count": 24,
   "id": "a1d414be-bf8d-48d3-89ed-ab9f44970646",
   "metadata": {},
   "outputs": [
    {
     "name": "stdout",
     "output_type": "stream",
     "text": [
      "done\n"
     ]
    }
   ],
   "source": [
    "path = './model/mcnn.pt'\n",
    "\n",
    "maskedtree.load_state_dict(torch.load(path))\n",
    "maskedtree.eval()\n",
    "print('done')"
   ]
  },
  {
   "cell_type": "code",
   "execution_count": 25,
   "id": "c3cf626b-9146-48a6-8f34-24440349c249",
   "metadata": {},
   "outputs": [],
   "source": [
    "def scatter(x, colors, num_classes=15):\n",
    "    palette = np.array([[255, 0, 0], [0, 255, 0], [0, 0, 255], [255, 255, 0], [0, 255, 255], [255, 0, 255], [192, 192, 192], [128, 128, 128], \n",
    "                        [128, 0, 0], [128, 128, 0], [0, 128, 0], [128, 0, 128], [0, 128, 128], [0, 0, 128], [255, 165, 0], [255, 215, 0]])/255.\n",
    "    \n",
    "    # We create a scatter plot.\n",
    "    fig = plt.figure(figsize=(8, 8))\n",
    "    ax = plt.subplot(aspect='equal')\n",
    "    sc = ax.scatter(x[:,0], x[:,1], lw=0, s=40, c=palette[colors.astype(np.int_)])\n",
    "    plt.xlim(-25, 25)\n",
    "    plt.ylim(-25, 25)\n",
    "    ax.axis('off')\n",
    "    ax.axis('tight')\n",
    "    # We add the labels for each digit.\n",
    "    txts = []\n",
    "    for i in range(num_classes):\n",
    "        # Position of each label.\n",
    "        xtext, ytext = np.median(x[colors == i, :], axis=0)\n",
    "        txt = ax.text(xtext, ytext, str(i+1), fontsize=24)\n",
    "        txt.set_path_effects([PathEffects.Stroke(linewidth=5, foreground=\"w\"), PathEffects.Normal()])\n",
    "        txts.append(txt)\n",
    "    fig.savefig('./tsne_mcnn.pdf', bbox_inches='tight')"
   ]
  },
  {
   "cell_type": "code",
   "execution_count": 26,
   "id": "dfb87b71-8d7d-4a64-b8a7-64280fa7c98a",
   "metadata": {},
   "outputs": [],
   "source": [
    "train_codings = []\n",
    "train_tar = []\n",
    "for batch_idx, (image, label) in enumerate(pretrain_loader):\n",
    "    with torch.no_grad():\n",
    "        image = image.to(device)\n",
    "        label = label.to(device)\n",
    "        return_tuple = maskedtree(image)\n",
    "        codings = return_tuple[1]\n",
    "    train_codings.append(codings.cpu().data)\n",
    "    train_tar.append(label.cpu().data)\n",
    "\n",
    "x_train = torch.concat(train_codings)\n",
    "y_train = torch.concat(train_tar)\n",
    "\n",
    "x_train_numpy = x_train.numpy()\n",
    "y_train_numpy = y_train.numpy()"
   ]
  },
  {
   "cell_type": "code",
   "execution_count": 27,
   "id": "a4175705-73b7-4ab1-9dbc-c5ca8e3e67e9",
   "metadata": {},
   "outputs": [
    {
     "data": {
      "image/png": "[encoded data removed]",
      "text/plain": [
       "<Figure size 800x800 with 1 Axes>"
      ]
     },
     "metadata": {},
     "output_type": "display_data"
    }
   ],
   "source": [
    "tsne_proj = TSNE(random_state=42).fit_transform(x_train_numpy)\n",
    "\n",
    "scatter(tsne_proj, y_train_numpy, num_classes)"
   ]
  },
  {
   "cell_type": "markdown",
   "id": "3eab4428-2969-476b-abec-cea047e3a9a0",
   "metadata": {},
   "source": [
    "## Metrics"
   ]
  },
  {
   "cell_type": "code",
   "execution_count": 28,
   "id": "34e346bf-6bfb-4f2a-98f5-e5b88c6c15e1",
   "metadata": {},
   "outputs": [],
   "source": [
    "def mean_distance(codings, label, c=16):\n",
    "    codings_per_class = []  # [(16, ) * 10]\n",
    "    for i in range(c):\n",
    "        codings_per_class.append(codings[label == i, :])\n",
    "    centers = [torch.mean(codings_per_class[i], 0) for i in range(c)]\n",
    "    \n",
    "    inter_class_distance = torch.tensor(0.)\n",
    "    for k in range(c - 1):\n",
    "        for t in range(k + 1, c):\n",
    "            inter_class_distance += torch.dist(centers[k], centers[t], p=2)\n",
    "    mean_inter_class_distance = inter_class_distance / (c * (c - 1) / 2)\n",
    "    \n",
    "    intra_class_distance = torch.tensor(0.)\n",
    "    for i in range(c):\n",
    "        per_intra_class_distance = torch.tensor(0.)\n",
    "        per_class_features = codings_per_class[i]\n",
    "        center_feature = centers[i]\n",
    "        num = per_class_features.size(0)\n",
    "        for j in range(num):\n",
    "            per_intra_class_distance += torch.dist(per_class_features[j], center_feature, p=2)\n",
    "        per_intra_class_distance = per_intra_class_distance / num\n",
    "        \n",
    "        intra_class_distance += per_intra_class_distance\n",
    "    mean_intra_class_distance = intra_class_distance / c\n",
    "    return mean_intra_class_distance, mean_inter_class_distance"
   ]
  },
  {
   "cell_type": "code",
   "execution_count": 30,
   "id": "31ac3186-fb2e-4fb9-82dc-739e6cf61def",
   "metadata": {},
   "outputs": [
    {
     "data": {
      "text/plain": [
       "(tensor(1.1332), tensor(2.4413))"
      ]
     },
     "execution_count": 30,
     "metadata": {},
     "output_type": "execute_result"
    }
   ],
   "source": [
    "mean_intra_class_distance, mean_inter_class_distance = mean_distance(x_train, y_train, num_classes)\n",
    "\n",
    "mean_intra_class_distance, mean_inter_class_distance"
   ]
  },
  {
   "cell_type": "markdown",
   "id": "4156f1c3-d314-4254-ad2d-5dee6618f8ce",
   "metadata": {},
   "source": [
    "## Fine-tuning"
   ]
  },
  {
   "cell_type": "code",
   "execution_count": 31,
   "id": "b1788d10-102c-4f11-bdd6-1884e9765213",
   "metadata": {},
   "outputs": [],
   "source": [
    "class NewLeavesEncoder(LeavesEncoder):\n",
    "    def forward(self, imgs):\n",
    "        x = self.patch_embed(imgs)  # (B, 128, 13, 13)\n",
    "        x = rearrange(x, 'b c h w -> b (h w) c')  # (B, 169, 128)\n",
    "        # add pos embed w/o cls token\n",
    "        x = x + self.pos_embed  # (B, 169, 128)\n",
    "        return x\n",
    "\n",
    "\n",
    "class NewInternalsEncoder(InternalsEncoder):\n",
    "    def forward(self, x):\n",
    "        internals_tokens = self.I.repeat(x.shape[0], self.n_internals, 1)  # (B, 36, 128)\n",
    "        internals_tokens = internals_tokens + self.pos_embed\n",
    "        # Inducing Internals\n",
    "        x = self.internals_embed(internals_tokens, x)  # (B, 36, 128)\n",
    "        return x\n",
    "\n",
    "\n",
    "class NewTopsEncoder(TopsEncoder):\n",
    "    def forward(self, x):\n",
    "        tops_tokens = self.I.repeat(x.shape[0], self.n_tops, 1)  # (B, 16, 128)\n",
    "        tops_tokens = tops_tokens + self.pos_embed\n",
    "        # Inducing Tops\n",
    "        x = self.tops_embed(tops_tokens, x)  # (B, 16, 128)\n",
    "        return x\n",
    "\n",
    "\n",
    "class NewMaskedTree(nn.Module):\n",
    "    def __init__(self, input_shape=[15, 15, 15], root_dim=128, n_classes=13):\n",
    "        super(NewMaskedTree, self).__init__()\n",
    "        self.leaves_encoder = NewLeavesEncoder()\n",
    "        self.internals_encoder = NewInternalsEncoder()\n",
    "        self.tops_encoder = NewTopsEncoder()\n",
    "        self.roots_encoder = RootEncoder()\n",
    "        self.cls_head = nn.Sequential(nn.Linear(root_dim, 64), nn.ReLU(), nn.Dropout(0.2), nn.Linear(64, n_classes))\n",
    "\n",
    "    def forward(self, x):\n",
    "        leaves = self.leaves_encoder(x)\n",
    "        internals = self.internals_encoder(leaves)\n",
    "        tops = self.tops_encoder(internals)\n",
    "        codings = self.roots_encoder(tops)\n",
    "        preds = self.cls_head(codings)\n",
    "        return preds"
   ]
  },
  {
   "cell_type": "code",
   "execution_count": 32,
   "id": "306e9603-75c2-4552-84b1-2b6945642691",
   "metadata": {},
   "outputs": [],
   "source": [
    "maskedtree = NewMaskedTree(n_classes=num_classes)\n",
    "\n",
    "path = './model/mcnn.pt'\n",
    "pre_weights = torch.load(path, map_location='cpu')\n",
    "pre_dict = {k: v for k, v in pre_weights.items() if k in maskedtree.state_dict()}\n",
    "missing_keys, unexpected_keys = maskedtree.load_state_dict(pre_dict, strict=False)"
   ]
  },
  {
   "cell_type": "code",
   "execution_count": 33,
   "id": "0c7ae155-1652-4393-a3f2-04c38bf00f16",
   "metadata": {},
   "outputs": [],
   "source": [
    "for param in maskedtree.parameters():\n",
    "    param.requires_grad = False\n",
    "\n",
    "for param in maskedtree.roots_encoder.blocks[-1].parameters():\n",
    "    param.requires_grad = True\n",
    "\n",
    "for param in maskedtree.cls_head.parameters():\n",
    "    param.requires_grad = True"
   ]
  },
  {
   "cell_type": "code",
   "execution_count": 34,
   "id": "390432f9-c480-4dc4-aeca-86edf9847ed0",
   "metadata": {
    "scrolled": true
   },
   "outputs": [
    {
     "name": "stdout",
     "output_type": "stream",
     "text": [
      "roots_encoder.blocks.3.norm1.weight: 128\n",
      "roots_encoder.blocks.3.norm1.bias: 128\n",
      "roots_encoder.blocks.3.attn.qkv.weight: 384x128 = 49152\n",
      "roots_encoder.blocks.3.attn.qkv.bias: 384\n",
      "roots_encoder.blocks.3.attn.proj.weight: 128x128 = 16384\n",
      "roots_encoder.blocks.3.attn.proj.bias: 128\n",
      "roots_encoder.blocks.3.norm2.weight: 128\n",
      "roots_encoder.blocks.3.norm2.bias: 128\n",
      "roots_encoder.blocks.3.mlp.fc1.weight: 512x128 = 65536\n",
      "roots_encoder.blocks.3.mlp.fc1.bias: 512\n",
      "roots_encoder.blocks.3.mlp.fc2.weight: 128x512 = 65536\n",
      "roots_encoder.blocks.3.mlp.fc2.bias: 128\n",
      "cls_head.0.weight: 64x128 = 8192\n",
      "cls_head.0.bias: 64\n",
      "cls_head.3.weight: 16x64 = 1024\n",
      "cls_head.3.bias: 16\n",
      "\n",
      "Total Trainable Parameters: 207568\n"
     ]
    }
   ],
   "source": [
    "model_summary(maskedtree)"
   ]
  },
  {
   "cell_type": "code",
   "execution_count": 35,
   "id": "00856a96-d99e-471f-af84-5a29521ec093",
   "metadata": {},
   "outputs": [],
   "source": [
    "maskedtree = maskedtree.to(device)\n",
    "criterion = nn.CrossEntropyLoss()\n",
    "optimizer = optim.Adam(maskedtree.parameters(), lr=1e-3)\n",
    "scheduler = optim.lr_scheduler.ExponentialLR(optimizer, gamma=0.99)"
   ]
  },
  {
   "cell_type": "code",
   "execution_count": 36,
   "id": "f3fe85c8-62aa-420b-9358-fbb6fa4583a7",
   "metadata": {},
   "outputs": [],
   "source": [
    "if args.dataset == 'HU2013':\n",
    "    label = sio.loadmat(os.path.join(data_path, 'Houston_gt.mat'))['Houston_gt']\n",
    "elif args.dataset == 'HanChuan':\n",
    "    label = sio.loadmat(os.path.join(data_path, 'WHU_Hi_HanChuan_gt.mat'))['WHU_Hi_HanChuan_gt']\n",
    "elif args.dataset == 'KSC':\n",
    "    label = sio.loadmat(os.path.join(data_path, 'KSC_gt.mat'))['KSC_gt']\n",
    "elif args.dataset == 'Salinas':\n",
    "    label = sio.loadmat(os.path.join(data_path, 'Salinas_gt.mat'))['salinas_gt']"
   ]
  },
  {
   "cell_type": "code",
   "execution_count": 37,
   "id": "35b0d69d-dd4b-4479-b265-8ebb4563855b",
   "metadata": {},
   "outputs": [
    {
     "name": "stdout",
     "output_type": "stream",
     "text": [
      "*******************************************************\n",
      "x_train shape = (160, 15, 15, 15), type = float64\n",
      "x_test  shape = (53969, 15, 15, 15), type = float64\n",
      "x_valid  shape = (1600, 15, 15, 15), type = float64\n",
      "*******************************************************\n",
      "y_train: shape = (160,), type = int64\n",
      "y_test: shape = (53969,), type = int64\n",
      "y_valid: shape = (1600,), type = int64\n",
      "*******************************************************\n"
     ]
    }
   ],
   "source": [
    "total_pos_train, total_pos_test, total_pos_valid, number_train, number_test, number_valid = choose_train_and_test(label, args.train_number, args.seed) \n",
    "\n",
    "x_train, x_test, x_valid = train_and_test_data(mirror_data, band, total_pos_train, total_pos_test, total_pos_valid, args.patch_size)\n",
    "y_train, y_test, y_valid = train_and_test_label(number_train, number_test, number_valid, num_classes)"
   ]
  },
  {
   "cell_type": "code",
   "execution_count": 38,
   "id": "ce08d3e0-7b68-40ed-819e-16d7b888a005",
   "metadata": {},
   "outputs": [
    {
     "data": {
      "text/plain": [
       "array([[268,  24],\n",
       "       [245,  47],\n",
       "       [242,  56],\n",
       "       [263,  38],\n",
       "       [243,  49],\n",
       "       [246,  49],\n",
       "       [257,  21],\n",
       "       [243,  45],\n",
       "       [247,  36],\n",
       "       [245,  51]])"
      ]
     },
     "execution_count": 38,
     "metadata": {},
     "output_type": "execute_result"
    }
   ],
   "source": [
    "total_pos_train[:10]"
   ]
  },
  {
   "cell_type": "code",
   "execution_count": 39,
   "id": "8f3e1927-1509-42fc-8635-f28717139545",
   "metadata": {},
   "outputs": [
    {
     "name": "stdout",
     "output_type": "stream",
     "text": [
      "torch.Size([160, 15, 15, 15])\n",
      "torch.Size([53969, 15, 15, 15])\n",
      "torch.Size([1600, 15, 15, 15])\n"
     ]
    }
   ],
   "source": [
    "# load data\n",
    "x_train = torch.from_numpy(x_train.transpose(0, 3, 1, 2)).type(torch.FloatTensor)  # (90, 1, 7, 7, 176)\n",
    "print(x_train.shape)\n",
    "y_train = torch.from_numpy(y_train).type(torch.LongTensor)  # (13,)\n",
    "train_label = Data.TensorDataset(x_train, y_train)\n",
    "\n",
    "x_test = torch.from_numpy(x_test.transpose(0, 3, 1, 2)).type(torch.FloatTensor)  # (5198, 1, 7, 7, 176)\n",
    "print(x_test.shape)\n",
    "y_test = torch.from_numpy(y_test).type(torch.LongTensor)  # (5198,)\n",
    "test_label = Data.TensorDataset(x_test, y_test)\n",
    "\n",
    "x_valid = torch.from_numpy(x_valid.transpose(0, 3, 1, 2)).type(torch.FloatTensor)  # (5211, 1, 7, 7, 176)\n",
    "print(x_valid.shape)\n",
    "y_valid = torch.from_numpy(y_valid).type(torch.LongTensor)\n",
    "valid_label = Data.TensorDataset(x_valid, y_valid)\n",
    "\n",
    "train_loader = Data.DataLoader(train_label, batch_size=32, shuffle=True)\n",
    "test_loader = Data.DataLoader(test_label, batch_size=128, shuffle=True)\n",
    "valid_loader = Data.DataLoader(valid_label, batch_size=32, shuffle=True)"
   ]
  },
  {
   "cell_type": "code",
   "execution_count": 40,
   "id": "3fcff773-3c05-45dd-b284-fa35fbfe8cd5",
   "metadata": {
    "scrolled": true
   },
   "outputs": [
    {
     "name": "stdout",
     "output_type": "stream",
     "text": [
      "Epoch: 001 - train_loss: 2.8047 - train_acc: 3.1250 - valid_loss: 2.7573 - valid_acc: 8.8125\n",
      "val_acc improved from 0.0000 to 8.8125, saving model to finetune_mcnn.pt\n",
      "Epoch: 002 - train_loss: 2.7499 - train_acc: 8.7500 - valid_loss: 2.7120 - valid_acc: 13.2500\n",
      "val_acc improved from 8.8125 to 13.2500, saving model to finetune_mcnn.pt\n",
      "Epoch: 003 - train_loss: 2.6861 - train_acc: 18.1250 - valid_loss: 2.6548 - valid_acc: 32.4375\n",
      "val_acc improved from 13.2500 to 32.4375, saving model to finetune_mcnn.pt\n",
      "Epoch: 004 - train_loss: 2.6303 - train_acc: 35.6250 - valid_loss: 2.5882 - valid_acc: 52.1250\n",
      "val_acc improved from 32.4375 to 52.1250, saving model to finetune_mcnn.pt\n",
      "Epoch: 005 - train_loss: 2.5414 - train_acc: 51.8750 - valid_loss: 2.4992 - valid_acc: 55.8750\n",
      "val_acc improved from 52.1250 to 55.8750, saving model to finetune_mcnn.pt\n",
      "Epoch: 006 - train_loss: 2.4261 - train_acc: 57.5000 - valid_loss: 2.3740 - valid_acc: 59.8125\n",
      "val_acc improved from 55.8750 to 59.8125, saving model to finetune_mcnn.pt\n",
      "Epoch: 007 - train_loss: 2.2861 - train_acc: 58.7500 - valid_loss: 2.2026 - valid_acc: 61.4375\n",
      "val_acc improved from 59.8125 to 61.4375, saving model to finetune_mcnn.pt\n",
      "Epoch: 008 - train_loss: 2.0823 - train_acc: 65.0000 - valid_loss: 1.9734 - valid_acc: 63.6875\n",
      "val_acc improved from 61.4375 to 63.6875, saving model to finetune_mcnn.pt\n",
      "Epoch: 009 - train_loss: 1.8267 - train_acc: 68.1250 - valid_loss: 1.6831 - valid_acc: 75.9375\n",
      "val_acc improved from 63.6875 to 75.9375, saving model to finetune_mcnn.pt\n",
      "Epoch: 010 - train_loss: 1.5204 - train_acc: 75.6250 - valid_loss: 1.3616 - valid_acc: 85.8125\n",
      "val_acc improved from 75.9375 to 85.8125, saving model to finetune_mcnn.pt\n",
      "Epoch: 011 - train_loss: 1.1759 - train_acc: 85.0000 - valid_loss: 1.0424 - valid_acc: 88.7500\n",
      "val_acc improved from 85.8125 to 88.7500, saving model to finetune_mcnn.pt\n",
      "Epoch: 012 - train_loss: 0.9051 - train_acc: 93.1250 - valid_loss: 0.7700 - valid_acc: 92.0000\n",
      "val_acc improved from 88.7500 to 92.0000, saving model to finetune_mcnn.pt\n",
      "Epoch: 013 - train_loss: 0.6091 - train_acc: 95.6250 - valid_loss: 0.5621 - valid_acc: 95.2500\n",
      "val_acc improved from 92.0000 to 95.2500, saving model to finetune_mcnn.pt\n",
      "Epoch: 014 - train_loss: 0.4549 - train_acc: 96.8750 - valid_loss: 0.4174 - valid_acc: 95.7500\n",
      "val_acc improved from 95.2500 to 95.7500, saving model to finetune_mcnn.pt\n",
      "Epoch: 015 - train_loss: 0.3455 - train_acc: 94.3750 - valid_loss: 0.3234 - valid_acc: 96.3125\n",
      "val_acc improved from 95.7500 to 96.3125, saving model to finetune_mcnn.pt\n",
      "Epoch: 016 - train_loss: 0.2438 - train_acc: 96.8750 - valid_loss: 0.2649 - valid_acc: 96.6250\n",
      "val_acc improved from 96.3125 to 96.6250, saving model to finetune_mcnn.pt\n",
      "Epoch: 017 - train_loss: 0.2181 - train_acc: 95.6250 - valid_loss: 0.2251 - valid_acc: 96.6875\n",
      "val_acc improved from 96.6250 to 96.6875, saving model to finetune_mcnn.pt\n",
      "Epoch: 018 - train_loss: 0.1298 - train_acc: 99.3750 - valid_loss: 0.1987 - valid_acc: 96.5000\n",
      "val_acc did not improve from 96.6875\n",
      "Epoch: 019 - train_loss: 0.1282 - train_acc: 98.1250 - valid_loss: 0.1795 - valid_acc: 96.4375\n",
      "val_acc did not improve from 96.6875\n",
      "Epoch: 020 - train_loss: 0.0964 - train_acc: 99.3750 - valid_loss: 0.1641 - valid_acc: 96.4375\n",
      "val_acc did not improve from 96.6875\n",
      "Epoch: 021 - train_loss: 0.0728 - train_acc: 100.0000 - valid_loss: 0.1508 - valid_acc: 96.7500\n",
      "val_acc improved from 96.6875 to 96.7500, saving model to finetune_mcnn.pt\n",
      "Epoch: 022 - train_loss: 0.0593 - train_acc: 100.0000 - valid_loss: 0.1441 - valid_acc: 96.6250\n",
      "val_acc did not improve from 96.7500\n",
      "Epoch: 023 - train_loss: 0.0654 - train_acc: 100.0000 - valid_loss: 0.1457 - valid_acc: 96.3750\n",
      "val_acc did not improve from 96.7500\n",
      "Epoch: 024 - train_loss: 0.0463 - train_acc: 100.0000 - valid_loss: 0.1429 - valid_acc: 96.3750\n",
      "val_acc did not improve from 96.7500\n",
      "Epoch: 025 - train_loss: 0.0372 - train_acc: 100.0000 - valid_loss: 0.1395 - valid_acc: 96.5625\n",
      "val_acc did not improve from 96.7500\n",
      "Epoch: 026 - train_loss: 0.0318 - train_acc: 100.0000 - valid_loss: 0.1371 - valid_acc: 96.6875\n",
      "val_acc did not improve from 96.7500\n",
      "Epoch: 027 - train_loss: 0.0360 - train_acc: 100.0000 - valid_loss: 0.1369 - valid_acc: 96.6875\n",
      "val_acc did not improve from 96.7500\n",
      "Epoch: 028 - train_loss: 0.0457 - train_acc: 99.3750 - valid_loss: 0.1411 - valid_acc: 96.4375\n",
      "val_acc did not improve from 96.7500\n",
      "Epoch: 029 - train_loss: 0.0289 - train_acc: 100.0000 - valid_loss: 0.1422 - valid_acc: 96.5000\n",
      "val_acc did not improve from 96.7500\n",
      "Epoch: 030 - train_loss: 0.0271 - train_acc: 100.0000 - valid_loss: 0.1409 - valid_acc: 96.5000\n",
      "val_acc did not improve from 96.7500\n",
      "Epoch: 031 - train_loss: 0.0244 - train_acc: 100.0000 - valid_loss: 0.1394 - valid_acc: 96.5000\n",
      "val_acc did not improve from 96.7500\n",
      "Epoch: 032 - train_loss: 0.0255 - train_acc: 100.0000 - valid_loss: 0.1397 - valid_acc: 96.5000\n",
      "val_acc did not improve from 96.7500\n",
      "Epoch: 033 - train_loss: 0.0210 - train_acc: 100.0000 - valid_loss: 0.1420 - valid_acc: 96.4375\n",
      "val_acc did not improve from 96.7500\n",
      "Epoch: 034 - train_loss: 0.0205 - train_acc: 100.0000 - valid_loss: 0.1422 - valid_acc: 96.3125\n",
      "val_acc did not improve from 96.7500\n",
      "Epoch: 035 - train_loss: 0.0183 - train_acc: 100.0000 - valid_loss: 0.1447 - valid_acc: 96.2500\n",
      "val_acc did not improve from 96.7500\n",
      "Epoch: 036 - train_loss: 0.0142 - train_acc: 100.0000 - valid_loss: 0.1429 - valid_acc: 96.3125\n",
      "val_acc did not improve from 96.7500\n",
      "Epoch: 037 - train_loss: 0.0192 - train_acc: 100.0000 - valid_loss: 0.1419 - valid_acc: 96.3125\n",
      "val_acc did not improve from 96.7500\n",
      "Epoch: 038 - train_loss: 0.0132 - train_acc: 100.0000 - valid_loss: 0.1396 - valid_acc: 96.4375\n",
      "val_acc did not improve from 96.7500\n",
      "Epoch: 039 - train_loss: 0.0219 - train_acc: 100.0000 - valid_loss: 0.1374 - valid_acc: 96.4375\n",
      "val_acc did not improve from 96.7500\n",
      "Epoch: 040 - train_loss: 0.0150 - train_acc: 100.0000 - valid_loss: 0.1356 - valid_acc: 96.5625\n",
      "val_acc did not improve from 96.7500\n",
      "Epoch: 041 - train_loss: 0.0144 - train_acc: 100.0000 - valid_loss: 0.1359 - valid_acc: 96.5625\n",
      "val_acc did not improve from 96.7500\n",
      "Epoch: 042 - train_loss: 0.0191 - train_acc: 100.0000 - valid_loss: 0.1366 - valid_acc: 96.5000\n",
      "val_acc did not improve from 96.7500\n",
      "Epoch: 043 - train_loss: 0.0122 - train_acc: 100.0000 - valid_loss: 0.1369 - valid_acc: 96.5000\n",
      "val_acc did not improve from 96.7500\n",
      "Epoch: 044 - train_loss: 0.0135 - train_acc: 100.0000 - valid_loss: 0.1385 - valid_acc: 96.4375\n",
      "val_acc did not improve from 96.7500\n",
      "Epoch: 045 - train_loss: 0.0137 - train_acc: 100.0000 - valid_loss: 0.1396 - valid_acc: 96.4375\n",
      "val_acc did not improve from 96.7500\n",
      "Epoch: 046 - train_loss: 0.0103 - train_acc: 100.0000 - valid_loss: 0.1402 - valid_acc: 96.4375\n",
      "val_acc did not improve from 96.7500\n",
      "Epoch: 047 - train_loss: 0.0100 - train_acc: 100.0000 - valid_loss: 0.1412 - valid_acc: 96.5000\n",
      "val_acc did not improve from 96.7500\n",
      "Epoch: 048 - train_loss: 0.0087 - train_acc: 100.0000 - valid_loss: 0.1423 - valid_acc: 96.5000\n",
      "val_acc did not improve from 96.7500\n",
      "Epoch: 049 - train_loss: 0.0104 - train_acc: 100.0000 - valid_loss: 0.1429 - valid_acc: 96.5000\n",
      "val_acc did not improve from 96.7500\n",
      "Epoch: 050 - train_loss: 0.0106 - train_acc: 100.0000 - valid_loss: 0.1437 - valid_acc: 96.5000\n",
      "val_acc did not improve from 96.7500\n",
      "Epoch: 051 - train_loss: 0.0097 - train_acc: 100.0000 - valid_loss: 0.1444 - valid_acc: 96.4375\n",
      "val_acc did not improve from 96.7500\n",
      "Epoch: 052 - train_loss: 0.0097 - train_acc: 100.0000 - valid_loss: 0.1444 - valid_acc: 96.4375\n",
      "val_acc did not improve from 96.7500\n",
      "Epoch: 053 - train_loss: 0.0091 - train_acc: 100.0000 - valid_loss: 0.1442 - valid_acc: 96.4375\n",
      "val_acc did not improve from 96.7500\n",
      "Epoch: 054 - train_loss: 0.0073 - train_acc: 100.0000 - valid_loss: 0.1448 - valid_acc: 96.4375\n",
      "val_acc did not improve from 96.7500\n",
      "Epoch: 055 - train_loss: 0.0083 - train_acc: 100.0000 - valid_loss: 0.1458 - valid_acc: 96.4375\n",
      "val_acc did not improve from 96.7500\n",
      "Epoch: 056 - train_loss: 0.0077 - train_acc: 100.0000 - valid_loss: 0.1460 - valid_acc: 96.4375\n",
      "val_acc did not improve from 96.7500\n",
      "Epoch: 057 - train_loss: 0.0107 - train_acc: 100.0000 - valid_loss: 0.1462 - valid_acc: 96.4375\n",
      "val_acc did not improve from 96.7500\n",
      "Epoch: 058 - train_loss: 0.0092 - train_acc: 100.0000 - valid_loss: 0.1456 - valid_acc: 96.5000\n",
      "val_acc did not improve from 96.7500\n",
      "Epoch: 059 - train_loss: 0.0096 - train_acc: 100.0000 - valid_loss: 0.1442 - valid_acc: 96.5000\n",
      "val_acc did not improve from 96.7500\n",
      "Epoch: 060 - train_loss: 0.0071 - train_acc: 100.0000 - valid_loss: 0.1436 - valid_acc: 96.4375\n",
      "val_acc did not improve from 96.7500\n",
      "Epoch: 061 - train_loss: 0.0090 - train_acc: 100.0000 - valid_loss: 0.1427 - valid_acc: 96.5000\n",
      "val_acc did not improve from 96.7500\n",
      "Epoch: 062 - train_loss: 0.0095 - train_acc: 100.0000 - valid_loss: 0.1425 - valid_acc: 96.5000\n",
      "val_acc did not improve from 96.7500\n",
      "Epoch: 063 - train_loss: 0.0135 - train_acc: 100.0000 - valid_loss: 0.1438 - valid_acc: 96.5000\n",
      "val_acc did not improve from 96.7500\n",
      "Epoch: 064 - train_loss: 0.0069 - train_acc: 100.0000 - valid_loss: 0.1470 - valid_acc: 96.4375\n",
      "val_acc did not improve from 96.7500\n",
      "Epoch: 065 - train_loss: 0.0079 - train_acc: 100.0000 - valid_loss: 0.1483 - valid_acc: 96.4375\n",
      "val_acc did not improve from 96.7500\n",
      "Epoch: 066 - train_loss: 0.0060 - train_acc: 100.0000 - valid_loss: 0.1483 - valid_acc: 96.4375\n",
      "val_acc did not improve from 96.7500\n",
      "Epoch: 067 - train_loss: 0.0065 - train_acc: 100.0000 - valid_loss: 0.1482 - valid_acc: 96.5000\n",
      "val_acc did not improve from 96.7500\n",
      "Epoch: 068 - train_loss: 0.0046 - train_acc: 100.0000 - valid_loss: 0.1480 - valid_acc: 96.5625\n",
      "val_acc did not improve from 96.7500\n",
      "Epoch: 069 - train_loss: 0.0055 - train_acc: 100.0000 - valid_loss: 0.1479 - valid_acc: 96.5625\n",
      "val_acc did not improve from 96.7500\n",
      "Epoch: 070 - train_loss: 0.0086 - train_acc: 100.0000 - valid_loss: 0.1477 - valid_acc: 96.5625\n",
      "val_acc did not improve from 96.7500\n",
      "Epoch: 071 - train_loss: 0.0073 - train_acc: 100.0000 - valid_loss: 0.1472 - valid_acc: 96.5000\n",
      "val_acc did not improve from 96.7500\n",
      "Epoch: 072 - train_loss: 0.0059 - train_acc: 100.0000 - valid_loss: 0.1472 - valid_acc: 96.5000\n",
      "val_acc did not improve from 96.7500\n",
      "Epoch: 073 - train_loss: 0.0050 - train_acc: 100.0000 - valid_loss: 0.1479 - valid_acc: 96.5000\n",
      "val_acc did not improve from 96.7500\n",
      "Epoch: 074 - train_loss: 0.0048 - train_acc: 100.0000 - valid_loss: 0.1484 - valid_acc: 96.5000\n",
      "val_acc did not improve from 96.7500\n",
      "Epoch: 075 - train_loss: 0.0073 - train_acc: 100.0000 - valid_loss: 0.1488 - valid_acc: 96.5000\n",
      "val_acc did not improve from 96.7500\n",
      "Epoch: 076 - train_loss: 0.0049 - train_acc: 100.0000 - valid_loss: 0.1493 - valid_acc: 96.5000\n",
      "val_acc did not improve from 96.7500\n",
      "Epoch: 077 - train_loss: 0.0065 - train_acc: 100.0000 - valid_loss: 0.1500 - valid_acc: 96.5000\n",
      "val_acc did not improve from 96.7500\n",
      "Epoch: 078 - train_loss: 0.0075 - train_acc: 100.0000 - valid_loss: 0.1503 - valid_acc: 96.5000\n",
      "val_acc did not improve from 96.7500\n",
      "Epoch: 079 - train_loss: 0.0046 - train_acc: 100.0000 - valid_loss: 0.1503 - valid_acc: 96.5000\n",
      "val_acc did not improve from 96.7500\n",
      "Epoch: 080 - train_loss: 0.0048 - train_acc: 100.0000 - valid_loss: 0.1498 - valid_acc: 96.5000\n",
      "val_acc did not improve from 96.7500\n",
      "Epoch: 081 - train_loss: 0.0048 - train_acc: 100.0000 - valid_loss: 0.1497 - valid_acc: 96.5000\n",
      "val_acc did not improve from 96.7500\n",
      "Epoch: 082 - train_loss: 0.0041 - train_acc: 100.0000 - valid_loss: 0.1498 - valid_acc: 96.5000\n",
      "val_acc did not improve from 96.7500\n",
      "Epoch: 083 - train_loss: 0.0046 - train_acc: 100.0000 - valid_loss: 0.1501 - valid_acc: 96.5625\n",
      "val_acc did not improve from 96.7500\n",
      "Epoch: 084 - train_loss: 0.0039 - train_acc: 100.0000 - valid_loss: 0.1512 - valid_acc: 96.5000\n",
      "val_acc did not improve from 96.7500\n",
      "Epoch: 085 - train_loss: 0.0044 - train_acc: 100.0000 - valid_loss: 0.1521 - valid_acc: 96.5000\n",
      "val_acc did not improve from 96.7500\n",
      "Epoch: 086 - train_loss: 0.0056 - train_acc: 100.0000 - valid_loss: 0.1532 - valid_acc: 96.5000\n",
      "val_acc did not improve from 96.7500\n",
      "Epoch: 087 - train_loss: 0.0038 - train_acc: 100.0000 - valid_loss: 0.1545 - valid_acc: 96.5000\n",
      "val_acc did not improve from 96.7500\n",
      "Epoch: 088 - train_loss: 0.0058 - train_acc: 100.0000 - valid_loss: 0.1551 - valid_acc: 96.5000\n",
      "val_acc did not improve from 96.7500\n",
      "Epoch: 089 - train_loss: 0.0042 - train_acc: 100.0000 - valid_loss: 0.1551 - valid_acc: 96.5000\n",
      "val_acc did not improve from 96.7500\n",
      "Epoch: 090 - train_loss: 0.0040 - train_acc: 100.0000 - valid_loss: 0.1549 - valid_acc: 96.5000\n",
      "val_acc did not improve from 96.7500\n",
      "Epoch: 091 - train_loss: 0.0038 - train_acc: 100.0000 - valid_loss: 0.1544 - valid_acc: 96.5000\n",
      "val_acc did not improve from 96.7500\n",
      "Epoch: 092 - train_loss: 0.0034 - train_acc: 100.0000 - valid_loss: 0.1541 - valid_acc: 96.5000\n",
      "val_acc did not improve from 96.7500\n",
      "Epoch: 093 - train_loss: 0.0058 - train_acc: 100.0000 - valid_loss: 0.1545 - valid_acc: 96.5000\n",
      "val_acc did not improve from 96.7500\n",
      "Epoch: 094 - train_loss: 0.0036 - train_acc: 100.0000 - valid_loss: 0.1545 - valid_acc: 96.5000\n",
      "val_acc did not improve from 96.7500\n",
      "Epoch: 095 - train_loss: 0.0042 - train_acc: 100.0000 - valid_loss: 0.1548 - valid_acc: 96.5000\n",
      "val_acc did not improve from 96.7500\n",
      "Epoch: 096 - train_loss: 0.0062 - train_acc: 100.0000 - valid_loss: 0.1552 - valid_acc: 96.5000\n",
      "val_acc did not improve from 96.7500\n",
      "Epoch: 097 - train_loss: 0.0046 - train_acc: 100.0000 - valid_loss: 0.1566 - valid_acc: 96.4375\n",
      "val_acc did not improve from 96.7500\n",
      "Epoch: 098 - train_loss: 0.0037 - train_acc: 100.0000 - valid_loss: 0.1574 - valid_acc: 96.4375\n",
      "val_acc did not improve from 96.7500\n",
      "Epoch: 099 - train_loss: 0.0064 - train_acc: 100.0000 - valid_loss: 0.1576 - valid_acc: 96.4375\n",
      "val_acc did not improve from 96.7500\n",
      "Epoch: 100 - train_loss: 0.0043 - train_acc: 100.0000 - valid_loss: 0.1573 - valid_acc: 96.4375\n",
      "val_acc did not improve from 96.7500\n",
      "Training Time: 24.26 seconds\n",
      "*******************************************************\n"
     ]
    }
   ],
   "source": [
    "tic = time.time()\n",
    "acc_list = [0.00]\n",
    "path = './model/finetune_mcnn.pt'\n",
    "\n",
    "for epoch in range(args.epoches):\n",
    "    # 计算的是移动平均准确率\n",
    "    train_acc, train_loss = train(maskedtree, train_loader, criterion, optimizer)\n",
    "    valid_acc, valid_loss = valid(maskedtree, valid_loader, criterion)\n",
    "    print(\"Epoch: {:03d} - train_loss: {:.4f} - train_acc: {:.4f} - valid_loss: {:.4f} - valid_acc: {:.4f}\".\\\n",
    "          format(epoch+1, train_loss, train_acc, valid_loss, valid_acc))\n",
    "    scheduler.step()\n",
    "\n",
    "    acc_list.append(valid_acc)\n",
    "    if acc_list[-1] > acc_list[-2]:\n",
    "        print(\"val_acc improved from {:.4f} to {:.4f}, saving model to finetune_mcnn.pt\".format(acc_list[-2], acc_list[-1]))\n",
    "        torch.save(maskedtree.state_dict(), path)\n",
    "    else:\n",
    "        print(\"val_acc did not improve from {:.4f}\".format(acc_list[-2]))\n",
    "        acc_list[-1] = acc_list[-2]\n",
    "  \n",
    "toc = time.time()\n",
    "print(\"Training Time: {:.2f} seconds\".format(toc-tic))\n",
    "print(\"*******************************************************\")"
   ]
  },
  {
   "cell_type": "markdown",
   "id": "ef7d377f-b3f0-4a64-9185-b9c406f14eaf",
   "metadata": {},
   "source": [
    "## Testing"
   ]
  },
  {
   "cell_type": "code",
   "execution_count": 41,
   "id": "1b0e04df-7a7a-4fc3-87a6-3405e03e2bb5",
   "metadata": {},
   "outputs": [
    {
     "name": "stdout",
     "output_type": "stream",
     "text": [
      "done\n"
     ]
    }
   ],
   "source": [
    "path = './model/finetune_mcnn.pt'\n",
    "\n",
    "maskedtree.load_state_dict(torch.load(path))\n",
    "maskedtree.eval()\n",
    "print('done')"
   ]
  },
  {
   "cell_type": "code",
   "execution_count": 42,
   "id": "84006afe-fbe2-405b-9bee-57d3d86382a7",
   "metadata": {},
   "outputs": [],
   "source": [
    "tar_test, pre_test = test(maskedtree, test_loader)\n",
    "OA_test, AA_mean_test, Kappa_test, AA_test = output_metric(tar_test, pre_test)\n",
    "AA_test = np.around(AA_test*100, 2)"
   ]
  },
  {
   "cell_type": "code",
   "execution_count": 43,
   "id": "9418a4b0-4ecb-4319-951c-e39b6db8aca3",
   "metadata": {},
   "outputs": [
    {
     "name": "stdout",
     "output_type": "stream",
     "text": [
      "*******************************************************************\n",
      "Final result:\n",
      "OA: 92.88, AA: 96.82, Kappa: 0.9210\n",
      "*******************************************************************\n",
      "Recal: [ 97.65 100.    99.54  98.55  93.85 100.    97.09  76.65  97.97  97.49\n",
      "  99.81  99.84 100.   100.    91.03  99.61]\n",
      "*******************************************************************\n",
      "Parameter:\n",
      "dataset: Salinas\n",
      "flag_test: train\n",
      "gpu_id: 0\n",
      "seed: 42\n",
      "batch_size: 128\n",
      "patch_size: 15\n",
      "epoches: 100\n",
      "learning_rate: 0.001\n",
      "gamma: 0.99\n",
      "train_number: 10\n",
      "pretrain_proportion: 0.5\n",
      "*******************************************************************\n"
     ]
    }
   ],
   "source": [
    "print(\"*******************************************************************\")\n",
    "print(\"Final result:\")\n",
    "print(\"OA: {:.2f}, AA: {:.2f}, Kappa: {:.4f}\".format(OA_test * 100., AA_mean_test*100., Kappa_test))\n",
    "print(\"*******************************************************************\")\n",
    "print(\"Recal: {}\".format(AA_test))\n",
    "print(\"*******************************************************************\")\n",
    "print(\"Parameter:\")\n",
    "print_args(vars(args))\n",
    "print(\"*******************************************************************\")"
   ]
  },
  {
   "cell_type": "code",
   "execution_count": 44,
   "id": "72e35662-0889-442f-8da3-e87d5521e9e0",
   "metadata": {},
   "outputs": [],
   "source": [
    "average_accuracy = str(list(AA_test))\n",
    "file_name = \"./CR/mcnn_1.txt\"\n",
    "\n",
    "with open(file_name, 'w') as x_file:\n",
    "    x_file.write(\"[{:.2f}, {:.2f}, {:.4f}]\".format(OA_test * 100., AA_mean_test*100., Kappa_test))\n",
    "    x_file.write('\\n')\n",
    "    x_file.write('{}'.format(average_accuracy))"
   ]
  },
  {
   "cell_type": "markdown",
   "id": "7f9ed82a-498f-4bc4-b3fc-fe0acca6f0b5",
   "metadata": {},
   "source": [
    "## Panoramic Classification"
   ]
  },
  {
   "cell_type": "code",
   "execution_count": 45,
   "id": "52b65e6e-7aeb-4d06-a990-1c7e9cdf9d32",
   "metadata": {},
   "outputs": [],
   "source": [
    "def output_label(model, loader):\n",
    "    model.eval()\n",
    "    pre = np.array([]).astype('int')\n",
    "    with torch.no_grad():\n",
    "        for batch_idx, (batch_data, batch_target) in enumerate(loader):\n",
    "            batch_data = batch_data.cuda()\n",
    "            batch_pred = model(batch_data)  # (B, 9)\n",
    "            _, pred = batch_pred.topk(1, axis=1)  # (B, 1)\n",
    "            pp = pred.squeeze()\n",
    "            pre = np.append(pre, pp.data.cpu().numpy())\n",
    "    return pre"
   ]
  },
  {
   "cell_type": "code",
   "execution_count": 46,
   "id": "f854bf86-b2ee-4603-836d-908818eb508b",
   "metadata": {},
   "outputs": [
    {
     "name": "stdout",
     "output_type": "stream",
     "text": [
      "*******************************************************\n",
      "x_forward shape = (54129, 15, 15, 15), type = float64\n",
      "x_backward  shape = (56975, 15, 15, 15), type = float64\n",
      "*******************************************************\n"
     ]
    }
   ],
   "source": [
    "pos_forward, pos_backward = choose_all_pixels(label)\n",
    "\n",
    "x_forward, x_backward, y_forward, y_backward = all_data(mirror_data, band, pos_forward, pos_backward, patch_size=15)"
   ]
  },
  {
   "cell_type": "code",
   "execution_count": 47,
   "id": "d8f0895d-72ad-4e32-8608-83304725f204",
   "metadata": {},
   "outputs": [
    {
     "name": "stdout",
     "output_type": "stream",
     "text": [
      "torch.Size([54129, 15, 15, 15])\n",
      "torch.Size([56975, 15, 15, 15])\n"
     ]
    }
   ],
   "source": [
    "# load data\n",
    "x_forward = torch.from_numpy(x_forward.transpose(0, 3, 1, 2)).type(torch.FloatTensor)\n",
    "print(x_forward.shape)\n",
    "y_forward = torch.from_numpy(y_forward).type(torch.LongTensor)  # (13,)\n",
    "forward_label = Data.TensorDataset(x_forward, y_forward)\n",
    "\n",
    "x_backward = torch.from_numpy(x_backward.transpose(0, 3, 1, 2)).type(torch.FloatTensor)\n",
    "print(x_backward.shape)\n",
    "y_backward = torch.from_numpy(y_backward).type(torch.LongTensor)  # (13,)\n",
    "backward_label = Data.TensorDataset(x_backward, y_backward)\n",
    "\n",
    "forward_loader = Data.DataLoader(forward_label, batch_size=128, shuffle=False)\n",
    "backward_loader = Data.DataLoader(backward_label, batch_size=128, shuffle=False)"
   ]
  },
  {
   "cell_type": "code",
   "execution_count": 48,
   "id": "06d749b7-c25a-42e2-8592-6fe6a8d46041",
   "metadata": {},
   "outputs": [],
   "source": [
    "# output classification maps\n",
    "pre_forward = output_label(maskedtree, forward_loader)\n",
    "pre_backward = output_label(maskedtree, backward_loader)\n",
    "\n",
    "prediction_matrix = np.zeros((height, width), dtype=float)  # (512, 614)\n",
    "for i in range(pos_forward.shape[0]):\n",
    "    prediction_matrix[pos_forward[i, 0], pos_forward[i, 1]] = pre_forward[i] + 1\n",
    "\n",
    "for j in range(pos_backward.shape[0]):\n",
    "    prediction_matrix[pos_backward[j, 0], pos_backward[j, 1]] = pre_backward[j] + 1"
   ]
  },
  {
   "cell_type": "code",
   "execution_count": 49,
   "id": "1ba83363-4a5f-4a71-976f-107d80e7f2fb",
   "metadata": {},
   "outputs": [
    {
     "data": {
      "image/png": "[encoded data removed]",
      "text/plain": [
       "<Figure size 144.667x341.333 with 1 Axes>"
      ]
     },
     "metadata": {},
     "output_type": "display_data"
    }
   ],
   "source": [
    "predict_map = list_to_colormap(prediction_matrix.ravel())\n",
    "predict_map = np.reshape(predict_map, (height, width, 3))\n",
    "\n",
    "classification_map(predict_map, './salinas_mcnn.pdf')"
   ]
  },
  {
   "cell_type": "code",
   "execution_count": null,
   "id": "b2234d72-5f8d-4e72-8837-0c264df2ac96",
   "metadata": {},
   "outputs": [],
   "source": []
  },
  {
   "cell_type": "code",
   "execution_count": null,
   "id": "bcf41140-7b52-49c1-b9f1-2faad8771961",
   "metadata": {},
   "outputs": [],
   "source": []
  }
 ],
 "metadata": {
  "kernelspec": {
   "display_name": "Python 3 (ipykernel)",
   "language": "python",
   "name": "python3"
  },
  "language_info": {
   "codemirror_mode": {
    "name": "ipython",
    "version": 3
   },
   "file_extension": ".py",
   "mimetype": "text/x-python",
   "name": "python",
   "nbconvert_exporter": "python",
   "pygments_lexer": "ipython3",
   "version": "3.10.12"
  }
 },
 "nbformat": 4,
 "nbformat_minor": 5
}
